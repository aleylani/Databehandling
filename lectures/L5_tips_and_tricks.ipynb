{
 "cells": [
  {
   "cell_type": "code",
   "execution_count": null,
   "metadata": {},
   "outputs": [],
   "source": [
    "import pandas as pd "
   ]
  },
  {
   "cell_type": "code",
   "execution_count": null,
   "metadata": {},
   "outputs": [],
   "source": [
    "data = {\n",
    "    'Name': ['John', 'Alice', 'Bob', 'John', 'Eve', 'Alice', 'Chris', 'David', 'Eve', 'Bob'],\n",
    "    'Age': [28, 25, 22, 28, 30, 25, 35, 32, 30, 22],\n",
    "    'City': ['New York', 'Los Angeles', 'Chicago', 'New York', 'San Francisco', 'Los Angeles', 'Chicago', 'New York', 'San Francisco', 'Los Angeles'],\n",
    "    'Department': ['HR', 'Engineering', 'Finance', 'HR', 'Engineering', 'Engineering', 'Finance', 'HR', 'Engineering', 'Finance'],\n",
    "    'Salary': [60000, 75000, 55000, 60000, 85000, 75000, 58000, 61000, 85000, 55000]\n",
    "}\n",
    "\n",
    "\n",
    "df = pd.DataFrame(data)"
   ]
  },
  {
   "cell_type": "code",
   "execution_count": null,
   "metadata": {},
   "outputs": [],
   "source": [
    "df"
   ]
  },
  {
   "cell_type": "markdown",
   "metadata": {},
   "source": [
    "Hitta & ta bort duplicerade rader"
   ]
  },
  {
   "cell_type": "code",
   "execution_count": null,
   "metadata": {},
   "outputs": [],
   "source": [
    "df.duplicated()"
   ]
  },
  {
   "cell_type": "code",
   "execution_count": null,
   "metadata": {},
   "outputs": [],
   "source": [
    "my_duplicates_df = df[df.duplicated()]\n",
    "\n",
    "my_duplicates_df"
   ]
  },
  {
   "cell_type": "code",
   "execution_count": null,
   "metadata": {},
   "outputs": [],
   "source": [
    "my_unique_df = df[~df.duplicated()]\n",
    "\n",
    "my_unique_df"
   ]
  },
  {
   "cell_type": "markdown",
   "metadata": {},
   "source": [
    "metod 2: .drop_duplicates() metoden"
   ]
  },
  {
   "cell_type": "code",
   "execution_count": null,
   "metadata": {},
   "outputs": [],
   "source": [
    "df.drop_duplicates()"
   ]
  },
  {
   "cell_type": "code",
   "execution_count": null,
   "metadata": {},
   "outputs": [],
   "source": [
    "# argumentet inplace supportas av en del metoder, och kommer då att reassigna din df till resultatet av din operation direkt, utan att du själv behöver assigna den\n",
    "\n",
    "# df.drop_duplicates(inplace=True)"
   ]
  },
  {
   "cell_type": "markdown",
   "metadata": {},
   "source": [
    "**Att spara dataframes!**"
   ]
  },
  {
   "cell_type": "code",
   "execution_count": null,
   "metadata": {},
   "outputs": [],
   "source": [
    "df"
   ]
  },
  {
   "cell_type": "code",
   "execution_count": null,
   "metadata": {},
   "outputs": [],
   "source": [
    "df.to_csv('exempeldata.csv') # obs, viktigt att du anger .csv i namnet!"
   ]
  },
  {
   "cell_type": "markdown",
   "metadata": {},
   "source": [
    "**show counts för stora dataset**"
   ]
  },
  {
   "cell_type": "code",
   "execution_count": null,
   "metadata": {},
   "outputs": [],
   "source": [
    "df.info(show_counts=True) # show_counts tvingar Pandas att ge er non-null counts även för större dataset"
   ]
  },
  {
   "cell_type": "markdown",
   "metadata": {},
   "source": [
    "**.apply()**"
   ]
  },
  {
   "cell_type": "code",
   "execution_count": null,
   "metadata": {},
   "outputs": [],
   "source": [
    "df"
   ]
  },
  {
   "cell_type": "code",
   "execution_count": null,
   "metadata": {},
   "outputs": [],
   "source": [
    "df['Age']+1 # vissa enklare transformationer på kolumner kan man göra direkt"
   ]
  },
  {
   "cell_type": "code",
   "execution_count": null,
   "metadata": {},
   "outputs": [],
   "source": [
    "df['Salary']"
   ]
  },
  {
   "cell_type": "markdown",
   "metadata": {},
   "source": [
    "Vår uppgift är följande:\n",
    "\n",
    "Vi ska bestämma procentuell ökning av lön för varje anställd. Ju lägre lön du har, desto större procentuell ökning ska du få.\n",
    "\n",
    "50000 < lön < 60000 --> 5%\n",
    "\n",
    "60000 < lön < 70000 --> 4%\n",
    "\n",
    "70000 < lön < 80000 --> 3%\n",
    "\n",
    "80000 < lön < 90000 --> 2%\n"
   ]
  },
  {
   "cell_type": "code",
   "execution_count": null,
   "metadata": {},
   "outputs": [],
   "source": [
    "def procentuell_ökning(lön):\n",
    "\n",
    "    '''Den här funktionen tar in en lön, och spottar ur sig procentuell ökning'''\n",
    "\n",
    "    if 50000 < lön <= 60000:\n",
    "        ökning = '5%'\n",
    "    elif 60000 < lön <= 70000:\n",
    "        ökning = '4%'\n",
    "    elif 70000 < lön <= 80000:\n",
    "        ökning = '3%'\n",
    "    elif 80000 < lön <= 90000:\n",
    "        ökning = '2%'\n",
    "\n",
    "    return ökning"
   ]
  },
  {
   "cell_type": "code",
   "execution_count": null,
   "metadata": {},
   "outputs": [],
   "source": [
    "df['Salary']"
   ]
  },
  {
   "cell_type": "code",
   "execution_count": null,
   "metadata": {},
   "outputs": [],
   "source": [
    "df['Salary'].apply(procentuell_ökning)"
   ]
  },
  {
   "cell_type": "code",
   "execution_count": null,
   "metadata": {},
   "outputs": [],
   "source": [
    "df['Inbound salary increase'] = df['Salary'].apply(procentuell_ökning)"
   ]
  },
  {
   "cell_type": "code",
   "execution_count": null,
   "metadata": {},
   "outputs": [],
   "source": [
    "df"
   ]
  },
  {
   "cell_type": "code",
   "execution_count": null,
   "metadata": {},
   "outputs": [],
   "source": [
    "def procentuell_ökning_v2(lön):\n",
    "\n",
    "    '''Den här funktionen tar in en lön, och spottar ur sig procentuell ökning'''\n",
    "\n",
    "    if 50000 < lön <= 60000:\n",
    "        ökning = 1.05\n",
    "    elif 60000 < lön <= 70000:\n",
    "        ökning = 1.04\n",
    "    elif 70000 < lön <= 80000:\n",
    "        ökning = 1.03\n",
    "    elif 80000 < lön <= 90000:\n",
    "        ökning = 1.02\n",
    "\n",
    "    return ökning"
   ]
  },
  {
   "cell_type": "code",
   "execution_count": null,
   "metadata": {},
   "outputs": [],
   "source": [
    "df['Inbound salary increase v2'] = df['Salary'].apply(procentuell_ökning_v2)"
   ]
  },
  {
   "cell_type": "code",
   "execution_count": null,
   "metadata": {},
   "outputs": [],
   "source": [
    "df"
   ]
  },
  {
   "cell_type": "code",
   "execution_count": null,
   "metadata": {},
   "outputs": [],
   "source": [
    "df['Salary after increase'] = df['Salary']*df['Inbound salary increase v2']"
   ]
  },
  {
   "cell_type": "code",
   "execution_count": null,
   "metadata": {},
   "outputs": [],
   "source": [
    "df"
   ]
  },
  {
   "cell_type": "markdown",
   "metadata": {},
   "source": []
  },
  {
   "cell_type": "code",
   "execution_count": null,
   "metadata": {},
   "outputs": [],
   "source": [
    "def full_caps_names(name):\n",
    "\n",
    "    result = name.upper()\n",
    "\n",
    "    return result"
   ]
  },
  {
   "cell_type": "code",
   "execution_count": null,
   "metadata": {},
   "outputs": [],
   "source": [
    "df['Name'].apply(full_caps_names)"
   ]
  },
  {
   "cell_type": "code",
   "execution_count": null,
   "metadata": {},
   "outputs": [],
   "source": [
    "df['City'].apply(full_caps_names)"
   ]
  },
  {
   "cell_type": "markdown",
   "metadata": {},
   "source": [
    "**Small tip to make multi-index columns more tangible**"
   ]
  },
  {
   "cell_type": "code",
   "execution_count": null,
   "metadata": {},
   "outputs": [],
   "source": [
    "df['Name'].value_counts()"
   ]
  },
  {
   "cell_type": "code",
   "execution_count": null,
   "metadata": {},
   "outputs": [],
   "source": [
    "df['Name'].value_counts().reset_index()"
   ]
  },
  {
   "cell_type": "code",
   "execution_count": null,
   "metadata": {},
   "outputs": [],
   "source": [
    "my_multi_index_series = df.groupby(['Department','Name'])['Salary'].sum()"
   ]
  },
  {
   "cell_type": "code",
   "execution_count": null,
   "metadata": {},
   "outputs": [],
   "source": [
    "my_multi_index_series"
   ]
  },
  {
   "cell_type": "markdown",
   "metadata": {},
   "source": [
    "För multiindex så indexerar man varje index för sig"
   ]
  },
  {
   "cell_type": "code",
   "execution_count": null,
   "metadata": {},
   "outputs": [],
   "source": [
    "my_multi_index_series['Engineering']"
   ]
  },
  {
   "cell_type": "code",
   "execution_count": null,
   "metadata": {},
   "outputs": [],
   "source": [
    "my_multi_index_series['Engineering']['Eve']"
   ]
  },
  {
   "cell_type": "markdown",
   "metadata": {},
   "source": [
    "Men, ibland kan det vara mer nice att jobba med DataFrames snarare än multi-index Series"
   ]
  },
  {
   "cell_type": "code",
   "execution_count": null,
   "metadata": {},
   "outputs": [],
   "source": [
    "my_multi_index_series.reset_index()"
   ]
  },
  {
   "cell_type": "code",
   "execution_count": null,
   "metadata": {},
   "outputs": [],
   "source": []
  }
 ],
 "metadata": {
  "kernelspec": {
   "display_name": "databehandling",
   "language": "python",
   "name": "python3"
  },
  "language_info": {
   "codemirror_mode": {
    "name": "ipython",
    "version": 3
   },
   "file_extension": ".py",
   "mimetype": "text/x-python",
   "name": "python",
   "nbconvert_exporter": "python",
   "pygments_lexer": "ipython3",
   "version": "3.11.5"
  }
 },
 "nbformat": 4,
 "nbformat_minor": 2
}
