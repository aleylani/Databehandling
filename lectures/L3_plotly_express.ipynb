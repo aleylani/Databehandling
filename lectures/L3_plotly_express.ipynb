{
 "cells": [
  {
   "cell_type": "markdown",
   "metadata": {},
   "source": [
    "\n",
    "<a href=\"https://colab.research.google.com/github/aleylani/Databehandling/blob/main/lectures/L2-plotly-express.ipynb\" target=\"_parent\"><img align=\"left\" src=\"https://colab.research.google.com/assets/colab-badge.svg\" alt=\"Open In Colab\"/></a> &nbsp; for interacting with the code"
   ]
  },
  {
   "cell_type": "markdown",
   "metadata": {},
   "source": [
    "---\n",
    "# Lecture notes - Plotly express - interactive data visualisation\n",
    "\n",
    "---\n",
    "This is the lecture note for **Plotly express** - but it's built upon contents from pandas and previous course: \n",
    "- Python programming\n",
    "\n",
    "<p class = \"alert alert-info\" role=\"alert\"><b>Note</b> that this lecture note gives a brief introduction to Plotly express. I encourage you to read further about Plotly express.\n",
    "\n",
    "Install:\n",
    "```py\n",
    "conda install -c plotly plotly\n",
    "conda install -c plotly plotly_express\n",
    "conda install nbformat\n",
    "```\n",
    "\n",
    "Read more \n",
    "- [Plotly express intro](https://plotly.com/python/plotly-express/)\n",
    "- [Plotly bar charts](https://plotly.com/python/bar-charts/)\n",
    "- [Plotly line charts](https://plotly.com/python/line-charts/)\n",
    "- [Pie chart](https://plotly.com/python/pie-charts/)\n",
    "- [Plotly scatter plots](https://plotly.com/python/line-and-scatter/)\n",
    "\n",
    "---"
   ]
  },
  {
   "cell_type": "markdown",
   "metadata": {},
   "source": [
    "## Setup"
   ]
  },
  {
   "cell_type": "code",
   "execution_count": null,
   "metadata": {
    "vscode": {
     "languageId": "plaintext"
    }
   },
   "outputs": [],
   "source": [
    "# this is for installing for Colab, uncomment and run this cell only while in Colab\n",
    "# !pip install plotly_express"
   ]
  },
  {
   "cell_type": "code",
   "execution_count": null,
   "metadata": {},
   "outputs": [],
   "source": [
    "import plotly_express as px \n",
    "gapminder = px.data.gapminder()\n",
    "\n",
    "# compare nordic countries \n",
    "nordic = gapminder[gapminder[\"country\"].isin([\"Sweden\", \"Norway\", \"Iceland\", \"Denmark\", \"Finland\"])]\n",
    "nordic2007 = nordic[nordic[\"year\"]==2007]\n",
    "\n",
    "nordic.country.value_counts()"
   ]
  },
  {
   "cell_type": "code",
   "execution_count": null,
   "metadata": {},
   "outputs": [],
   "source": [
    "sweden = gapminder[gapminder[\"country\"] == \"Sweden\"]\n",
    "sweden.head()"
   ]
  },
  {
   "cell_type": "markdown",
   "metadata": {},
   "source": [
    "---\n",
    "## Bar chart"
   ]
  },
  {
   "cell_type": "code",
   "execution_count": null,
   "metadata": {},
   "outputs": [],
   "source": [
    "fig = px.bar(sweden, x=\"year\", y=\"pop\", range_y=[\n",
    "       5e6, 10e6], title=f\"Population in Sweden {sweden['year'].min()}-{sweden['year'].min()}\",\n",
    "       labels = dict(year=\"Year\", pop=\"Population\")) # NOTE: year and pop in labels dictionary are the previous names \n",
    "\n",
    "fig.show() # install nbformat >= 4.2.0 and jupyter notebook renderer extension "
   ]
  },
  {
   "cell_type": "code",
   "execution_count": null,
   "metadata": {},
   "outputs": [],
   "source": [
    "\n",
    "# compare Nordic countries \n",
    "fig = px.bar(nordic2007, x=\"country\", y=\"gdpPercap\", color=\"country\", title=\"Nordic countries GDP per cap year 2007\")\n",
    "fig.show()"
   ]
  },
  {
   "cell_type": "markdown",
   "metadata": {},
   "source": [
    "---\n",
    "## Line chart"
   ]
  },
  {
   "cell_type": "code",
   "execution_count": null,
   "metadata": {},
   "outputs": [],
   "source": [
    "fig = px.line(sweden, x=\"year\", y=\"gdpPercap\", title=\"GDP per capita Sweden\")\n",
    "fig.show()"
   ]
  },
  {
   "cell_type": "markdown",
   "metadata": {},
   "source": [
    "## Some hover settings\n",
    "\n",
    "vertical line code snippet from: \n",
    "[stackoverflow](https://stackoverflow.com/questions/68686624/how-to-add-a-vertical-line-to-a-graph-by-mouse-position-dynamically-in-plotly-l) "
   ]
  },
  {
   "cell_type": "code",
   "execution_count": null,
   "metadata": {},
   "outputs": [],
   "source": [
    "# adding some useful settings\n",
    "fig = px.line(nordic, x=\"year\", y=\"gdpPercap\", color=\"country\",\n",
    "              title=\"Nordic countries GDP per capita 1952-2007\",\n",
    "              labels={\"gdpPercap\":\"GDP per capita\"})\n",
    "\n",
    "fig.update_layout(hovermode=\"x\")\n",
    "fig.update_xaxes(\n",
    "    showspikes=True,\n",
    "    spikedash=\"solid\",\n",
    "    spikecolor=\"green\",\n",
    "    spikemode=\"across\",\n",
    "    spikesnap=\"cursor\"\n",
    ")\n",
    "\n",
    "fig.show()\n"
   ]
  },
  {
   "cell_type": "markdown",
   "metadata": {},
   "source": [
    "---\n",
    "## Pie chart"
   ]
  },
  {
   "cell_type": "code",
   "execution_count": null,
   "metadata": {},
   "outputs": [],
   "source": [
    "fig = px.pie(nordic2007, values=\"pop\", title=\"Population of nordic countries\", names=\"country\",\n",
    "             hover_data=[\"gdpPercap\"])\n",
    "\n",
    "fig.update_traces(textinfo=\"label+percent\")\n",
    "fig.show()"
   ]
  },
  {
   "cell_type": "markdown",
   "metadata": {},
   "source": [
    "---\n",
    "## Gapminder - bubble chart\n",
    "\n",
    "- bubble chart using scatter\n",
    "- many dimensions can be shown using bubble charts as you can control:\n",
    "    - size\n",
    "    - x, y\n",
    "    - hover data\n",
    "    - color \n",
    "    - ...\n",
    "- [code source](https://towardsdatascience.com/recreating-gapminder-animation-in-2-lines-of-python-with-plotly-express-2060c73bedec)\n",
    "- run the code in a python script for animation to work"
   ]
  },
  {
   "cell_type": "code",
   "execution_count": null,
   "metadata": {},
   "outputs": [],
   "source": [
    "gapminder.head()"
   ]
  },
  {
   "cell_type": "code",
   "execution_count": null,
   "metadata": {},
   "outputs": [],
   "source": [
    "len(gapminder[\"country\"].unique())"
   ]
  },
  {
   "cell_type": "code",
   "execution_count": null,
   "metadata": {},
   "outputs": [],
   "source": [
    "fig = px.scatter(gapminder, x=\"gdpPercap\", y=\"lifeExp\",\n",
    "           size=\"pop\", color=\"country\", size_max=70, log_x=True,\n",
    "           animation_frame=\"year\", animation_group=\"country\", title=\"Gapminder\",\n",
    "           range_x=[100, 100000], range_y=[25,90])\n",
    "fig.show()\n"
   ]
  }
 ],
 "metadata": {
  "kernelspec": {
   "display_name": "Python 3.9.9 ('Databehandling-AI22-mq3U8BWY')",
   "language": "python",
   "name": "python3"
  },
  "language_info": {
   "codemirror_mode": {
    "name": "ipython",
    "version": 3
   },
   "file_extension": ".py",
   "mimetype": "text/x-python",
   "name": "python",
   "nbconvert_exporter": "python",
   "pygments_lexer": "ipython3",
   "version": "3.9.9"
  },
  "orig_nbformat": 4,
  "vscode": {
   "interpreter": {
    "hash": "99d2aeb892b75b646558ed378bf7fc4f020b27183f0dec07a5c4105939e629f3"
   }
  }
 },
 "nbformat": 4,
 "nbformat_minor": 2
}
