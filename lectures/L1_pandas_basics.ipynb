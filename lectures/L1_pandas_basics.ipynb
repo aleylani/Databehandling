{
 "cells": [
  {
   "cell_type": "markdown",
   "metadata": {},
   "source": [
    "\n",
    "<a href=\"https://colab.research.google.com/github/aleylani/Databehandling/blob/main/lectures/L1_pandas_basics.ipynb\" target=\"_parent\"><img align=\"left\" src=\"https://colab.research.google.com/assets/colab-badge.svg\" alt=\"Open In Colab\"/></a> &nbsp; for interacting with the code"
   ]
  },
  {
   "cell_type": "markdown",
   "metadata": {},
   "source": [
    "---\n",
    "# Lecture notes - Pandas basics\n",
    "\n",
    "---\n",
    "This is the lecture note for **Pandas basics** - but it's built upon contents from previous course: \n",
    "- Python programming\n",
    "\n",
    "<p class = \"alert alert-info\" role=\"alert\"><b>Note</b> that this lecture note gives a brief introduction to Pandas. I encourage you to read further about pandas.\n",
    "\n",
    "Read more \n",
    "\n",
    "- [documentation - Series](https://pandas.pydata.org/pandas-docs/stable/reference/api/pandas.Series.html#pandas.Series)\n",
    "\n",
    "- [documentation - pandas](https://pandas.pydata.org/pandas-docs/stable/getting_started/index.html)\n",
    "\n",
    "- [documentation - DataFrame](https://pandas.pydata.org/pandas-docs/stable/reference/api/pandas.DataFrame.html?highlight=dataframe#pandas.DataFrame)\n",
    "\n",
    "- [documentation - read_csv](https://pandas.pydata.org/pandas-docs/stable/reference/api/pandas.read_csv.html)\n",
    "\n",
    "- [documentation - indexing](https://pandas.pydata.org/pandas-docs/stable/user_guide/indexing.html)\n",
    "\n",
    "- [documentation - masking](https://pandas.pydata.org/docs/reference/api/pandas.DataFrame.mask.html)\n",
    "\n",
    "- [documentation - read_excel](https://pandas.pydata.org/docs/reference/api/pandas.read_excel.html)\n",
    "\n",
    "- [documentation - seaborn barplot](https://seaborn.pydata.org/generated/seaborn.barplot.html)\n",
    "---"
   ]
  },
  {
   "cell_type": "markdown",
   "metadata": {},
   "source": [
    "## Pandas Series\n",
    "\n",
    "1D array with flexible indices. Series can be seened as a \"typed dictionary\". The typing makes it more efficient than dictionary in certain computations\n",
    "- create from dictionary \n",
    "- create from list \n",
    "- create from array "
   ]
  },
  {
   "cell_type": "code",
   "execution_count": null,
   "metadata": {},
   "outputs": [],
   "source": [
    "import numpy as np\n",
    "import pandas as pd"
   ]
  },
  {
   "cell_type": "code",
   "execution_count": null,
   "metadata": {},
   "outputs": [],
   "source": [
    " data = dict(AI = 25, NET = 30 , APP = 30, Java = 27) # number of students\n",
    "\n",
    "series_programs = pd.Series(data=data)\n",
    "print(series_programs)\n",
    "\n",
    "# extract values \n",
    "print(f\"series_programs[0] -> {series_programs[0]}\")\n",
    "print(f\"series_programs[-1] -> {series_programs[-1]}\")\n",
    "\n",
    "# get the keys\n",
    "print(f\"series_programs.keys() -> {series_programs.keys()}\") \n",
    "print(f\"series_programs.keys()[2] -> {series_programs.keys()[2]}\") "
   ]
  },
  {
   "cell_type": "code",
   "execution_count": null,
   "metadata": {},
   "outputs": [],
   "source": [
    "import random as rnd\n",
    "rnd.seed(42)\n",
    "\n",
    "# create Series using list\n",
    "dice_series = pd.Series([rnd.randint(1,6) for _ in range(5)])\n",
    "print(dice_series)\n",
    "\n",
    "# some useful methods\n",
    "print(f\"Min value {dice_series.min()}\")\n",
    "print(f\"Mean value {dice_series.mean()}\")\n",
    "print(f\"Median value {dice_series.median()}\")"
   ]
  },
  {
   "cell_type": "markdown",
   "metadata": {},
   "source": [
    "---\n",
    "## DataFrame\n",
    "Analog of 2D Numpy array with flexible row indices and col names. Can also be seened as specialized dictionary where each col name is mapped to a Series object. \n",
    "\n",
    "- notice that for all operations on DataFrames, we get a return value, which means that you have to assign it to a variable for the changes to persist"
   ]
  },
  {
   "cell_type": "code",
   "execution_count": null,
   "metadata": {},
   "outputs": [],
   "source": [
    "df_programs = pd.DataFrame(series_programs,columns=(\"Num students\",))\n",
    "df_programs"
   ]
  },
  {
   "cell_type": "code",
   "execution_count": null,
   "metadata": {},
   "outputs": [],
   "source": [
    "# create 2 Series objects using dictionary\n",
    "students = pd.Series(dict(AI = 25, NET = 30 , APP = 30, Java = 27))\n",
    "language = pd.Series(dict(AI=\"Python\", NET=\"C#\", APP=\"Kotlin\", Java = \"Java\"))\n",
    "\n",
    "# create a DataFrame from 2 Series objects using dictionary\n",
    "df_programs = pd.DataFrame({\"Students\":students, \"Language\":language}) # key becomes col name\n",
    "df_programs"
   ]
  },
  {
   "cell_type": "markdown",
   "metadata": {},
   "source": [
    "from array"
   ]
  },
  {
   "cell_type": "code",
   "execution_count": null,
   "metadata": {},
   "outputs": [],
   "source": [
    "df_programs = pd.DataFrame({\n",
    "    \"Students\": np.array((25, 30, 30, 27)),\n",
    "    \"Language\": np.array((\"Python\", \"C#\", \"Kotlin\", \"Java\"))})\n",
    "df_programs"
   ]
  },
  {
   "cell_type": "markdown",
   "metadata": {},
   "source": [
    "from list"
   ]
  },
  {
   "cell_type": "code",
   "execution_count": null,
   "metadata": {},
   "outputs": [],
   "source": [
    "df_programs = pd.DataFrame({\n",
    "    \"Students\": [25, 30, 30, 27],\n",
    "    \"Language\": [\"Python\", \"C#\", \"Kotlin\", \"Java\"]},\n",
    "    index = [\"AI\", \".NET\", \"APP\", \"Java\"])\n",
    "df_programs"
   ]
  },
  {
   "cell_type": "code",
   "execution_count": null,
   "metadata": {},
   "outputs": [],
   "source": [
    "import numpy as np\n",
    "# can also be created directly\n",
    "df_programs = pd.DataFrame({\n",
    "    \"Students\": np.array((25, 30, 30, 27)),\n",
    "    \"Language\": np.array((\"Python\", \"C#\", \"Kotlin\", \"Java\"))},\n",
    "    index = [\"AI\", \".NET\", \"APP\", \"Java\"])\n",
    "df_programs"
   ]
  },
  {
   "cell_type": "code",
   "execution_count": null,
   "metadata": {},
   "outputs": [],
   "source": [
    "df_programs.index # dtype object is used for text or mixed numeric or non-numeric values"
   ]
  },
  {
   "cell_type": "markdown",
   "metadata": {},
   "source": [
    "---\n",
    "## Data selection\n",
    "- dictionary-style indexing\n",
    "- attribute-style indexing\n",
    "    - can give unexpected errors as some methods can share same name as col name   "
   ]
  },
  {
   "cell_type": "code",
   "execution_count": null,
   "metadata": {},
   "outputs": [],
   "source": [
    "# gives a Series object of Students \n",
    "df_programs[\"Students\"] # dictionary indexing"
   ]
  },
  {
   "cell_type": "code",
   "execution_count": null,
   "metadata": {},
   "outputs": [],
   "source": [
    "# select multiple columns using list \n",
    "df_programs[[\"Language\", \"Students\"]]"
   ]
  },
  {
   "cell_type": "code",
   "execution_count": null,
   "metadata": {},
   "outputs": [],
   "source": [
    "df_programs.Language # attribute indexing"
   ]
  },
  {
   "cell_type": "code",
   "execution_count": null,
   "metadata": {},
   "outputs": [],
   "source": [
    "df_programs[\"Language\"][\".NET\"] # selects the Language Series and indexes .NET"
   ]
  },
  {
   "cell_type": "markdown",
   "metadata": {},
   "source": [
    "---\n",
    "## Indexers\n",
    "Gives a slicing interface for the indices. loc and iloc are attributes of Series and DataFrame objects.\n",
    "\n",
    "| Indexer | Description                                         |\n",
    "| :-----: | --------------------------------------------------- |\n",
    "|   loc   | slicing and indexing referencing explicit index     |\n",
    "|  iloc   | slicing and indexing referencing Python-style index |"
   ]
  },
  {
   "cell_type": "code",
   "execution_count": null,
   "metadata": {},
   "outputs": [],
   "source": [
    "print(df_programs.loc[\"Java\"])\n",
    "\n",
    "# index multiple rows\n",
    "df_programs.loc[[\"Java\", \"APP\"]]"
   ]
  },
  {
   "cell_type": "code",
   "execution_count": null,
   "metadata": {},
   "outputs": [],
   "source": [
    "# slicing with array-style indices\n",
    "df_programs.iloc[1:3]"
   ]
  },
  {
   "cell_type": "markdown",
   "metadata": {},
   "source": [
    "---\n",
    "## Masking\n",
    "Replaces values where the condition is True\n",
    "\n",
    "```py\n",
    "df = df[conditions]"
   ]
  },
  {
   "cell_type": "code",
   "execution_count": null,
   "metadata": {},
   "outputs": [],
   "source": [
    "print(df_programs[\"Students\"] > 25) # this gives a pandas Series of type bool \n",
    "\n",
    "df_over_25 = df_programs[df_programs[\"Students\"]>25]\n",
    "df_over_25"
   ]
  },
  {
   "cell_type": "markdown",
   "metadata": {},
   "source": [
    "---\n",
    "## Read excel data\n",
    "- reads an .xlsx-file and stores it as DataFrame object\n",
    "\n",
    "Data comes from: [kaggle calory data](https://www.kaggle.com/kkhandekar/calories-in-food-items-per-100-grams)"
   ]
  },
  {
   "cell_type": "code",
   "execution_count": null,
   "metadata": {},
   "outputs": [],
   "source": [
    "import pandas as pd \n",
    "import matplotlib.pyplot as plt \n",
    "import seaborn as sns # used for plotting \n",
    "\n",
    "df = pd.read_excel(\"../Data/calories.xlsx\")\n",
    "df.head() # see the first n rows of DataFrame, n = 5 by default "
   ]
  },
  {
   "cell_type": "code",
   "execution_count": null,
   "metadata": {},
   "outputs": [],
   "source": [
    "df.info() # info about df (dtypes, non-null values and memory usage)"
   ]
  },
  {
   "cell_type": "code",
   "execution_count": null,
   "metadata": {},
   "outputs": [],
   "source": [
    "df[\"FoodCategory\"].unique() # see liquids and solid foods"
   ]
  },
  {
   "cell_type": "code",
   "execution_count": null,
   "metadata": {},
   "outputs": [],
   "source": [
    "df[\"per100grams\"].unique()"
   ]
  },
  {
   "cell_type": "markdown",
   "metadata": {},
   "source": [
    "---\n",
    "## Data cleaning \n",
    "\n",
    "- notice that all data types are object, need to type convert to int\n",
    "Strategy\n",
    "- change column names\n",
    "- convert Cals_per100grams to int to make calculations with it\n",
    "- separate into liquids and solid dfs "
   ]
  },
  {
   "cell_type": "code",
   "execution_count": null,
   "metadata": {},
   "outputs": [],
   "source": [
    "df = df.rename(dict(Cals_per100grams=\"Calories\",\n",
    "               per100grams=\"per100\", KJ_per100grams=\"kJ\"), axis=\"columns\")\n",
    "df.head()\n"
   ]
  },
  {
   "cell_type": "code",
   "execution_count": null,
   "metadata": {},
   "outputs": [],
   "source": [
    "# convert Calories to int \n",
    "df[\"Calories\"] = df[\"Calories\"].str[:-3].astype(int)\n",
    "df.head()"
   ]
  },
  {
   "cell_type": "code",
   "execution_count": null,
   "metadata": {},
   "outputs": [],
   "source": [
    "# check number of values in solids and liquids\n",
    "df[\"per100\"].value_counts()"
   ]
  },
  {
   "cell_type": "code",
   "execution_count": null,
   "metadata": {},
   "outputs": [],
   "source": [
    "liquids = df[df[\"per100\"] == \"100ml\"]\n",
    "liquids.head(2)"
   ]
  },
  {
   "cell_type": "code",
   "execution_count": null,
   "metadata": {},
   "outputs": [],
   "source": [
    "solids = df[df[\"per100\"] == \"100g\"]\n",
    "solids.head(2)"
   ]
  },
  {
   "cell_type": "markdown",
   "metadata": {},
   "source": [
    "---\n",
    "## Find out top 5 categories of highest calories"
   ]
  },
  {
   "cell_type": "code",
   "execution_count": null,
   "metadata": {},
   "outputs": [],
   "source": [
    "solids_sorted = solids.sort_values(by=\"Calories\", ascending=False) # sorting descending by Calories column\n",
    "solids_top5 = solids_sorted.iloc[:5] # Python-way slicing\n",
    "solids_top5"
   ]
  },
  {
   "cell_type": "code",
   "execution_count": null,
   "metadata": {},
   "outputs": [],
   "source": [
    "liquids_top5 = liquids.sort_values(by=\"Calories\", ascending=False).head()\n",
    "liquids_top5"
   ]
  },
  {
   "cell_type": "code",
   "execution_count": null,
   "metadata": {},
   "outputs": [],
   "source": [
    "# top five food categories \n",
    "top5_median = df.groupby(\"FoodCategory\").median().sort_values(by=\"Calories\", ascending=False).head().reset_index()\n",
    "top5_median"
   ]
  },
  {
   "cell_type": "code",
   "execution_count": null,
   "metadata": {},
   "outputs": [],
   "source": [
    "# visualization using seaborn\n",
    "fig, axes = plt.subplots(1,3, dpi=120, figsize=(16,4))\n",
    "\n",
    "titles = [\"Solid top 5\", \"Liquids top 5\", \"Top 5 per group median\"]\n",
    "data_frames = [solids_top5, liquids_top5, top5_median]\n",
    "x_column = [\"FoodItem\", \"FoodItem\", \"FoodCategory\"]\n",
    "\n",
    "for i, (data, title) in enumerate(zip(data_frames, titles)): \n",
    "    sns.barplot(data = data, x=x_column[i], y=\"Calories\", ax = axes[i])\n",
    "    axes[i].set(title=title)\n",
    "    axes[i].set_xticklabels(axes[i].get_xticklabels(), rotation=90)\n",
    "plt.savefig(\"../Visualisations/Calories.png\", facecolor=\"white\", bbox_inches=\"tight\")"
   ]
  }
 ],
 "metadata": {
  "kernelspec": {
   "display_name": "Python 3.10.1 64-bit",
   "language": "python",
   "name": "python3"
  },
  "language_info": {
   "codemirror_mode": {
    "name": "ipython",
    "version": 3
   },
   "file_extension": ".py",
   "mimetype": "text/x-python",
   "name": "python",
   "nbconvert_exporter": "python",
   "pygments_lexer": "ipython3",
   "version": "3.11.4"
  },
  "orig_nbformat": 4,
  "vscode": {
   "interpreter": {
    "hash": "7e1998ff7f8aa20ada591c520b972326324e5ea05489af9e422744c7c09f6dad"
   }
  }
 },
 "nbformat": 4,
 "nbformat_minor": 2
}
