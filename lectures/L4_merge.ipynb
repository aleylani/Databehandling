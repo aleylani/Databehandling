{
 "cells": [
  {
   "cell_type": "markdown",
   "metadata": {},
   "source": [
    "\n",
    "<a href=\"https://colab.research.google.com/github/aleylani/Databehandling/blob/main/lectures/L4_merge.ipynb\" target=\"_parent\"><img align=\"left\" src=\"https://colab.research.google.com/assets/colab-badge.svg\" alt=\"Open In Colab\"/></a> &nbsp; for interacting with the code"
   ]
  },
  {
   "cell_type": "markdown",
   "metadata": {},
   "source": [
    "---\n",
    "# Lecture notes - Merge, join, concatenate, append, read_html\n",
    "---\n",
    "\n",
    "This is the lecture note for **data wrangling** - but it's built upon contents from pandas and previous course: \n",
    "- Python programming\n",
    "\n",
    "<p class = \"alert alert-info\" role=\"alert\"><b>Note</b> that this lecture note gives a brief introduction to merging. I encourage you to read further about merging.\n",
    "\n",
    "Read more \n",
    "- [Merge, join, concatenate ...](https://pandas.pydata.org/docs/user_guide/merging.html)\n",
    "\n",
    "- [read_html()](https://pandas.pydata.org/docs/reference/api/pandas.read_html.html?highlight=read_html#pandas.read_html)\n",
    "\n",
    "- [append()](https://pandas.pydata.org/docs/reference/api/pandas.DataFrame.append.html)\n",
    "\n",
    "---"
   ]
  },
  {
   "cell_type": "markdown",
   "metadata": {},
   "source": [
    "## Setup\n",
    "- creating 3 DataFrames"
   ]
  },
  {
   "cell_type": "code",
   "execution_count": null,
   "metadata": {},
   "outputs": [],
   "source": [
    "np.arange(16)"
   ]
  },
  {
   "cell_type": "code",
   "execution_count": null,
   "metadata": {},
   "outputs": [],
   "source": [
    "import pandas as pd \n",
    "import numpy as np \n",
    "\n",
    "df1 = pd.DataFrame(np.arange(16).reshape(4,4), columns=list(\"ABCD\"))\n",
    "df2 = pd.DataFrame(np.zeros((3,4)), columns=list(\"ABCD\"))\n",
    "df3 = pd.DataFrame(np.ones((4,3)), index=[1,5,10,15])\n",
    "df1"
   ]
  },
  {
   "cell_type": "code",
   "execution_count": null,
   "metadata": {},
   "outputs": [],
   "source": [
    "df2"
   ]
  },
  {
   "cell_type": "code",
   "execution_count": null,
   "metadata": {},
   "outputs": [],
   "source": [
    "df3"
   ]
  },
  {
   "cell_type": "markdown",
   "metadata": {},
   "source": [
    "---\n",
    "## Concat\n",
    "\n",
    "- concatenates pandas objects along particular axis\n",
    "- there are optional set logic along other axes\n",
    "- concat() copies the data, if using concat() on many datasets, use list comprehensions\n",
    "\n",
    "Set logic: \n",
    "\n",
    "<img src=\"../assets/outer-inner-join.png\" width=500/>\n",
    "\n",
    "left side: $A\\cup B$ (union)\n",
    "\n",
    "right side: $A\\cap B$ (intersection)"
   ]
  },
  {
   "cell_type": "code",
   "execution_count": null,
   "metadata": {},
   "outputs": [],
   "source": [
    "# same column names, just add the second df rows to the first\n",
    "pd.concat([df1,df2]) # by default axis = 0 or \"rows\""
   ]
  },
  {
   "cell_type": "code",
   "execution_count": null,
   "metadata": {},
   "outputs": [],
   "source": [
    "# concats on the index \n",
    "# NOTE: NaNs due to df2 shape is (3,4) while df1 shape is (4,4)\n",
    "pd.concat([df1,df2], axis = \"columns\")"
   ]
  },
  {
   "cell_type": "code",
   "execution_count": null,
   "metadata": {},
   "outputs": [],
   "source": [
    "# NOTE: index 1 is shared while others are not \n",
    "pd.concat([df1,df3], axis = 1)  # join=\"outer by default\""
   ]
  },
  {
   "cell_type": "code",
   "execution_count": null,
   "metadata": {},
   "outputs": [],
   "source": []
  },
  {
   "cell_type": "code",
   "execution_count": null,
   "metadata": {},
   "outputs": [],
   "source": [
    "# inner join - set logic intersection \"A and B\"\n",
    "pd.concat([df1,df3], axis = 1, join=\"inner\") "
   ]
  },
  {
   "cell_type": "markdown",
   "metadata": {},
   "source": [
    "---\n",
    "## Append\n",
    "\n",
    "NOTE: append will become deprecated - use concat instead\n",
    "\n",
    "Specific case of concat\n",
    "- concatenates along axis 0 \n",
    "- join = outer\n",
    "- can't choose other axis or joins\n",
    "- doesn't modify original df unlike in append for lists"
   ]
  },
  {
   "cell_type": "code",
   "execution_count": null,
   "metadata": {},
   "outputs": [],
   "source": [
    "df1.append(df2, ignore_index=True) # simple "
   ]
  },
  {
   "cell_type": "markdown",
   "metadata": {},
   "source": [
    "---\n",
    "## Merge\n",
    "\n",
    "- high performance join operations similar to relational databases\n",
    "- performance is faster using merge/join in Pandas than in SQL\n",
    "\n",
    "Relational algebra\n",
    "- one-to-one - joining 2 dfs on their index\n",
    "- many-to-one - joining a unique index to ≥ 1 cols in different df\n",
    "- many-to-many - joining columns on columns"
   ]
  },
  {
   "cell_type": "code",
   "execution_count": null,
   "metadata": {},
   "outputs": [],
   "source": [
    "# merge\n",
    "left = pd.DataFrame({\"key\": [\"K0\", \"K0\", \"K1\", \"K2\"],\n",
    "                     \"A\": [\"A0\", \"A1\", \"A2\", \"A3\"],\n",
    "                     \"B\": [\"B0\", \"B1\", \"B2\", \"B3\"],\n",
    "                     })\n",
    "right = pd.DataFrame({\"keys\": [\"K0\", \"K1\", \"K2\", \"K3\"],\n",
    "                     \"C\": [\"C0\", \"C1\", \"C2\", \"C3\"],\n",
    "                      \"D\": [\"D0\", \"D1\", \"D2\", \"D3\"]},\n",
    "                      index=[1,2,3,4])\n",
    "print(left)\n",
    "print(right)\n"
   ]
  },
  {
   "cell_type": "code",
   "execution_count": null,
   "metadata": {},
   "outputs": [],
   "source": [
    "left"
   ]
  },
  {
   "cell_type": "code",
   "execution_count": null,
   "metadata": {},
   "outputs": [],
   "source": [
    "right"
   ]
  },
  {
   "cell_type": "code",
   "execution_count": null,
   "metadata": {},
   "outputs": [],
   "source": [
    "pd.merge(left, right)"
   ]
  },
  {
   "cell_type": "code",
   "execution_count": null,
   "metadata": {},
   "outputs": [],
   "source": [
    "# note on column must be found in both left and right\n",
    "pd.merge(left, right, on=\"key\", indicator=True) # how= \"inner\" default\n"
   ]
  },
  {
   "cell_type": "code",
   "execution_count": null,
   "metadata": {},
   "outputs": [],
   "source": [
    "right"
   ]
  },
  {
   "cell_type": "code",
   "execution_count": null,
   "metadata": {},
   "outputs": [],
   "source": [
    "# note that for key K3 there is only the right one and there is NaN in col A,B because \n",
    "# outer join is a union between left and right \n",
    "left.merge(right, on=[\"key1\"], how=\"outer\", indicator=True)"
   ]
  },
  {
   "cell_type": "code",
   "execution_count": null,
   "metadata": {},
   "outputs": [],
   "source": [
    "left.merge(right, on=\"key\", how=\"left\", indicator=True)"
   ]
  },
  {
   "cell_type": "code",
   "execution_count": null,
   "metadata": {},
   "outputs": [],
   "source": [
    "left = pd.DataFrame(\n",
    "    {\n",
    "        \"key1\": [\"K0\", \"K0\", \"K1\", \"K2\"],\n",
    "        \"key2\": [\"K0\", \"K1\", \"K0\", \"K1\"],\n",
    "        \"A\": [\"A0\", \"A1\", \"A2\", \"A3\"],\n",
    "        \"B\": [\"B0\", \"B1\", \"B2\", \"B3\"],\n",
    "    }\n",
    ")\n",
    "\n",
    "right = pd.DataFrame(\n",
    "    {\n",
    "        \"key1\": [\"K0\", \"K1\", \"K1\", \"K2\"],\n",
    "        \"key2\": [\"K0\", \"K0\", \"K0\", \"K0\"],\n",
    "        \"A\": [\"A0\", \"C1\", \"C2\", \"C3\"],\n",
    "        \"D\": [\"D0\", \"D1\", \"D2\", \"D3\"],\n",
    "    }\n",
    ")\n",
    "\n",
    "print(left)\n",
    "\n",
    "print(right)\n",
    "\n",
    "# A_x is from left, A_y is from right, since A exist in both dataframes\n",
    "# only keys present in left\n",
    "left.merge(right, on=[\"key1\", \"key2\"], how=\"left\", indicator=True)"
   ]
  },
  {
   "cell_type": "code",
   "execution_count": null,
   "metadata": {},
   "outputs": [],
   "source": [
    "# keys in right\n",
    "left.merge(right, on=[\"key1\", \"key2\"], how=\"right\", indicator=True, suffixes=[\"_left\",\"_right\"])"
   ]
  },
  {
   "cell_type": "markdown",
   "metadata": {},
   "source": [
    "---\n",
    "\n",
    "## Join\n",
    "- combine cols of two potentially different index dfs\n",
    "- uses merge internally"
   ]
  },
  {
   "cell_type": "code",
   "execution_count": null,
   "metadata": {},
   "outputs": [],
   "source": [
    "left = pd.DataFrame(\n",
    "    {\"A\": [\"A0\", \"A1\", \"A2\"], \"B\": [\"B0\", \"B1\", \"B2\"]}, index=[\"K0\", \"K1\", \"K2\"]\n",
    ")\n",
    "\n",
    "\n",
    "right = pd.DataFrame(\n",
    "    {\"C\": [\"C0\", \"C2\", \"C3\"], \"D\": [\"D0\", \"D2\", \"D3\"]}, index=[\"K0\", \"K2\", \"K3\"]\n",
    ")\n",
    "left, right\n"
   ]
  },
  {
   "cell_type": "code",
   "execution_count": null,
   "metadata": {},
   "outputs": [],
   "source": [
    "left.join(right) # joins on left"
   ]
  },
  {
   "cell_type": "code",
   "execution_count": null,
   "metadata": {},
   "outputs": [],
   "source": [
    "right.join(left) # joins on right"
   ]
  },
  {
   "cell_type": "code",
   "execution_count": null,
   "metadata": {},
   "outputs": [],
   "source": [
    "left.join(right, how = \"inner\")"
   ]
  },
  {
   "cell_type": "markdown",
   "metadata": {},
   "source": [
    "---\n",
    "## Webscrape HTML tables \n",
    "\n",
    "- [solve SSLCertVerificationError on mac](https://stackoverflow.com/questions/68275857/urllib-error-urlerror-urlopen-error-ssl-certificate-verify-failed-certifica)\n",
    "\n",
    "\n"
   ]
  },
  {
   "cell_type": "code",
   "execution_count": null,
   "metadata": {},
   "outputs": [],
   "source": [
    "import pandas as pd"
   ]
  },
  {
   "cell_type": "code",
   "execution_count": null,
   "metadata": {},
   "outputs": [],
   "source": []
  },
  {
   "cell_type": "code",
   "execution_count": null,
   "metadata": {},
   "outputs": [],
   "source": [
    "tables_list = pd.read_html(\n",
    "    \"https://en.wikipedia.org/wiki/List_of_potentially_habitable_exoplanets\")\n",
    "\n",
    "tables_list.__len__()"
   ]
  },
  {
   "cell_type": "code",
   "execution_count": null,
   "metadata": {},
   "outputs": [],
   "source": [
    "tables_list[4].head()"
   ]
  },
  {
   "cell_type": "code",
   "execution_count": null,
   "metadata": {},
   "outputs": [],
   "source": [
    "df = tables_list[0] # first table in the html page \n",
    "df.head()"
   ]
  },
  {
   "cell_type": "code",
   "execution_count": null,
   "metadata": {},
   "outputs": [],
   "source": [
    "fifa_tables = pd.read_html(\"https://en.wikipedia.org/wiki/FIFA_World_Cup\", match=\"Highest attendances\")\n",
    "\n",
    "fifa_tables[0].head()"
   ]
  },
  {
   "cell_type": "code",
   "execution_count": null,
   "metadata": {},
   "outputs": [],
   "source": [
    "len(fifa_tables)"
   ]
  },
  {
   "cell_type": "code",
   "execution_count": null,
   "metadata": {},
   "outputs": [],
   "source": []
  }
 ],
 "metadata": {
  "kernelspec": {
   "display_name": "Python 3.9.9 ('Databehandling-AI22-mq3U8BWY')",
   "language": "python",
   "name": "python3"
  },
  "language_info": {
   "codemirror_mode": {
    "name": "ipython",
    "version": 3
   },
   "file_extension": ".py",
   "mimetype": "text/x-python",
   "name": "python",
   "nbconvert_exporter": "python",
   "pygments_lexer": "ipython3",
   "version": "3.11.4"
  },
  "orig_nbformat": 4,
  "vscode": {
   "interpreter": {
    "hash": "99d2aeb892b75b646558ed378bf7fc4f020b27183f0dec07a5c4105939e629f3"
   }
  }
 },
 "nbformat": 4,
 "nbformat_minor": 2
}
