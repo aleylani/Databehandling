{
 "cells": [
  {
   "cell_type": "markdown",
   "metadata": {},
   "source": [
    "\n",
    "<a href=\"https://colab.research.google.com/github/aleylani/Databehandling/blob/main/exercises/E1_pandas_basic_syntax.ipynb\" target=\"_parent\"><img align=\"left\" src=\"https://colab.research.google.com/assets/colab-badge.svg\" alt=\"Open In Colab\"/></a> &nbsp; to see hints and answers."
   ]
  },
  {
   "cell_type": "markdown",
   "metadata": {},
   "source": [
    "# pandas fundamentals exercises\n",
    "\n",
    "---\n",
    "These are introductory exercises in Pandas with focus in **syntax, DataFrame, indexing, data selection** and **data cleaning**.\n",
    "\n",
    "<p class = \"alert alert-info\" role=\"alert\"><b>Note</b> that there are usually many ways to achieve same results using operations in pandas. Feel free to investigate several ways. </p>\n",
    "\n",
    "<p class = \"alert alert-info\" role=\"alert\"><b>Note</b> that in cases when you start to repeat code, try not to. Create functions to reuse code instead. </p>\n",
    "\n",
    "<p class = \"alert alert-info\" role=\"alert\"><b>Remember</b> to use <b>descriptive variable, function, index </b> and <b> column names</b> in order to get readable code </p>\n",
    "\n",
    "<p class = \"alert alert-info\" role=\"alert\"><b>Remember</b> to format your input questions in a pedagogical way to guide the user\n",
    "\n",
    "The number of stars (\\*), (\\*\\*), (\\*\\*\\*) denotes the difficulty level of the task\n",
    "\n",
    "---"
   ]
  },
  {
   "cell_type": "markdown",
   "metadata": {},
   "source": [
    "## 1. Cities in Sweden - create dataset (*)\n",
    "\n",
    "Create this DataFrame from scratch: \n",
    "\n",
    "|    | Kommun    |   Population |\n",
    "|---:|:----------|-------------:|\n",
    "|  0 | Malmö     |       347949 |\n",
    "|  1 | Stockholm |       975551 |\n",
    "|  2 | Uppsala   |       233839 |\n",
    "|  3 | Göteborg  |       583056 |\n",
    "\n",
    "&nbsp; a) Use your DataFrame to print out all the cities. (*)\n",
    "\n",
    "&nbsp; b) Select only the row which contains Göteborg. Do this by using the name Göteborg. (*)\n",
    "\n",
    "&nbsp; c) Sort the cities by population from largest to smallest. (*)\n",
    "\n",
    "&nbsp; d) Filter out the three largest cities. (*)\n",
    "\n",
    "&nbsp; e) The whole population in Sweden 2020 is 10379295. Use this number to create a new column in your sorted DataFrame named: Population (%). This column should be filled with percentage of the Swedish population for each city. \n",
    "\n",
    "\n",
    "<details>\n",
    "\n",
    "<summary>Answer</summary>\n",
    "\n",
    "a) \n",
    "\n",
    "```\n",
    "0        Malmö\n",
    "1    Stockholm\n",
    "2      Uppsala\n",
    "3     Göteborg\n",
    "```\n",
    "\n",
    "b)\n",
    "\n",
    "|    | Kommun   |   Population |\n",
    "|---:|:---------|-------------:|\n",
    "|  3 | Göteborg |       583056 |\n",
    "\n",
    "c) \n",
    "\n",
    "|    | Kommun    |   Population |\n",
    "|---:|:----------|-------------:|\n",
    "|  0 | Stockholm |       975551 |\n",
    "|  1 | Göteborg  |       583056 |\n",
    "|  2 | Malmö     |       347949 |\n",
    "|  3 | Uppsala   |       233839 |\n",
    "\n",
    "\n",
    "d)\n",
    "\n",
    "|    | Kommun    |   Population |\n",
    "|---:|:----------|-------------:|\n",
    "|  0 | Stockholm |       975551 |\n",
    "|  1 | Göteborg  |       583056 |\n",
    "|  2 | Malmö     |       347949 |\n",
    "\n",
    "e)\n",
    "\n",
    "|    | Kommun    |   Population |   Population (%) |\n",
    "|---:|:----------|-------------:|-----------------:|\n",
    "|  0 | Stockholm |       975551 |              9.4 |\n",
    "|  1 | Göteborg  |       583056 |              5.6 |\n",
    "|  2 | Malmö     |       347949 |              3.4 |\n",
    "|  3 | Uppsala   |       233839 |              2.3 |\n",
    "\n",
    "</details>\n"
   ]
  },
  {
   "cell_type": "markdown",
   "metadata": {},
   "source": [
    "## STUDENT SOLUTION BELOW"
   ]
  },
  {
   "cell_type": "code",
   "execution_count": null,
   "metadata": {},
   "outputs": [],
   "source": [
    "import pandas as pd\n",
    "import numpy as np\n",
    "import random"
   ]
  },
  {
   "cell_type": "code",
   "execution_count": null,
   "metadata": {},
   "outputs": [],
   "source": [
    "Kommun = ['Malmö', 'Stockholm', 'Uppsala','Göteborg']\n",
    "Population = [347949, 975551, 233839, 583056]\n",
    "cities_dict = {'Kommun': Kommun, 'Population': Population}\n",
    "cities_df = pd.DataFrame(cities_dict)\n",
    "cities_df"
   ]
  },
  {
   "cell_type": "code",
   "execution_count": null,
   "metadata": {},
   "outputs": [],
   "source": [
    "# a )\n",
    "cities_df['Kommun']"
   ]
  },
  {
   "cell_type": "code",
   "execution_count": null,
   "metadata": {},
   "outputs": [],
   "source": [
    "# b) \n",
    "cities_df[cities_df['Kommun']=='Göteborg']"
   ]
  },
  {
   "cell_type": "code",
   "execution_count": null,
   "metadata": {},
   "outputs": [],
   "source": [
    "# c) \n",
    "cities_df.sort_values(by='Population', ascending=False)"
   ]
  },
  {
   "cell_type": "code",
   "execution_count": null,
   "metadata": {},
   "outputs": [],
   "source": [
    "# d) \n",
    "filter_descending = cities_df.sort_values(by='Population', ascending=False)\n",
    "filter_descending.iloc[:3]"
   ]
  },
  {
   "cell_type": "code",
   "execution_count": null,
   "metadata": {},
   "outputs": [],
   "source": [
    "# e) \n",
    "procent = round((cities_df[\"Population\"]/10379295) * 100, 1)\n",
    "\n",
    "cities_df['Population(%)']= procent\n",
    "cities_df"
   ]
  },
  {
   "cell_type": "markdown",
   "metadata": {},
   "source": [
    "---\n",
    "\n",
    "## 2. Cities in Sweden - real dataset (*)\n",
    "\n",
    "Download the file komtopp50_2020.xlsx from the course github repo. The data is taken from SCB. \n",
    "\n",
    "&nbsp; a) Read in the tab \"Totalt\" into a DataFrame and start exploring the data with some simple explorations such as\n",
    "\n",
    "```python\n",
    "df.head()\n",
    "df.info()\n",
    "df.describe()\n",
    "```\n",
    "\n",
    "Feel free to do more explorations. (*)\n",
    "\n",
    "&nbsp; b) Clean your data so that the head looks like this: (*)\n",
    "\n",
    "\n",
    "|    |   Rang 2020 |   Rang 2019 | Kommun   |   Folkmängd 2020 |   Folkmängd 2019 |   Förändring |\n",
    "|---:|------------:|------------:|:---------|-----------------:|-----------------:|-------------:|\n",
    "|  0 |          83 |          84 | Ale      |            31868 |            31402 |     1.48398  |\n",
    "|  1 |          64 |          64 | Alingsås |            41602 |            41420 |     0.439401 |\n",
    "|  2 |         123 |         123 | Alvesta  |            20224 |            20134 |     0.447005 |\n",
    "|  3 |         255 |         255 | Aneby    |             6821 |             6848 |    -0.394276 |\n",
    "|  4 |         169 |         167 | Arboga   |            14039 |            14087 |    -0.34074  |\n",
    "\n",
    "&nbsp; c) Sort the cities by population from largest to smallest. (*)\n",
    "\n",
    "&nbsp; d) Filter out the five smallest cities. (*)\n",
    "\n",
    "&nbsp; e) Use the DataFrame to calculate Sweden's population in 2019 and 2020. (*)\n",
    "\n",
    "&nbsp; f) Plot a bar chart for the five largest cities and the five smallest cities. (*) \n",
    "\n",
    "<details>\n",
    "\n",
    "<summary>Hint</summary>\n",
    "\n",
    "a) Use\n",
    "```python\n",
    "pd.read_excel(path, header = ..., usecols=\"Letter1:LetterN\", sheet_name=\"...\")\n",
    "```\n",
    "\n",
    "</details>\n",
    "\n",
    "<details>\n",
    "\n",
    "<summary>Answer</summary>\n",
    "\n",
    "b)\n",
    "\n",
    "|    | Kommun   |   Population |\n",
    "|---:|:---------|-------------:|\n",
    "|  3 | Göteborg |       583056 |\n",
    "\n",
    "c) \n",
    "\n",
    "\n",
    "|    |   Rang 2020 |   Rang 2019 | Kommun    |   Folkmängd 2020 |   Folkmängd 2019 |   Förändring |\n",
    "|---:|------------:|------------:|:----------|-----------------:|-----------------:|-------------:|\n",
    "|  0 |           1 |           1 | Stockholm |           975551 |           974073 |     0.151734 |\n",
    "|  1 |           2 |           2 | Göteborg  |           583056 |           579281 |     0.65167  |\n",
    "|  2 |           3 |           3 | Malmö     |           347949 |           344166 |     1.09918  |\n",
    "|  3 |           4 |           4 | Uppsala   |           233839 |           230767 |     1.33121  |\n",
    "|  4 |           5 |           5 | Linköping |           164616 |           163051 |     0.959822 |\n",
    "\n",
    "\n",
    "d)\n",
    "\n",
    "|     |   Rang 2020 |   Rang 2019 | Kommun   |   Folkmängd 2020 |   Folkmängd 2019 |   Förändring |\n",
    "|----:|------------:|------------:|:---------|-----------------:|-----------------:|-------------:|\n",
    "| 289 |         290 |         290 | Bjurholm |             2387 |             2408 |    -0.872093 |\n",
    "| 288 |         289 |         289 | Sorsele  |             2442 |             2489 |    -1.88831  |\n",
    "| 287 |         288 |         288 | Dorotea  |             2498 |             2551 |    -2.07762  |\n",
    "| 286 |         287 |         287 | Arjeplog |             2718 |             2785 |    -2.40575  |\n",
    "| 285 |         286 |         286 | Åsele    |             2805 |             2794 |     0.393701 |\n",
    "\n",
    "e)\n",
    "\n",
    "```\n",
    "Populationen i Sverige 2020: 10379295\n",
    "Populationen i Sverige 2019: 10327589\n",
    "```\n",
    "\n",
    "f)\n",
    "\n",
    "<img align=\"left\" src=\"../assets/city_sizes.png\" height=\"200\"/>\n",
    "\n",
    "</details>\n"
   ]
  },
  {
   "cell_type": "markdown",
   "metadata": {},
   "source": [
    "## STUDENT SOLUTION BELOW"
   ]
  },
  {
   "cell_type": "code",
   "execution_count": null,
   "metadata": {},
   "outputs": [],
   "source": [
    "#!!!!!!!!!!!!!!!!!!!!!!!!!!!!!!!!!!!!!!!!!!!!!!!!UPPGIFT 2!!!!!!!!!!!!!!!!!!!!!!!!!!!!!!!!!!!!!!!!!!!!!!!!!!!!!!!!!!!!!!!!!!\n",
    "import pandas as pd\n",
    "import matplotlib.pyplot as plt\n",
    "import numpy as np\n",
    "\n",
    "population_df = pd.read_excel(\"../../data/komtopp50_2020.xlsx\", sheet_name=\"Totalt\", header=6)\n",
    "population_df"
   ]
  },
  {
   "cell_type": "code",
   "execution_count": null,
   "metadata": {},
   "outputs": [],
   "source": [
    "population_df.head()"
   ]
  },
  {
   "cell_type": "code",
   "execution_count": null,
   "metadata": {},
   "outputs": [],
   "source": [
    "population_df.info()"
   ]
  },
  {
   "cell_type": "code",
   "execution_count": null,
   "metadata": {},
   "outputs": [],
   "source": [
    "population_df.describe()"
   ]
  },
  {
   "cell_type": "code",
   "execution_count": null,
   "metadata": {},
   "outputs": [],
   "source": [
    "population_df = population_df.rename(columns={2020:\"Rang 2020\",2019:\"Rang 2019\",\"Unnamed: 2\":\"Kommun\",\"2020.1\":\"Folkmängd 2020\",\"2019.1\":\"Folkmängd 2019\",\"%\":\"Förändring\"})\n",
    "population_df.head()"
   ]
  },
  {
   "cell_type": "code",
   "execution_count": null,
   "metadata": {},
   "outputs": [],
   "source": [
    "sorted_from_largest_to_smallest_df = population_df.sort_values(by=\"Rang 2020\",ascending=True).reset_index()\n",
    "\n",
    "sorted_from_largest_to_smallest_df= sorted_from_largest_to_smallest_df.drop(columns=\"index\")\n",
    "\n",
    "sorted_from_largest_to_smallest_df"
   ]
  },
  {
   "cell_type": "code",
   "execution_count": null,
   "metadata": {},
   "outputs": [],
   "source": [
    "sorted_from_smallest_to_largest_df = population_df.sort_values(by=\"Rang 2020\",ascending=False).reset_index()\n",
    "\n",
    "sorted_from_smallest_to_largest_df = sorted_from_smallest_to_largest_df.drop(columns=\"index\")\n",
    "\n",
    "sorted_from_smallest_to_largest_df"
   ]
  },
  {
   "cell_type": "code",
   "execution_count": null,
   "metadata": {},
   "outputs": [],
   "source": [
    "sum_population_sweden_2019 = population_df[\"Folkmängd 2019\"].sum()\n",
    "sum_population_sweden_2020 = population_df[\"Folkmängd 2020\"].sum()\n",
    "\n",
    "print(f\"Swedens total population in 2019 was: {sum_population_sweden_2019}\")\n",
    "print(f\"Swedens total population in 2020 was: {sum_population_sweden_2020}\")"
   ]
  },
  {
   "cell_type": "code",
   "execution_count": null,
   "metadata": {},
   "outputs": [],
   "source": [
    "top_5=sorted_from_largest_to_smallest_df.head(5)\n",
    "top_5"
   ]
  },
  {
   "cell_type": "code",
   "execution_count": null,
   "metadata": {},
   "outputs": [],
   "source": [
    "plt.bar(top_5[\"Kommun\"],top_5[\"Folkmängd 2020\"])\n",
    "plt.show()"
   ]
  },
  {
   "cell_type": "code",
   "execution_count": null,
   "metadata": {},
   "outputs": [],
   "source": [
    "last_5=sorted_from_largest_to_smallest_df.tail(5)\n",
    "plt.bar(last_5[\"Kommun\"],last_5[\"Folkmängd 2020\"])\n",
    "\n",
    "plt.show()"
   ]
  },
  {
   "cell_type": "markdown",
   "metadata": {},
   "source": [
    "---\n",
    "\n",
    "## 3. Cities in Sweden - gender (*)\n",
    "\n",
    "We continue with the same Excel-file as in task 2, but now you should also read in the sheets \"Kvinnor\" and \"Män\" into two additional DataFrames. In this task, many operations are similar to all three datasets, try creating custom made functions to reuse as much code as possible.\n",
    "\n",
    "&nbsp; a) Clean your data so that the head looks like this: (*)\n",
    "\n",
    "Male: \n",
    "\n",
    "|    |   Rang 2020 |   Rang 2019 | Kommun   |   Folkmängd 2020 |   Folkmängd 2019 |   Förändring | Kön   |\n",
    "|---:|------------:|------------:|:---------|-----------------:|-----------------:|-------------:|:------|\n",
    "|  0 |          81 |          83 | Ale      |            16256 |            16054 |     1.25825  | Man   |\n",
    "|  1 |          64 |          64 | Alingsås |            20702 |            20646 |     0.271239 | Man   |\n",
    "|  2 |         122 |         123 | Alvesta  |            10367 |            10339 |     0.270819 | Man   |\n",
    "|  3 |         255 |         255 | Aneby    |             3503 |             3498 |     0.142939 | Man   |\n",
    "|  4 |         169 |         168 | Arboga   |             7094 |             7114 |    -0.281136 | Man   |\n",
    "\n",
    "Female: \n",
    "\n",
    "|    |   Rang 2020 |   Rang 2019 | Kommun   |   Folkmängd 2020 |   Folkmängd 2019 |   Förändring | Kön    |\n",
    "|---:|------------:|------------:|:---------|-----------------:|-----------------:|-------------:|:-------|\n",
    "|  0 |          84 |          85 | Ale      |            15612 |            15348 |     1.72009  | Kvinna |\n",
    "|  1 |          64 |          64 | Alingsås |            20900 |            20774 |     0.606527 | Kvinna |\n",
    "|  2 |         123 |         123 | Alvesta  |             9857 |             9795 |     0.632976 | Kvinna |\n",
    "|  3 |         255 |         255 | Aneby    |             3318 |             3350 |    -0.955224 | Kvinna |\n",
    "|  4 |         165 |         164 | Arboga   |             6945 |             6973 |    -0.401549 | Kvinna |\n",
    "\n",
    "\n",
    "&nbsp; b) Merge the male and female DataFrames vertically and set index to \"Kommun\". Note that there now should be 580 rows now.  (*)\n",
    "\n",
    "|    | Kommun   |   Folkmängd 2020 |   Folkmängd 2019 |   Förändring | Kön   |\n",
    "|---:|:---------|-----------------:|-----------------:|-------------:|:------|\n",
    "|  0 | Ale      |            16256 |            16054 |     1.25825  | Man   |\n",
    "|  1 | Alingsås |            20702 |            20646 |     0.271239 | Man   |\n",
    "|   ...  | ...       | ...  | ...   | ...  | ...    |\n",
    "| 288 | Överkalix    |             1559 |             1578 |    -1.20406  | Kvinna |\n",
    "| 289 | Övertorneå   |             2027 |             2065 |    -1.84019  | Kvinna |\n",
    "\n",
    "&nbsp; c) Extract and change column name from the total DataFrame so that the head look like this: (*) \n",
    "\n",
    "|    | Kommun   |   Total Pop 2020 |   Total Pop 2019 |   Total förändring |\n",
    "|---:|:---------|-----------------:|-----------------:|-------------------:|\n",
    "|  0 | Ale      |            31868 |            31402 |           1.48398  |\n",
    "|  1 | Alingsås |            41602 |            41420 |           0.439401 |\n",
    "|  2 | Alvesta  |            20224 |            20134 |           0.447005 |\n",
    "|  3 | Aneby    |             6821 |             6848 |          -0.394276 |\n",
    "|  4 | Arboga   |            14039 |            14087 |          -0.34074  |\n",
    "\n",
    "&nbsp; d) Merge this data with the data in b) so that the head look like this: (*)\n",
    "\n",
    "| Kommun    |   Folkmängd 2020 |   Folkmängd 2019 |   Förändring | Kön    |   Total Pop 2020 |   Total Pop 2019 |   Total förändring |\n",
    "|:----------|-----------------:|-----------------:|-------------:|:-------|-----------------:|-----------------:|-------------------:|\n",
    "| Stockholm |           482982 |           482220 |     0.158019 | Man    |           975551 |           974073 |           0.151734 |\n",
    "| Stockholm |           492569 |           491853 |     0.145572 | Kvinna |           975551 |           974073 |           0.151734 |\n",
    "| Göteborg  |           292505 |           290308 |     0.756782 | Man    |           583056 |           579281 |           0.65167  |\n",
    "| Göteborg  |           290551 |           288973 |     0.546072 | Kvinna |           583056 |           579281 |           0.65167  |\n",
    "| Malmö     |           175411 |           173543 |     1.07639  | Kvinna |           347949 |           344166 |           1.09918  |\n",
    "\n",
    "&nbsp; e) Create barplots showing the gender populations of Swedens 10 largest and 10 smallest cities. (*) \n",
    " \n",
    "&nbsp; f) Create a pie chart showing the total male and female population in Sweden 2020. (*)\n",
    "\n",
    "&nbsp; g) Create a barplot showing the cities with the five largest percentual gender difference in 2020. (**)\n",
    "\n",
    "&nbsp; h) Create a barplot showing the top 5 cities with largest populational growth from 2019 to 2020 (**)\n",
    "\n",
    "&nbsp; i) Feel free to investigate other questions you are interested in using these datasets. (*), (**)\n",
    "\n",
    "<br/>\n",
    "\n",
    "<details>\n",
    "\n",
    "<summary>Hint</summary>\n",
    "\n",
    "f) You need to process the data first. For example\n",
    "\n",
    "- compute difference between males and females in 2020\n",
    "- use this difference to compute the differences in percentage\n",
    "- sort the values by this percentage difference\n",
    "- use seaborn barplot to plot, with the gender as hue\n",
    "\n",
    "</details>\n",
    "\n",
    "<br/>\n",
    "\n",
    "<details>\n",
    "\n",
    "<summary>Answer</summary>\n",
    "\n",
    "e)\n",
    "\n",
    "<img src=\"../assets/population_gender.png\" height=\"200\"/>\n",
    "\n",
    "f)\n",
    "\n",
    "<img src=\"../assets/population_genders_pie.png\" height=\"200\"/>\n",
    "\n",
    "g)\n",
    "\n",
    "<img src=\"../assets/cities_largest_gender_diff.png\" height=\"200\"/>\n",
    "\n",
    "h)\n",
    "\n",
    "<img src=\"../assets/pop_change.png\" height=\"200\"/>\n",
    "\n",
    "</details>\n"
   ]
  },
  {
   "cell_type": "code",
   "execution_count": null,
   "metadata": {},
   "outputs": [],
   "source": [
    "import numpy as np\n",
    "import pandas as pd\n",
    "\n",
    "import seaborn as sns\n",
    "import matplotlib.pyplot as plt\n"
   ]
  },
  {
   "cell_type": "markdown",
   "metadata": {},
   "source": [
    "## Load and clean gender datasets"
   ]
  },
  {
   "cell_type": "code",
   "execution_count": null,
   "metadata": {},
   "outputs": [],
   "source": [
    "males_df = pd.read_excel(\"../../data/komtopp50_2020.xlsx\", sheet_name=\"Män\", header=6)\n",
    "females_df = pd.read_excel(\"../../data/komtopp50_2020.xlsx\", sheet_name=\"Kvinnor\", header=6)"
   ]
  },
  {
   "cell_type": "code",
   "execution_count": null,
   "metadata": {},
   "outputs": [],
   "source": [
    "def rename_gender_dataframes(df):\n",
    "\n",
    "    df = df.rename(columns={2020 : 'Rang 2020',\n",
    "                            2019 : 'Rang 2019',\n",
    "                            'Unnamed: 2' : 'Kommun',\n",
    "                            '2020.1' : 'Folkmängd 2020',\n",
    "                            '2019.1' : 'Folkmängd 2019',\n",
    "                            '%' : 'Förändring'}\n",
    "                  )\n",
    "    return df"
   ]
  },
  {
   "cell_type": "code",
   "execution_count": null,
   "metadata": {},
   "outputs": [],
   "source": [
    "males_df = rename_header(males_df)\n",
    "females_df = rename_header(females_df)"
   ]
  },
  {
   "cell_type": "code",
   "execution_count": null,
   "metadata": {},
   "outputs": [],
   "source": [
    "males_df['Kön'] = 'Man'\n",
    "females_df['Kön'] = 'Kvinna'"
   ]
  },
  {
   "cell_type": "code",
   "execution_count": null,
   "metadata": {},
   "outputs": [],
   "source": [
    "males_df.head()"
   ]
  },
  {
   "cell_type": "code",
   "execution_count": null,
   "metadata": {},
   "outputs": [],
   "source": [
    "females_df.head()"
   ]
  },
  {
   "cell_type": "markdown",
   "metadata": {},
   "source": [
    "## Concat gendered datasets"
   ]
  },
  {
   "cell_type": "code",
   "execution_count": null,
   "metadata": {},
   "outputs": [],
   "source": [
    "concated_df = pd.concat([males_df, females_df]).reset_index(drop=True)"
   ]
  },
  {
   "cell_type": "markdown",
   "metadata": {},
   "source": [
    "## Load and clean total population dataset"
   ]
  },
  {
   "cell_type": "code",
   "execution_count": null,
   "metadata": {},
   "outputs": [],
   "source": [
    "total_df = pd.read_excel(\"../../data/komtopp50_2020.xlsx\", sheet_name=\"Totalt\", header=6)"
   ]
  },
  {
   "cell_type": "code",
   "execution_count": null,
   "metadata": {},
   "outputs": [],
   "source": [
    "total_df = total_df.rename(columns={2020 : 'Rang 2020',\n",
    "                                    2019 : 'Rang 2019',\n",
    "                                    'Unnamed: 2' : 'Kommun',\n",
    "                                    '2020.1' : 'Total Pop 2020',\n",
    "                                    '2019.1' : 'Total Pop 2019',\n",
    "                                    '%' : 'Total förändring'}\n",
    "                          )"
   ]
  },
  {
   "cell_type": "code",
   "execution_count": null,
   "metadata": {},
   "outputs": [],
   "source": [
    "total_df"
   ]
  },
  {
   "cell_type": "code",
   "execution_count": null,
   "metadata": {},
   "outputs": [],
   "source": [
    "total_df = total_df.drop(columns=['Rang 2019', 'Rang 2020'])\n",
    "\n",
    "total_df"
   ]
  },
  {
   "cell_type": "markdown",
   "metadata": {},
   "source": [
    "## Merge"
   ]
  },
  {
   "cell_type": "code",
   "execution_count": null,
   "metadata": {},
   "outputs": [],
   "source": [
    "merged_df = total_df.merge(concated_df, on='Kommun')"
   ]
  },
  {
   "cell_type": "code",
   "execution_count": null,
   "metadata": {},
   "outputs": [],
   "source": [
    "merged_df"
   ]
  },
  {
   "cell_type": "markdown",
   "metadata": {},
   "source": [
    "rearrange column orders (to match instructions)"
   ]
  },
  {
   "cell_type": "code",
   "execution_count": null,
   "metadata": {},
   "outputs": [],
   "source": [
    "merged_df = merged_df[['Kommun', 'Folkmängd 2020', 'Folkmängd 2019', 'Förändring', 'Kön', 'Total Pop 2020', 'Total Pop 2019', 'Total förändring']]"
   ]
  },
  {
   "cell_type": "markdown",
   "metadata": {},
   "source": [
    "sort the merged_df by total population"
   ]
  },
  {
   "cell_type": "code",
   "execution_count": null,
   "metadata": {},
   "outputs": [],
   "source": [
    "sorted_df = merged_df.sort_values(by=['Total Pop 2020', 'Folkmängd 2020'], ascending=[False, True])"
   ]
  },
  {
   "cell_type": "markdown",
   "metadata": {},
   "source": [
    "## Start plotting!"
   ]
  },
  {
   "cell_type": "code",
   "execution_count": null,
   "metadata": {},
   "outputs": [],
   "source": [
    "top_10_cities_df = sorted_df.head(20)\n",
    "last_10_cities_df = sorted_df.tail(20)"
   ]
  },
  {
   "cell_type": "markdown",
   "metadata": {},
   "source": [
    "We'll use Seaborn here - which is an awesome package to make beautiful graphs with ease"
   ]
  },
  {
   "cell_type": "code",
   "execution_count": null,
   "metadata": {},
   "outputs": [],
   "source": [
    "sns.catplot(\n",
    "            data=top_10_cities_df, kind=\"bar\",\n",
    "            x=\"Folkmängd 2020\", y=\"Kommun\", hue=\"Kön\",\n",
    "            alpha=.6, height=6\n",
    "            );"
   ]
  },
  {
   "cell_type": "code",
   "execution_count": null,
   "metadata": {},
   "outputs": [],
   "source": [
    "sns.catplot(\n",
    "            data=last_10_cities_df, kind=\"bar\",\n",
    "            x=\"Folkmängd 2020\", y=\"Kommun\", hue=\"Kön\",\n",
    "            alpha=.6, height=6\n",
    "            );"
   ]
  }
 ],
 "metadata": {
  "kernelspec": {
   "display_name": "Python 3.10.1 64-bit",
   "language": "python",
   "name": "python3"
  },
  "language_info": {
   "codemirror_mode": {
    "name": "ipython",
    "version": 3
   },
   "file_extension": ".py",
   "mimetype": "text/x-python",
   "name": "python",
   "nbconvert_exporter": "python",
   "pygments_lexer": "ipython3",
   "version": "3.11.5"
  },
  "orig_nbformat": 4,
  "vscode": {
   "interpreter": {
    "hash": "7e1998ff7f8aa20ada591c520b972326324e5ea05489af9e422744c7c09f6dad"
   }
  }
 },
 "nbformat": 4,
 "nbformat_minor": 2
}
