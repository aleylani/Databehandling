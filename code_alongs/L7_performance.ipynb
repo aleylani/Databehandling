{
 "cells": [
  {
   "cell_type": "code",
   "execution_count": null,
   "metadata": {},
   "outputs": [],
   "source": [
    "import time\n",
    "import random\n",
    "import pandas as pd\n"
   ]
  },
  {
   "cell_type": "markdown",
   "metadata": {},
   "source": [
    "## Pandas Performance\n",
    "\n",
    "Vi kommer ta led på följande guide: https://realpython.com/fast-flexible-pandas/\n",
    "\n",
    "Läs igenom introduktionen där, minst! Du kan sedan grotta ner dig mer i detaljerna också."
   ]
  },
  {
   "cell_type": "code",
   "execution_count": null,
   "metadata": {},
   "outputs": [],
   "source": [
    "df = pd.read_csv('../data/demand_profile.csv')"
   ]
  },
  {
   "cell_type": "markdown",
   "metadata": {},
   "source": [
    "**Omvandla till datetime rakt på**"
   ]
  },
  {
   "cell_type": "code",
   "execution_count": null,
   "metadata": {},
   "outputs": [],
   "source": [
    "def convert(df, column_name):\n",
    "    \n",
    "    return pd.to_datetime(df[column_name])\n"
   ]
  },
  {
   "cell_type": "code",
   "execution_count": null,
   "metadata": {},
   "outputs": [],
   "source": [
    "%%timeit -r 5 -n 1\n",
    "\n",
    "df['date_time'] = convert(df, 'date_time')"
   ]
  },
  {
   "cell_type": "markdown",
   "metadata": {},
   "source": [
    "**Omvandla med på förhand angivet format**"
   ]
  },
  {
   "cell_type": "code",
   "execution_count": null,
   "metadata": {},
   "outputs": [],
   "source": [
    "def convert_with_format(df, column_name):\n",
    "    return pd.to_datetime(df[column_name], format='%d/%m/%y %H:%M')"
   ]
  },
  {
   "cell_type": "code",
   "execution_count": null,
   "metadata": {},
   "outputs": [],
   "source": [
    "%%timeit -r 10 -n 1\n",
    "\n",
    "df['date_time'] = convert_with_format(df, 'date_time')"
   ]
  },
  {
   "cell_type": "markdown",
   "metadata": {},
   "source": [
    "**Att loopa över Pandas, generellt ej rekommenderat**"
   ]
  },
  {
   "cell_type": "code",
   "execution_count": null,
   "metadata": {},
   "outputs": [],
   "source": [
    "def apply_tariff(kwh, hour):\n",
    "    \"\"\"Calculates cost of electricity for given hour.\"\"\"    \n",
    "    \n",
    "    if 0 <= hour < 7:\n",
    "        rate = 12\n",
    "    \n",
    "    elif 7 <= hour < 17:\n",
    "        rate = 20\n",
    "    \n",
    "    elif 17 <= hour < 24:\n",
    "        rate = 28\n",
    "\n",
    "    return rate * kwh\n"
   ]
  },
  {
   "cell_type": "code",
   "execution_count": null,
   "metadata": {},
   "outputs": [],
   "source": []
  },
  {
   "cell_type": "markdown",
   "metadata": {},
   "source": [
    "**for i in range(len(df))** \n",
    "\n",
    "**WARNING, DONT DO THIS IN PARTICULAR**"
   ]
  },
  {
   "cell_type": "code",
   "execution_count": null,
   "metadata": {},
   "outputs": [],
   "source": [
    "%%timeit -r 10 -n 1\n",
    "\n",
    "# warning, DONT DO THIS ESPECIALLY\n",
    "\n",
    "energy_cost_list = []\n",
    "\n",
    "for i in range(len(df)):\n",
    "\n",
    "    # Get electricity used and hour of day\n",
    "    energy_used = df.iloc[i]['energy_kwh']\n",
    "    hour = df.iloc[i]['date_time'].hour\n",
    "\n",
    "    # Append cost list\n",
    "    energy_cost = apply_tariff(energy_used, hour)\n",
    "    energy_cost_list.append(energy_cost)"
   ]
  },
  {
   "cell_type": "markdown",
   "metadata": {},
   "source": [
    "**for index, row in df.iterrows()**"
   ]
  },
  {
   "cell_type": "code",
   "execution_count": null,
   "metadata": {},
   "outputs": [],
   "source": [
    "%%timeit -r 10 -n 1\n",
    "\n",
    "energy_cost_list = []\n",
    "for index, row in df.iterrows():\n",
    "\n",
    "   # Get electricity used and hour of day\n",
    "   energy_used = row['energy_kwh']\n",
    "   hour = row['date_time'].hour\n",
    "   \n",
    "   # Append cost list\n",
    "   energy_cost = apply_tariff(energy_used, hour)\n",
    "   energy_cost_list.append(energy_cost)"
   ]
  },
  {
   "cell_type": "markdown",
   "metadata": {},
   "source": [
    "**med apply**"
   ]
  },
  {
   "cell_type": "code",
   "execution_count": null,
   "metadata": {},
   "outputs": [],
   "source": [
    "%%timeit -r 10 -n 1\n",
    "\n",
    "df.apply(lambda row: apply_tariff(\n",
    "                                  kwh=row['energy_kwh'],\n",
    "                                  hour=row['date_time'].hour),\n",
    "                                  axis=1\n",
    "                                 )"
   ]
  },
  {
   "cell_type": "markdown",
   "metadata": {},
   "source": [
    "**Att först välja ut specifika rader, och sedan utföra en vektoriserad operation på dem**\n",
    "\n",
    "**Detta är bland de snabbaste metoderna tillgängliga direkt i Pandas**"
   ]
  },
  {
   "cell_type": "code",
   "execution_count": null,
   "metadata": {},
   "outputs": [],
   "source": [
    "%%timeit -r 10 -n 1\n",
    "\n",
    "peak_hours_filter = df['date_time'].dt.hour.isin(range(17, 24))\n",
    "shoulder_hours_filter = df['date_time'].dt.hour.isin(range(7, 17))\n",
    "off_peak_hours_filter = df['date_time'].dt.hour.isin(range(0, 7))\n",
    "\n",
    "#observera att vi skapar en ny kolumn här också, kallad cost_center\n",
    "\n",
    "df.loc[peak_hours_filter, 'cost_center'] = df.loc[peak_hours_filter, 'energy_kwh'] * 28\n",
    "df.loc[shoulder_hours_filter, 'cost_center'] = df.loc[shoulder_hours_filter, 'energy_kwh'] * 20\n",
    "df.loc[off_peak_hours_filter, 'cost_center'] = df.loc[off_peak_hours_filter, 'energy_kwh'] * 12\n",
    "\n"
   ]
  }
 ],
 "metadata": {
  "kernelspec": {
   "display_name": "databehandling",
   "language": "python",
   "name": "python3"
  },
  "language_info": {
   "codemirror_mode": {
    "name": "ipython",
    "version": 3
   },
   "file_extension": ".py",
   "mimetype": "text/x-python",
   "name": "python",
   "nbconvert_exporter": "python",
   "pygments_lexer": "ipython3",
   "version": "3.11.5"
  }
 },
 "nbformat": 4,
 "nbformat_minor": 2
}
