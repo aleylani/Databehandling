{
 "cells": [
  {
   "cell_type": "markdown",
   "metadata": {},
   "source": [
    "Pandas Merge, Join, Concat examples documentation\n",
    "\n",
    "https://pandas.pydata.org/docs/user_guide/merging.html"
   ]
  },
  {
   "cell_type": "markdown",
   "metadata": {},
   "source": [
    "## Tree main functions to combine datasets"
   ]
  },
  {
   "cell_type": "markdown",
   "metadata": {},
   "source": [
    "* Merge\n",
    "\n",
    "* Join \n",
    "\n",
    "* Concatenate"
   ]
  },
  {
   "cell_type": "markdown",
   "metadata": {},
   "source": [
    "## Different ways to join/merge datasets\n",
    "\n",
    "\n",
    "left            \n",
    "        \n",
    "- Use keys from left frame only\n",
    "\n",
    "right\n",
    "\t\t\n",
    "- Use keys from right frame only\n",
    "\n",
    "\n",
    "inner\n",
    "\n",
    "\n",
    "- Use intersection of keys from both frames\n",
    "\n",
    "\n",
    "outer\n",
    "\t\n",
    "- Use union of keys from both frames\n",
    "\n",
    "cross\n",
    "\n",
    "- combine every row with every other row"
   ]
  },
  {
   "cell_type": "markdown",
   "metadata": {},
   "source": [
    "## MERGE"
   ]
  },
  {
   "cell_type": "code",
   "execution_count": null,
   "metadata": {},
   "outputs": [],
   "source": [
    "import pandas as pd"
   ]
  },
  {
   "cell_type": "code",
   "execution_count": null,
   "metadata": {},
   "outputs": [],
   "source": [
    "left_df = pd.DataFrame( \n",
    "    \n",
    "    \n",
    "            {\n",
    "                \"key\": [\"K0\", \"K1\", \"K2\", \"K3\", \"K4\"],\n",
    "\n",
    "                \"A\": [\"A0\", \"A1\", \"A2\", \"A3\", \"A4\"],\n",
    "\n",
    "                \"B\": [\"B0\", \"B1\", \"B2\", \"B3\", \"B4\"]\n",
    "       \n",
    "            }\n",
    "\n",
    "                      )\n",
    "\n",
    "\n",
    "\n",
    "right_df = pd.DataFrame(\n",
    "\n",
    "            {\n",
    "\n",
    "                \"key\": [\"K1\", \"K2\", \"K3\", \"K4\", \"K5\"],\n",
    "\n",
    "                \"C\": [\"C1\", \"C2\", \"C3\", \"C4\", \"C5\"],\n",
    "\n",
    "                \"D\": [\"D1\", \"D2\", \"D3\", \"D4\", \"D5\"],\n",
    "\n",
    "            }\n",
    "\n",
    "                        )"
   ]
  },
  {
   "cell_type": "code",
   "execution_count": null,
   "metadata": {},
   "outputs": [],
   "source": [
    "left_df"
   ]
  },
  {
   "cell_type": "code",
   "execution_count": null,
   "metadata": {},
   "outputs": [],
   "source": [
    "right_df"
   ]
  },
  {
   "cell_type": "code",
   "execution_count": null,
   "metadata": {},
   "outputs": [],
   "source": [
    "pd.merge(left_df, right_df, on='key', indicator=True)  # detta är en, by default, inner join"
   ]
  },
  {
   "cell_type": "markdown",
   "metadata": {},
   "source": [
    "notera skillnaden i ordningen och hur resultatet ser ut"
   ]
  },
  {
   "cell_type": "code",
   "execution_count": null,
   "metadata": {},
   "outputs": [],
   "source": [
    "pd.merge(right_df, left_df, on='key')"
   ]
  },
  {
   "cell_type": "markdown",
   "metadata": {},
   "source": [
    "**inner**\n",
    "\n",
    "Notera ett inner är default"
   ]
  },
  {
   "cell_type": "code",
   "execution_count": null,
   "metadata": {},
   "outputs": [],
   "source": [
    "pd.merge(left_df, right_df, on='key', how='inner')"
   ]
  },
  {
   "cell_type": "markdown",
   "metadata": {},
   "source": [
    "**left**"
   ]
  },
  {
   "cell_type": "code",
   "execution_count": null,
   "metadata": {},
   "outputs": [],
   "source": [
    "left_df"
   ]
  },
  {
   "cell_type": "code",
   "execution_count": null,
   "metadata": {},
   "outputs": [],
   "source": [
    "right_df"
   ]
  },
  {
   "cell_type": "code",
   "execution_count": null,
   "metadata": {},
   "outputs": [],
   "source": [
    "pd.merge(left_df, right_df, on='key', how='left', indicator=True)"
   ]
  },
  {
   "cell_type": "code",
   "execution_count": null,
   "metadata": {},
   "outputs": [],
   "source": [
    "pd.merge(right_df, left_df, on='key', how='left')"
   ]
  },
  {
   "cell_type": "markdown",
   "metadata": {},
   "source": [
    "**right**"
   ]
  },
  {
   "cell_type": "code",
   "execution_count": null,
   "metadata": {},
   "outputs": [],
   "source": [
    "left_df"
   ]
  },
  {
   "cell_type": "code",
   "execution_count": null,
   "metadata": {},
   "outputs": [],
   "source": [
    "right_df"
   ]
  },
  {
   "cell_type": "code",
   "execution_count": null,
   "metadata": {},
   "outputs": [],
   "source": [
    "pd.merge(left_df, right_df, on='key', how='right')"
   ]
  },
  {
   "cell_type": "markdown",
   "metadata": {},
   "source": [
    "**outer**\n"
   ]
  },
  {
   "cell_type": "code",
   "execution_count": null,
   "metadata": {},
   "outputs": [],
   "source": [
    "left_df"
   ]
  },
  {
   "cell_type": "code",
   "execution_count": null,
   "metadata": {},
   "outputs": [],
   "source": [
    "right_df"
   ]
  },
  {
   "cell_type": "code",
   "execution_count": null,
   "metadata": {},
   "outputs": [],
   "source": [
    "pd.merge(left_df, right_df, on='key', how='outer')"
   ]
  },
  {
   "cell_type": "markdown",
   "metadata": {},
   "source": [
    "**cross**"
   ]
  },
  {
   "cell_type": "code",
   "execution_count": null,
   "metadata": {},
   "outputs": [],
   "source": [
    "data1 = {'A': [1, 2], 'B': [3, 4]}\n",
    "df1 = pd.DataFrame(data1)\n",
    "\n",
    "data2 = {'X': ['a', 'b'], 'Y': ['c', 'd']}\n",
    "df2 = pd.DataFrame(data2)"
   ]
  },
  {
   "cell_type": "code",
   "execution_count": null,
   "metadata": {},
   "outputs": [],
   "source": [
    "df1"
   ]
  },
  {
   "cell_type": "code",
   "execution_count": null,
   "metadata": {},
   "outputs": [],
   "source": [
    "df2"
   ]
  },
  {
   "cell_type": "code",
   "execution_count": null,
   "metadata": {},
   "outputs": [],
   "source": [
    "pd.merge(df1, df2, how='cross')"
   ]
  },
  {
   "cell_type": "code",
   "execution_count": null,
   "metadata": {},
   "outputs": [],
   "source": [
    "data1 = {'A': [1, 2], 'B': [3, 4]}\n",
    "df1 = pd.DataFrame(data1)\n",
    "\n",
    "data2 = {'X': ['a', 'b','c'], 'Y': ['d', 'e', 'f']}\n",
    "df2 = pd.DataFrame(data2)"
   ]
  },
  {
   "cell_type": "code",
   "execution_count": null,
   "metadata": {},
   "outputs": [],
   "source": [
    "df1"
   ]
  },
  {
   "cell_type": "code",
   "execution_count": null,
   "metadata": {},
   "outputs": [],
   "source": [
    "df2"
   ]
  },
  {
   "cell_type": "code",
   "execution_count": null,
   "metadata": {},
   "outputs": [],
   "source": [
    "pd.merge(df1, df2, how='cross')"
   ]
  },
  {
   "cell_type": "code",
   "execution_count": null,
   "metadata": {},
   "outputs": [],
   "source": [
    "df1"
   ]
  },
  {
   "cell_type": "code",
   "execution_count": null,
   "metadata": {},
   "outputs": [],
   "source": [
    "df2"
   ]
  },
  {
   "cell_type": "code",
   "execution_count": null,
   "metadata": {},
   "outputs": [],
   "source": [
    "pd.merge(df2, df1, how='cross')"
   ]
  },
  {
   "cell_type": "code",
   "execution_count": null,
   "metadata": {},
   "outputs": [],
   "source": [
    "data1 = {'A': [1, 2], 'B': [3, 4]}\n",
    "df1 = pd.DataFrame(data1)\n",
    "\n",
    "data2 = {'A': ['a', 'b'], 'Y': ['c', 'd']}\n",
    "df2 = pd.DataFrame(data2)"
   ]
  },
  {
   "cell_type": "code",
   "execution_count": null,
   "metadata": {},
   "outputs": [],
   "source": [
    "df1"
   ]
  },
  {
   "cell_type": "code",
   "execution_count": null,
   "metadata": {},
   "outputs": [],
   "source": [
    "df2"
   ]
  },
  {
   "cell_type": "code",
   "execution_count": null,
   "metadata": {},
   "outputs": [],
   "source": [
    "pd.merge(df1, df2, how='cross', suffixes=['_left', '_right'])"
   ]
  },
  {
   "cell_type": "markdown",
   "metadata": {},
   "source": [
    "## Duplicerade nycklar"
   ]
  },
  {
   "cell_type": "code",
   "execution_count": null,
   "metadata": {},
   "outputs": [],
   "source": [
    "left_df = pd.DataFrame( \n",
    "    \n",
    "    \n",
    "            {\n",
    "                \"key\": [\"K0\", \"K1\", \"K2\", \"K3\", \"K4\"],\n",
    "\n",
    "                \"A\": [\"A0\", \"A1\", \"A2\", \"A3\", \"A4\"],\n",
    "\n",
    "                \"B\": [\"B0\", \"B1\", \"B2\", \"B3\", \"B4\"]\n",
    "       \n",
    "            }\n",
    "\n",
    "                      )\n",
    "\n",
    "\n",
    "\n",
    "right_df = pd.DataFrame(\n",
    "\n",
    "            {\n",
    "\n",
    "                \"key\": [\"K1\", \"K4\", \"K3\", \"K1\", \"K5\"],\n",
    "\n",
    "                \"C\": [\"C1\", \"C2\", \"C3\", \"C4\", \"C5\"],\n",
    "\n",
    "                \"D\": [\"D1\", \"D2\", \"D3\", \"D4\", \"D5\"],\n",
    "\n",
    "            }\n",
    "\n",
    "                        )"
   ]
  },
  {
   "cell_type": "code",
   "execution_count": null,
   "metadata": {},
   "outputs": [],
   "source": [
    "left_df"
   ]
  },
  {
   "cell_type": "code",
   "execution_count": null,
   "metadata": {},
   "outputs": [],
   "source": [
    "right_df"
   ]
  },
  {
   "cell_type": "code",
   "execution_count": null,
   "metadata": {},
   "outputs": [],
   "source": [
    "pd.merge(left_df, right_df, on='key', how='left')"
   ]
  },
  {
   "cell_type": "markdown",
   "metadata": {},
   "source": [
    "**Att inte ange kolumn att merge på (bad practice)**"
   ]
  },
  {
   "cell_type": "code",
   "execution_count": null,
   "metadata": {},
   "outputs": [],
   "source": [
    "left_df = pd.DataFrame( \n",
    "    \n",
    "    \n",
    "            {\n",
    "                \"key\": [\"K0\", \"K1\", \"K2\", \"K3\", \"K4\"],\n",
    "\n",
    "                \"A\": [\"A0\", \"A1\", \"A2\", \"A3\", \"A4\"],\n",
    "\n",
    "                \"B\": [\"B0\", \"B1\", \"B2\", \"B3\", \"B4\"]\n",
    "       \n",
    "            }\n",
    "\n",
    "                      )\n",
    "\n",
    "\n",
    "\n",
    "right_df = pd.DataFrame(\n",
    "\n",
    "            {\n",
    "\n",
    "                \"key\": [\"K1\", \"K2\", \"K3\", \"K4\", \"K5\"],\n",
    "\n",
    "                \"C\": [\"C1\", \"C2\", \"C3\", \"C4\", \"C5\"],\n",
    "\n",
    "                \"D\": [\"D1\", \"D2\", \"D3\", \"D4\", \"D5\"],\n",
    "\n",
    "            }\n",
    "\n",
    "                        )"
   ]
  },
  {
   "cell_type": "code",
   "execution_count": null,
   "metadata": {},
   "outputs": [],
   "source": [
    "left_df"
   ]
  },
  {
   "cell_type": "code",
   "execution_count": null,
   "metadata": {},
   "outputs": [],
   "source": [
    "right_df"
   ]
  },
  {
   "cell_type": "code",
   "execution_count": null,
   "metadata": {},
   "outputs": [],
   "source": [
    "pd.merge(left_df, right_df, how='inner')"
   ]
  },
  {
   "cell_type": "markdown",
   "metadata": {},
   "source": [
    "**Föröka merge på icke gemensam kolumn**"
   ]
  },
  {
   "cell_type": "code",
   "execution_count": null,
   "metadata": {},
   "outputs": [],
   "source": [
    "pd.merge(left_df, right_df, on='A', how='inner')"
   ]
  },
  {
   "cell_type": "markdown",
   "metadata": {},
   "source": [
    "**Att merga på flera kolumner samtidigt**"
   ]
  },
  {
   "cell_type": "code",
   "execution_count": null,
   "metadata": {},
   "outputs": [],
   "source": [
    "left_df = pd.DataFrame(\n",
    "\n",
    "    {\n",
    "\n",
    "        \"key1\": [\"K0\", \"K0\", \"K1\", \"K2\"],\n",
    "\n",
    "        \"key2\": [\"K0\", \"K1\", \"K0\", \"K1\"],\n",
    "\n",
    "        \"A\": [\"A0\", \"A1\", \"A2\", \"A3\"],\n",
    "\n",
    "        \"B\": [\"B0\", \"B1\", \"B2\", \"B3\"],\n",
    "\n",
    "    }\n",
    "\n",
    ")\n",
    "\n",
    "\n",
    "\n",
    "right_df = pd.DataFrame(\n",
    "\n",
    "    {\n",
    "\n",
    "        \"key1\": [\"K0\", \"K1\", \"K1\", \"K2\"],\n",
    "\n",
    "        \"key2\": [\"K0\", \"K0\", \"K0\", \"K0\"],\n",
    "\n",
    "        \"C\": [\"C0\", \"C1\", \"C2\", \"C3\"],\n",
    "\n",
    "        \"D\": [\"D0\", \"D1\", \"D2\", \"D3\"],\n",
    "\n",
    "    }\n",
    "\n",
    ")\n"
   ]
  },
  {
   "cell_type": "code",
   "execution_count": null,
   "metadata": {},
   "outputs": [],
   "source": [
    "left_df"
   ]
  },
  {
   "cell_type": "code",
   "execution_count": null,
   "metadata": {},
   "outputs": [],
   "source": [
    "right_df"
   ]
  },
  {
   "cell_type": "code",
   "execution_count": null,
   "metadata": {},
   "outputs": [],
   "source": [
    "pd.merge(left_df, right_df, on=['key1', 'key2'], how='right')"
   ]
  },
  {
   "cell_type": "code",
   "execution_count": null,
   "metadata": {},
   "outputs": [],
   "source": [
    "pd.merge(left_df, right_df, on=['key1', 'key2'], how='left')"
   ]
  },
  {
   "cell_type": "code",
   "execution_count": null,
   "metadata": {},
   "outputs": [],
   "source": [
    "pd.merge(left_df, right_df, on=['key1', 'key2'], how='inner')"
   ]
  },
  {
   "cell_type": "markdown",
   "metadata": {},
   "source": [
    "**ett ekvivalent sätt att merga på**"
   ]
  },
  {
   "cell_type": "code",
   "execution_count": null,
   "metadata": {},
   "outputs": [],
   "source": [
    "left_df = pd.DataFrame( \n",
    "    \n",
    "    \n",
    "            {\n",
    "                \"key\": [\"K0\", \"K1\", \"K2\", \"K3\", \"K4\"],\n",
    "\n",
    "                \"A\": [\"A0\", \"A1\", \"A2\", \"A3\", \"A4\"],\n",
    "\n",
    "                \"B\": [\"B0\", \"B1\", \"B2\", \"B3\", \"B4\"]\n",
    "       \n",
    "            }\n",
    "\n",
    "                      )\n",
    "\n",
    "\n",
    "\n",
    "right_df = pd.DataFrame(\n",
    "\n",
    "            {\n",
    "\n",
    "                \"key\": [\"K1\", \"K2\", \"K3\", \"K4\", \"K5\"],\n",
    "\n",
    "                \"C\": [\"C1\", \"C2\", \"C3\", \"C4\", \"C5\"],\n",
    "\n",
    "                \"D\": [\"D1\", \"D2\", \"D3\", \"D4\", \"D5\"],\n",
    "\n",
    "            }\n",
    "\n",
    "                        )"
   ]
  },
  {
   "cell_type": "code",
   "execution_count": null,
   "metadata": {},
   "outputs": [],
   "source": [
    "left_df"
   ]
  },
  {
   "cell_type": "code",
   "execution_count": null,
   "metadata": {},
   "outputs": [],
   "source": [
    "right_df"
   ]
  },
  {
   "cell_type": "code",
   "execution_count": null,
   "metadata": {},
   "outputs": [],
   "source": [
    "left_df.merge(right_df, on='key', how='inner')"
   ]
  },
  {
   "cell_type": "code",
   "execution_count": null,
   "metadata": {},
   "outputs": [],
   "source": [
    "pd.merge(left_df, right_df, on='key', how='inner')"
   ]
  },
  {
   "cell_type": "markdown",
   "metadata": {},
   "source": [
    "**att merga på kolumner som inte heter samma sak**"
   ]
  },
  {
   "cell_type": "code",
   "execution_count": null,
   "metadata": {},
   "outputs": [],
   "source": [
    "left_df = pd.DataFrame( \n",
    "    \n",
    "    \n",
    "            {\n",
    "                \"key\": [\"K0\", \"K1\", \"K2\", \"K3\", \"K4\"],\n",
    "\n",
    "                \"A\": [\"A0\", \"A1\", \"A2\", \"A3\", \"A4\"],\n",
    "\n",
    "                \"B\": [\"B0\", \"B1\", \"B2\", \"B3\", \"B4\"]\n",
    "       \n",
    "            }\n",
    "\n",
    "                      )\n",
    "\n",
    "\n",
    "\n",
    "right_df = pd.DataFrame(\n",
    "\n",
    "            {\n",
    "\n",
    "                \"nyckel\": [\"K1\", \"K2\", \"K3\", \"K4\", \"K5\"],\n",
    "\n",
    "                \"C\": [\"C1\", \"C2\", \"C3\", \"C4\", \"C5\"],\n",
    "\n",
    "                \"D\": [\"D1\", \"D2\", \"D3\", \"D4\", \"D5\"],\n",
    "\n",
    "            }\n",
    "\n",
    "                        )"
   ]
  },
  {
   "cell_type": "code",
   "execution_count": null,
   "metadata": {},
   "outputs": [],
   "source": [
    "left_df"
   ]
  },
  {
   "cell_type": "code",
   "execution_count": null,
   "metadata": {},
   "outputs": [],
   "source": [
    "right_df"
   ]
  },
  {
   "cell_type": "code",
   "execution_count": null,
   "metadata": {},
   "outputs": [],
   "source": [
    "pd.merge(left_df, right_df, left_on='key', right_on='nyckel')"
   ]
  },
  {
   "cell_type": "markdown",
   "metadata": {},
   "source": [
    "# Join"
   ]
  },
  {
   "cell_type": "code",
   "execution_count": null,
   "metadata": {},
   "outputs": [],
   "source": [
    "left_df = pd.DataFrame(\n",
    "\n",
    "    {\"A\": [\"A0\", \"A1\", \"A2\"], \"B\": [\"B0\", \"B1\", \"B2\"]}, index=[\"K0\", \"K1\", \"K2\"]\n",
    "\n",
    ")\n",
    "\n",
    "\n",
    "\n",
    "right_df = pd.DataFrame(\n",
    "\n",
    "    {\"C\": [\"C0\", \"C2\", \"C3\"], \"D\": [\"D0\", \"D2\", \"D3\"]}, index=[\"K0\", \"K2\", \"K3\"]\n",
    "\n",
    ")"
   ]
  },
  {
   "cell_type": "code",
   "execution_count": null,
   "metadata": {},
   "outputs": [],
   "source": [
    "left_df"
   ]
  },
  {
   "cell_type": "code",
   "execution_count": null,
   "metadata": {},
   "outputs": [],
   "source": [
    "right_df"
   ]
  },
  {
   "cell_type": "code",
   "execution_count": null,
   "metadata": {},
   "outputs": [],
   "source": [
    "left_df.join(right_df)"
   ]
  },
  {
   "cell_type": "code",
   "execution_count": null,
   "metadata": {},
   "outputs": [],
   "source": [
    "left_df.join(right_df, how='left')"
   ]
  },
  {
   "cell_type": "code",
   "execution_count": null,
   "metadata": {},
   "outputs": [],
   "source": [
    "left_df.join(right_df, how='inner')"
   ]
  },
  {
   "cell_type": "code",
   "execution_count": null,
   "metadata": {},
   "outputs": [],
   "source": [
    "left_df.join(right_df, how='right')"
   ]
  },
  {
   "cell_type": "code",
   "execution_count": null,
   "metadata": {},
   "outputs": [],
   "source": [
    "left_df.join(right_df, how='outer')"
   ]
  },
  {
   "cell_type": "markdown",
   "metadata": {},
   "source": [
    "**Concatenate**"
   ]
  },
  {
   "cell_type": "code",
   "execution_count": null,
   "metadata": {},
   "outputs": [],
   "source": [
    "df1 = pd.DataFrame(\n",
    "\n",
    "    {\n",
    "\n",
    "        \"A\": [\"A0\", \"A1\", \"A2\", \"A3\"],\n",
    "\n",
    "        \"B\": [\"B0\", \"B1\", \"B2\", \"B3\"],\n",
    "\n",
    "        \"C\": [\"C0\", \"C1\", \"C2\", \"C3\"],\n",
    "\n",
    "        \"D\": [\"D0\", \"D1\", \"D2\", \"D3\"],\n",
    "\n",
    "    },\n",
    "\n",
    "    index=[0, 1, 2, 3],\n",
    "\n",
    ")\n",
    "\n",
    "\n",
    "\n",
    "df2 = pd.DataFrame(\n",
    "\n",
    "    {\n",
    "\n",
    "        \"A\": [\"A4\", \"A5\", \"A6\", \"A7\"],\n",
    "\n",
    "        \"B\": [\"B4\", \"B5\", \"B6\", \"B7\"],\n",
    "\n",
    "        \"C\": [\"C4\", \"C5\", \"C6\", \"C7\"],\n",
    "\n",
    "        \"D\": [\"D4\", \"D5\", \"D6\", \"D7\"],\n",
    "\n",
    "    },\n",
    "\n",
    "    index=[4, 5, 6, 7],\n",
    "\n",
    ")\n",
    "\n",
    "\n",
    "\n",
    "df3 = pd.DataFrame(\n",
    "\n",
    "    {\n",
    "\n",
    "        \"A\": [\"A8\", \"A9\", \"A10\", \"A11\"],\n",
    "\n",
    "        \"B\": [\"B8\", \"B9\", \"B10\", \"B11\"],\n",
    "\n",
    "        \"C\": [\"C8\", \"C9\", \"C10\", \"C11\"],\n",
    "\n",
    "        \"D\": [\"D8\", \"D9\", \"D10\", \"D11\"],\n",
    "\n",
    "    },\n",
    "\n",
    "    index=[8, 9, 10, 11],\n",
    "\n",
    ")"
   ]
  },
  {
   "cell_type": "code",
   "execution_count": null,
   "metadata": {},
   "outputs": [],
   "source": [
    "df1"
   ]
  },
  {
   "cell_type": "code",
   "execution_count": null,
   "metadata": {},
   "outputs": [],
   "source": [
    "df2"
   ]
  },
  {
   "cell_type": "code",
   "execution_count": null,
   "metadata": {},
   "outputs": [],
   "source": [
    "df3"
   ]
  },
  {
   "cell_type": "code",
   "execution_count": null,
   "metadata": {},
   "outputs": [],
   "source": [
    "pd.concat([df1, df2, df3])"
   ]
  },
  {
   "cell_type": "code",
   "execution_count": null,
   "metadata": {},
   "outputs": [],
   "source": [
    "df1"
   ]
  },
  {
   "cell_type": "code",
   "execution_count": null,
   "metadata": {},
   "outputs": [],
   "source": [
    "df2"
   ]
  },
  {
   "cell_type": "code",
   "execution_count": null,
   "metadata": {},
   "outputs": [],
   "source": [
    "pd.concat([df1, df2], axis='columns')"
   ]
  },
  {
   "cell_type": "code",
   "execution_count": null,
   "metadata": {},
   "outputs": [],
   "source": [
    "df1 = pd.DataFrame(\n",
    "\n",
    "    {\n",
    "\n",
    "        \"A\": [\"A0\", \"A1\", \"A2\", \"A3\"],\n",
    "\n",
    "        \"B\": [\"B0\", \"B1\", \"B2\", \"B3\"],\n",
    "\n",
    "        \"C\": [\"C0\", \"C1\", \"C2\", \"C3\"],\n",
    "\n",
    "        \"D\": [\"D0\", \"D1\", \"D2\", \"D3\"],\n",
    "\n",
    "    },\n",
    "\n",
    "    index=[0, 1, 2, 3],\n",
    "\n",
    ")\n",
    "\n",
    "\n",
    "\n",
    "df2 = pd.DataFrame(\n",
    "\n",
    "    {\n",
    "\n",
    "        \"A\": [\"A4\", \"A5\", \"A6\", \"A7\"],\n",
    "\n",
    "        \"B\": [\"B4\", \"B5\", \"B6\", \"B7\"],\n",
    "\n",
    "        \"C\": [\"C4\", \"C5\", \"C6\", \"C7\"],\n",
    "\n",
    "        \"D\": [\"D4\", \"D5\", \"D6\", \"D7\"],\n",
    "\n",
    "    },\n",
    "\n",
    "    index=[0, 1, 2, 3],\n",
    "\n",
    ")"
   ]
  },
  {
   "cell_type": "code",
   "execution_count": null,
   "metadata": {},
   "outputs": [],
   "source": [
    "df1"
   ]
  },
  {
   "cell_type": "code",
   "execution_count": null,
   "metadata": {},
   "outputs": [],
   "source": [
    "df2"
   ]
  },
  {
   "cell_type": "code",
   "execution_count": null,
   "metadata": {},
   "outputs": [],
   "source": [
    "result = pd.concat([df1, df2], axis='columns')\n",
    "\n",
    "result['A']"
   ]
  },
  {
   "cell_type": "code",
   "execution_count": null,
   "metadata": {},
   "outputs": [],
   "source": [
    "df1"
   ]
  },
  {
   "cell_type": "code",
   "execution_count": null,
   "metadata": {},
   "outputs": [],
   "source": [
    "df2"
   ]
  },
  {
   "cell_type": "code",
   "execution_count": null,
   "metadata": {},
   "outputs": [],
   "source": [
    "df1.join(df2, rsuffix='_r', lsuffix='_l')"
   ]
  },
  {
   "cell_type": "code",
   "execution_count": null,
   "metadata": {},
   "outputs": [],
   "source": [
    "df1"
   ]
  },
  {
   "cell_type": "code",
   "execution_count": null,
   "metadata": {},
   "outputs": [],
   "source": [
    "df2"
   ]
  },
  {
   "cell_type": "code",
   "execution_count": null,
   "metadata": {},
   "outputs": [],
   "source": [
    "pd.concat([df1, df2]).reset_index(drop=True)"
   ]
  },
  {
   "cell_type": "markdown",
   "metadata": {},
   "source": [
    "## SCRAPE WIKIPEDIA YE"
   ]
  },
  {
   "cell_type": "markdown",
   "metadata": {},
   "source": [
    "## probably need to:\n",
    "\n",
    "**conda install lxml**\n",
    "\n",
    "IN YOUR ENVIRONMENT!!!!"
   ]
  },
  {
   "cell_type": "code",
   "execution_count": null,
   "metadata": {},
   "outputs": [],
   "source": [
    "swedish_demo = pd.read_html('https://sv.wikipedia.org/wiki/Sveriges_demografi')\n",
    "\n",
    "len(swedish_demo)\n"
   ]
  },
  {
   "cell_type": "code",
   "execution_count": null,
   "metadata": {},
   "outputs": [],
   "source": [
    "isinstance(swedish_demo, list)"
   ]
  },
  {
   "cell_type": "code",
   "execution_count": null,
   "metadata": {},
   "outputs": [],
   "source": [
    "swedish_demo[1]"
   ]
  },
  {
   "cell_type": "code",
   "execution_count": null,
   "metadata": {},
   "outputs": [],
   "source": [
    "swedish_demo[1]['Årlig tillväxt']['Promille']"
   ]
  },
  {
   "cell_type": "code",
   "execution_count": null,
   "metadata": {},
   "outputs": [],
   "source": [
    "min_df = swedish_demo[1]"
   ]
  },
  {
   "cell_type": "code",
   "execution_count": null,
   "metadata": {},
   "outputs": [],
   "source": [
    "min_df"
   ]
  },
  {
   "cell_type": "code",
   "execution_count": null,
   "metadata": {},
   "outputs": [],
   "source": [
    "swedish_demo[1].columns = swedish_demo[1].columns.droplevel(level=0)"
   ]
  },
  {
   "cell_type": "code",
   "execution_count": null,
   "metadata": {},
   "outputs": [],
   "source": [
    "swedish_demo[1]"
   ]
  },
  {
   "cell_type": "code",
   "execution_count": null,
   "metadata": {},
   "outputs": [],
   "source": [
    "swedish_demo[1].columns.droplevel(level=0)"
   ]
  },
  {
   "cell_type": "code",
   "execution_count": null,
   "metadata": {},
   "outputs": [],
   "source": []
  }
 ],
 "metadata": {
  "kernelspec": {
   "display_name": "databehandling",
   "language": "python",
   "name": "python3"
  },
  "language_info": {
   "codemirror_mode": {
    "name": "ipython",
    "version": 3
   },
   "file_extension": ".py",
   "mimetype": "text/x-python",
   "name": "python",
   "nbconvert_exporter": "python",
   "pygments_lexer": "ipython3",
   "version": "3.11.5"
  }
 },
 "nbformat": 4,
 "nbformat_minor": 2
}
