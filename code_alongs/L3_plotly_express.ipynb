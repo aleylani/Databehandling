{
 "cells": [
  {
   "cell_type": "code",
   "execution_count": null,
   "metadata": {},
   "outputs": [],
   "source": [
    "import plotly_express as px"
   ]
  },
  {
   "cell_type": "code",
   "execution_count": null,
   "metadata": {},
   "outputs": [],
   "source": [
    "gapminder_df = px.data.gapminder()"
   ]
  },
  {
   "cell_type": "code",
   "execution_count": null,
   "metadata": {},
   "outputs": [],
   "source": [
    "gapminder_df.head(20)"
   ]
  },
  {
   "cell_type": "code",
   "execution_count": null,
   "metadata": {},
   "outputs": [],
   "source": [
    "# OBS, notera .isin metoden som här används för att skapa ett filter\n",
    "# detta filter sätter True på alla rader i gapminder_df där kolumnen country\n",
    "# antar ett nordiskt land\n",
    "\n",
    "\n",
    "nordic_countries_filter = gapminder_df['country'].isin(['Sweden', 'Norway', \n",
    "                                                       'Denmark', 'Finland','Iceland'])\n",
    "\n",
    "nordic_df = gapminder_df[nordic_countries_filter].reset_index(drop=True)\n",
    "\n",
    "\n",
    "\n",
    "sweden_filter = gapminder_df['country'] == 'Sweden'\n",
    "\n",
    "sweden_df = gapminder_df[sweden_filter].reset_index(drop=True)"
   ]
  },
  {
   "cell_type": "markdown",
   "metadata": {},
   "source": [
    "# Bar chart"
   ]
  },
  {
   "cell_type": "code",
   "execution_count": null,
   "metadata": {},
   "outputs": [],
   "source": [
    "sweden_df['year'].max()"
   ]
  },
  {
   "cell_type": "code",
   "execution_count": null,
   "metadata": {},
   "outputs": [],
   "source": [
    "my_title = f\"Population in Sweden between year {sweden_df['year'].min()} and {sweden_df['year'].max()}\"\n",
    "\n",
    "px.bar(sweden_df, x='year', y='pop', range_y=[0, 10e6], title = my_title, labels={'year': 'Year', 'pop': 'Population'})"
   ]
  },
  {
   "cell_type": "markdown",
   "metadata": {},
   "source": [
    "# Line chart"
   ]
  },
  {
   "cell_type": "code",
   "execution_count": null,
   "metadata": {},
   "outputs": [],
   "source": [
    "px.line(sweden_df, x='year', y='gdpPercap', range_y=[0, 40000])"
   ]
  },
  {
   "cell_type": "markdown",
   "metadata": {},
   "source": [
    "# Hover settings"
   ]
  },
  {
   "cell_type": "code",
   "execution_count": null,
   "metadata": {},
   "outputs": [],
   "source": [
    "fig = px.line(nordic_df, x='year', y='gdpPercap', color='country')\n",
    "\n",
    "fig.update_layout(hovermode='x')\n",
    "fig.update_xaxes(showspikes=True, \n",
    "                 spikedash='solid', \n",
    "                 spikecolor='green', \n",
    "                 spikemode='across', \n",
    "                 spikesnap='cursor')\n",
    "\n",
    "fig.show()"
   ]
  },
  {
   "cell_type": "markdown",
   "metadata": {},
   "source": []
  },
  {
   "cell_type": "markdown",
   "metadata": {},
   "source": [
    "# Pie chart"
   ]
  },
  {
   "cell_type": "code",
   "execution_count": null,
   "metadata": {},
   "outputs": [],
   "source": [
    "nordic_2007_df = nordic_df[nordic_df['year'] == 2007]\n",
    "nordic_2007_df"
   ]
  },
  {
   "cell_type": "code",
   "execution_count": null,
   "metadata": {},
   "outputs": [],
   "source": [
    "px.pie(nordic_2007_df, values='pop', names='country', hover_data='gdpPercap')"
   ]
  },
  {
   "cell_type": "markdown",
   "metadata": {},
   "source": [
    "# Bubble chart"
   ]
  },
  {
   "cell_type": "code",
   "execution_count": null,
   "metadata": {},
   "outputs": [],
   "source": [
    "px.scatter(sweden_df, x='year', y='lifeExp')"
   ]
  },
  {
   "cell_type": "code",
   "execution_count": null,
   "metadata": {},
   "outputs": [],
   "source": [
    "px.scatter(nordic_df, x='gdpPercap', y='lifeExp', color='country', size='pop', animation_frame='year', \n",
    "           range_x=[5000, 50000], range_y=[60, 90])"
   ]
  },
  {
   "cell_type": "code",
   "execution_count": null,
   "metadata": {},
   "outputs": [],
   "source": [
    "gapminder_df['lifeExp'].max()"
   ]
  },
  {
   "cell_type": "code",
   "execution_count": null,
   "metadata": {},
   "outputs": [],
   "source": [
    "px.scatter(gapminder_df, x='gdpPercap', y='lifeExp', color='country', size='pop', animation_frame='year', \n",
    "           range_x=[300, 100000], range_y=[0, 90], size_max=60, log_x=True)"
   ]
  },
  {
   "cell_type": "code",
   "execution_count": null,
   "metadata": {},
   "outputs": [],
   "source": []
  }
 ],
 "metadata": {
  "kernelspec": {
   "display_name": "databehandling",
   "language": "python",
   "name": "python3"
  },
  "language_info": {
   "codemirror_mode": {
    "name": "ipython",
    "version": 3
   },
   "file_extension": ".py",
   "mimetype": "text/x-python",
   "name": "python",
   "nbconvert_exporter": "python",
   "pygments_lexer": "ipython3",
   "version": "3.11.5"
  }
 },
 "nbformat": 4,
 "nbformat_minor": 2
}
