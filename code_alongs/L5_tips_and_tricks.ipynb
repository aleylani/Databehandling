{
 "cells": [
  {
   "cell_type": "code",
   "execution_count": 2,
   "metadata": {},
   "outputs": [],
   "source": [
    "import pandas as pd "
   ]
  },
  {
   "cell_type": "code",
   "execution_count": 3,
   "metadata": {},
   "outputs": [],
   "source": [
    "data = {\n",
    "    'Name': ['John', 'Alice', 'Bob', 'John', 'Eve', 'Alice', 'Chris', 'David', 'Eve', 'Bob'],\n",
    "    'Age': [28, 25, 22, 28, 30, 25, 35, 32, 30, 22],\n",
    "    'City': ['New York', 'Los Angeles', 'Chicago', 'New York', 'San Francisco', 'Los Angeles', 'Chicago', 'New York', 'San Francisco', 'Los Angeles'],\n",
    "    'Department': ['HR', 'Engineering', 'Finance', 'HR', 'Engineering', 'Engineering', 'Finance', 'HR', 'Engineering', 'Finance'],\n",
    "    'Salary': [60000, 75000, 55000, 60000, 85000, 75000, 58000, 61000, 85000, 55000]\n",
    "}\n",
    "\n",
    "df = pd.DataFrame(data)"
   ]
  },
  {
   "cell_type": "code",
   "execution_count": null,
   "metadata": {},
   "outputs": [],
   "source": []
  }
 ],
 "metadata": {
  "kernelspec": {
   "display_name": "databehandling",
   "language": "python",
   "name": "python3"
  },
  "language_info": {
   "codemirror_mode": {
    "name": "ipython",
    "version": 3
   },
   "file_extension": ".py",
   "mimetype": "text/x-python",
   "name": "python",
   "nbconvert_exporter": "python",
   "pygments_lexer": "ipython3",
   "version": "3.11.5"
  }
 },
 "nbformat": 4,
 "nbformat_minor": 2
}
