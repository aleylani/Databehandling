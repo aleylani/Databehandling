{
 "cells": [
  {
   "cell_type": "code",
   "execution_count": 1,
   "metadata": {},
   "outputs": [],
   "source": [
    "from datetime import datetime"
   ]
  },
  {
   "cell_type": "markdown",
   "metadata": {},
   "source": [
    "Datetime documentation: https://docs.python.org/3/library/datetime.html"
   ]
  },
  {
   "cell_type": "markdown",
   "metadata": {},
   "source": [
    "**strptime** (String Parse Time. From *string* --> *datetime*):\n",
    "\n",
    "        strptime is used to parse a string representation of a date and time and convert it into a datetime object."
   ]
  },
  {
   "cell_type": "markdown",
   "metadata": {},
   "source": [
    "For parsing dates and times (used with strptime):\n",
    "\n",
    "**%Y**: Year with century as a number (e.g., '2023').\n",
    "\n",
    "**%y**: Year without century as a zero-padded number (e.g., '23' for '2023').\n",
    "\n",
    "**%m**: Month as a either a zero-padded number or straight-up number (e.g., '03' or '3' for March and 12 for December).\n",
    "\n",
    "**%d**: Day of the month as a zero-padded number or straight-up number (e.g., '09', '9' or '18').\n",
    "\n",
    "**%H**: Hour (24-hour clock) as a zero-padded number or straight up number(e.g., '12' for noon, and '03' or '3' for 3 o'clock).\n",
    "    \n",
    "**%I**: Hour (12-hour clock) as a zero-padded number or straight up number (e.g., '12' for noon, and '03' or '3' for 3 o'clock).\n",
    "    \n",
    "**%M**: Minute as a zero-padded number or straight up number (e.g., '03' or '3', and '22').\n",
    "    \n",
    "**%S**: Second as a zero-padded number or straight up number (e.g., '00' or '0').\n",
    "    \n",
    "**%p**: AM or PM (used with 12-hour clock) (e.g., 'AM' or 'PM')."
   ]
  },
  {
   "cell_type": "code",
   "execution_count": 46,
   "metadata": {},
   "outputs": [],
   "source": [
    "date_string = '2023-05-03 23:58:04'\n",
    "date_string2 = '1989-12-11 17:20:00'\n",
    "\n",
    "input_format = '%Y-%m-%d %H:%M:%S'"
   ]
  },
  {
   "cell_type": "code",
   "execution_count": 47,
   "metadata": {},
   "outputs": [],
   "source": [
    "datetime_object = datetime.strptime(date_string, input_format)\n",
    "datetime_object2 = datetime.strptime(date_string2, input_format)\n"
   ]
  },
  {
   "cell_type": "code",
   "execution_count": 49,
   "metadata": {},
   "outputs": [
    {
     "data": {
      "text/plain": [
       "datetime.datetime(2023, 5, 3, 23, 58, 4)"
      ]
     },
     "execution_count": 49,
     "metadata": {},
     "output_type": "execute_result"
    }
   ],
   "source": [
    "datetime_object"
   ]
  },
  {
   "cell_type": "code",
   "execution_count": 50,
   "metadata": {},
   "outputs": [
    {
     "data": {
      "text/plain": [
       "datetime.datetime(1989, 12, 11, 17, 20)"
      ]
     },
     "execution_count": 50,
     "metadata": {},
     "output_type": "execute_result"
    }
   ],
   "source": [
    "datetime_object2"
   ]
  },
  {
   "cell_type": "code",
   "execution_count": 231,
   "metadata": {},
   "outputs": [
    {
     "name": "stdout",
     "output_type": "stream",
     "text": [
      "2023-05-03 11:58:04\n"
     ]
    }
   ],
   "source": [
    "date_string3 = '2023-05-03 11:58:04 AM'\n",
    "\n",
    "input_format_freedom = '%Y-%m-%d %I:%M:%S %p'\n",
    "\n",
    "datetime_object_freedom = datetime.strptime(date_string3, input_format_freedom)\n",
    "\n",
    "print(datetime_object_freedom)\n"
   ]
  },
  {
   "cell_type": "code",
   "execution_count": 54,
   "metadata": {},
   "outputs": [
    {
     "data": {
      "text/plain": [
       "23884"
      ]
     },
     "execution_count": 54,
     "metadata": {},
     "output_type": "execute_result"
    }
   ],
   "source": [
    "date_distance = datetime_object - datetime_object2\n",
    "\n",
    "date_distance.seconds"
   ]
  },
  {
   "cell_type": "code",
   "execution_count": 153,
   "metadata": {},
   "outputs": [
    {
     "name": "stdout",
     "output_type": "stream",
     "text": [
      "2023-11-09 13:29:10.922071\n"
     ]
    }
   ],
   "source": [
    "now = datetime.now()\n",
    "\n",
    "print(now)"
   ]
  },
  {
   "cell_type": "code",
   "execution_count": 157,
   "metadata": {},
   "outputs": [
    {
     "data": {
      "text/plain": [
       "datetime.timedelta(days=189, seconds=48753, microseconds=296167)"
      ]
     },
     "execution_count": 157,
     "metadata": {},
     "output_type": "execute_result"
    }
   ],
   "source": [
    "distance"
   ]
  },
  {
   "cell_type": "code",
   "execution_count": 206,
   "metadata": {},
   "outputs": [
    {
     "name": "stdout",
     "output_type": "stream",
     "text": [
      "Your favourite teachers birthday was 12385 days, 20:11:17.788703 ago\n"
     ]
    }
   ],
   "source": [
    "now = datetime.now()\n",
    "\n",
    "distance = now - datetime_object2\n",
    "\n",
    "print(f'Your favourite teachers birthday was {distance} ago')"
   ]
  },
  {
   "cell_type": "code",
   "execution_count": 207,
   "metadata": {},
   "outputs": [],
   "source": [
    "my_dates = ['2021-11-13 12:00:00', '2023-08-02 23:58:04', '2023-08-03 23:58:04', '2023-04-03 21:22:04']"
   ]
  },
  {
   "cell_type": "code",
   "execution_count": 208,
   "metadata": {},
   "outputs": [],
   "source": [
    "import pandas as pd"
   ]
  },
  {
   "cell_type": "code",
   "execution_count": 209,
   "metadata": {},
   "outputs": [],
   "source": [
    "my_dates_series = pd.Series(my_dates)"
   ]
  },
  {
   "cell_type": "code",
   "execution_count": 211,
   "metadata": {},
   "outputs": [],
   "source": [
    "def string_to_datetime(date_string):\n",
    "\n",
    "    input_format = '%Y-%m-%d %H:%M:%S'\n",
    "    datetime_object = datetime.strptime(date_string, input_format)\n",
    "\n",
    "    return datetime_object"
   ]
  },
  {
   "cell_type": "code",
   "execution_count": 210,
   "metadata": {},
   "outputs": [
    {
     "data": {
      "text/plain": [
       "0    2021-11-13 12:00:00\n",
       "1    2023-08-02 23:58:04\n",
       "2    2023-08-03 23:58:04\n",
       "3    2023-04-03 21:22:04\n",
       "dtype: object"
      ]
     },
     "execution_count": 210,
     "metadata": {},
     "output_type": "execute_result"
    }
   ],
   "source": [
    "my_dates_series"
   ]
  },
  {
   "cell_type": "code",
   "execution_count": 213,
   "metadata": {},
   "outputs": [],
   "source": [
    "my_dates_series = my_dates_series.apply(string_to_datetime)"
   ]
  },
  {
   "cell_type": "code",
   "execution_count": 216,
   "metadata": {},
   "outputs": [
    {
     "data": {
      "text/plain": [
       "0   2021-11-13 12:00:00\n",
       "1   2023-08-02 23:58:04\n",
       "2   2023-08-03 23:58:04\n",
       "3   2023-04-03 21:22:04\n",
       "dtype: datetime64[ns]"
      ]
     },
     "execution_count": 216,
     "metadata": {},
     "output_type": "execute_result"
    }
   ],
   "source": [
    "my_dates_series"
   ]
  },
  {
   "cell_type": "code",
   "execution_count": 217,
   "metadata": {},
   "outputs": [
    {
     "data": {
      "text/plain": [
       "0   2021-11-13 12:00:00\n",
       "3   2023-04-03 21:22:04\n",
       "1   2023-08-02 23:58:04\n",
       "2   2023-08-03 23:58:04\n",
       "dtype: datetime64[ns]"
      ]
     },
     "execution_count": 217,
     "metadata": {},
     "output_type": "execute_result"
    }
   ],
   "source": [
    "my_dates_series.sort_values()"
   ]
  },
  {
   "cell_type": "code",
   "execution_count": 219,
   "metadata": {},
   "outputs": [
    {
     "data": {
      "text/html": [
       "<div>\n",
       "<style scoped>\n",
       "    .dataframe tbody tr th:only-of-type {\n",
       "        vertical-align: middle;\n",
       "    }\n",
       "\n",
       "    .dataframe tbody tr th {\n",
       "        vertical-align: top;\n",
       "    }\n",
       "\n",
       "    .dataframe thead th {\n",
       "        text-align: right;\n",
       "    }\n",
       "</style>\n",
       "<table border=\"1\" class=\"dataframe\">\n",
       "  <thead>\n",
       "    <tr style=\"text-align: right;\">\n",
       "      <th></th>\n",
       "      <th>Datetime</th>\n",
       "    </tr>\n",
       "  </thead>\n",
       "  <tbody>\n",
       "    <tr>\n",
       "      <th>0</th>\n",
       "      <td>2021-11-13 12:00:00</td>\n",
       "    </tr>\n",
       "    <tr>\n",
       "      <th>1</th>\n",
       "      <td>2023-08-02 23:58:04</td>\n",
       "    </tr>\n",
       "    <tr>\n",
       "      <th>2</th>\n",
       "      <td>2023-08-03 23:58:04</td>\n",
       "    </tr>\n",
       "    <tr>\n",
       "      <th>3</th>\n",
       "      <td>2023-04-03 21:22:04</td>\n",
       "    </tr>\n",
       "  </tbody>\n",
       "</table>\n",
       "</div>"
      ],
      "text/plain": [
       "             Datetime\n",
       "0 2021-11-13 12:00:00\n",
       "1 2023-08-02 23:58:04\n",
       "2 2023-08-03 23:58:04\n",
       "3 2023-04-03 21:22:04"
      ]
     },
     "execution_count": 219,
     "metadata": {},
     "output_type": "execute_result"
    }
   ],
   "source": [
    "my_dates_df = pd.DataFrame(my_dates_series).rename(columns={0:'Datetime'})\n",
    "\n",
    "my_dates_df"
   ]
  },
  {
   "cell_type": "code",
   "execution_count": 221,
   "metadata": {},
   "outputs": [],
   "source": [
    "my_dates_df['Hour'] = [date.hour for date in my_dates_df['Datetime']]"
   ]
  },
  {
   "cell_type": "code",
   "execution_count": 222,
   "metadata": {},
   "outputs": [
    {
     "data": {
      "text/html": [
       "<div>\n",
       "<style scoped>\n",
       "    .dataframe tbody tr th:only-of-type {\n",
       "        vertical-align: middle;\n",
       "    }\n",
       "\n",
       "    .dataframe tbody tr th {\n",
       "        vertical-align: top;\n",
       "    }\n",
       "\n",
       "    .dataframe thead th {\n",
       "        text-align: right;\n",
       "    }\n",
       "</style>\n",
       "<table border=\"1\" class=\"dataframe\">\n",
       "  <thead>\n",
       "    <tr style=\"text-align: right;\">\n",
       "      <th></th>\n",
       "      <th>Datetime</th>\n",
       "      <th>Hour</th>\n",
       "    </tr>\n",
       "  </thead>\n",
       "  <tbody>\n",
       "    <tr>\n",
       "      <th>0</th>\n",
       "      <td>2021-11-13 12:00:00</td>\n",
       "      <td>12</td>\n",
       "    </tr>\n",
       "    <tr>\n",
       "      <th>1</th>\n",
       "      <td>2023-08-02 23:58:04</td>\n",
       "      <td>23</td>\n",
       "    </tr>\n",
       "    <tr>\n",
       "      <th>2</th>\n",
       "      <td>2023-08-03 23:58:04</td>\n",
       "      <td>23</td>\n",
       "    </tr>\n",
       "    <tr>\n",
       "      <th>3</th>\n",
       "      <td>2023-04-03 21:22:04</td>\n",
       "      <td>21</td>\n",
       "    </tr>\n",
       "  </tbody>\n",
       "</table>\n",
       "</div>"
      ],
      "text/plain": [
       "             Datetime  Hour\n",
       "0 2021-11-13 12:00:00    12\n",
       "1 2023-08-02 23:58:04    23\n",
       "2 2023-08-03 23:58:04    23\n",
       "3 2023-04-03 21:22:04    21"
      ]
     },
     "execution_count": 222,
     "metadata": {},
     "output_type": "execute_result"
    }
   ],
   "source": [
    "my_dates_df"
   ]
  },
  {
   "cell_type": "markdown",
   "metadata": {},
   "source": [
    "Ni kan använda weekday() för att få ut veckodag. OBS: veckodagar anges i heltan 0-6 där 0 motsvarar måndag och 6 söndag"
   ]
  },
  {
   "cell_type": "code",
   "execution_count": 225,
   "metadata": {},
   "outputs": [
    {
     "data": {
      "text/plain": [
       "2"
      ]
     },
     "execution_count": 225,
     "metadata": {},
     "output_type": "execute_result"
    }
   ],
   "source": [
    "datetime_object.weekday()"
   ]
  },
  {
   "cell_type": "code",
   "execution_count": null,
   "metadata": {},
   "outputs": [],
   "source": []
  },
  {
   "cell_type": "code",
   "execution_count": null,
   "metadata": {},
   "outputs": [],
   "source": []
  },
  {
   "cell_type": "markdown",
   "metadata": {},
   "source": [
    "There are two main functions to handle dates in Python\n",
    "\n",
    "**strptime** (String Parse Time. From *string* --> *datetime*):\n",
    "\n",
    "        strptime is used to parse a string representation of a date and time and convert it into a datetime object."
   ]
  },
  {
   "cell_type": "markdown",
   "metadata": {},
   "source": [
    "**strftime** (String Format Time. From *datetime* --> *string*):\n",
    "\n",
    "        strftime is used to format a datetime object into a string representation according to a specified format."
   ]
  },
  {
   "cell_type": "markdown",
   "metadata": {},
   "source": []
  }
 ],
 "metadata": {
  "kernelspec": {
   "display_name": "databehandling",
   "language": "python",
   "name": "python3"
  },
  "language_info": {
   "codemirror_mode": {
    "name": "ipython",
    "version": 3
   },
   "file_extension": ".py",
   "mimetype": "text/x-python",
   "name": "python",
   "nbconvert_exporter": "python",
   "pygments_lexer": "ipython3",
   "version": "3.11.5"
  }
 },
 "nbformat": 4,
 "nbformat_minor": 2
}
