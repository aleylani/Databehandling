{
 "cells": [
  {
   "cell_type": "code",
   "execution_count": 1,
   "metadata": {},
   "outputs": [],
   "source": [
    "import numpy as np\n",
    "import pandas as pd"
   ]
  },
  {
   "cell_type": "markdown",
   "metadata": {},
   "source": [
    "## Series - class"
   ]
  },
  {
   "cell_type": "code",
   "execution_count": 2,
   "metadata": {},
   "outputs": [
    {
     "name": "stdout",
     "output_type": "stream",
     "text": [
      "[4, 5, 2, 7, 1, 6, 3, 3, 6, 5]\n",
      "0    4\n",
      "1    5\n",
      "2    2\n",
      "3    7\n",
      "4    1\n",
      "5    6\n",
      "6    3\n",
      "7    3\n",
      "8    6\n",
      "9    5\n",
      "dtype: int64\n"
     ]
    }
   ],
   "source": [
    "import random\n",
    "\n",
    "random_lista = [random.randint(1,10) for x in range(10)]\n",
    "print(random_lista)\n",
    "\n",
    "random_series = pd.Series(random_lista)\n",
    "\n",
    "print(random_series)"
   ]
  },
  {
   "cell_type": "code",
   "execution_count": 3,
   "metadata": {},
   "outputs": [
    {
     "data": {
      "text/plain": [
       "True"
      ]
     },
     "execution_count": 3,
     "metadata": {},
     "output_type": "execute_result"
    }
   ],
   "source": [
    "isinstance(random_series, pd.Series)"
   ]
  },
  {
   "cell_type": "code",
   "execution_count": 4,
   "metadata": {},
   "outputs": [
    {
     "name": "stdout",
     "output_type": "stream",
     "text": [
      "Min series minsta värde   : 1\n",
      "Min series maximala värde : 7\n",
      "Min series medelvärde     : 4.2\n"
     ]
    }
   ],
   "source": [
    "print(f'Min series minsta värde   : {random_series.min()}')\n",
    "print(f'Min series maximala värde : {random_series.max()}')\n",
    "print(f'Min series medelvärde     : {random_series.mean()}')"
   ]
  },
  {
   "cell_type": "markdown",
   "metadata": {},
   "source": [
    "## DataFrame - class"
   ]
  },
  {
   "cell_type": "code",
   "execution_count": 5,
   "metadata": {},
   "outputs": [
    {
     "data": {
      "text/plain": [
       "{'students': ('Ali', 'Amir', 'Rozann', 'Sawash'),\n",
       " 'age': [33, 0.75, 27, 3],\n",
       " 'eye color': array(['brown', 'blue', 'green', 'brown'], dtype='<U5')}"
      ]
     },
     "execution_count": 5,
     "metadata": {},
     "output_type": "execute_result"
    }
   ],
   "source": [
    "#obs värdena i vår dictionary behöver INTE vara listor, du kan gott kombinera blanda annat listor, arrays & tuples\n",
    "\n",
    "students = ('Ali', 'Amir', 'Rozann', 'Sawash')\n",
    "age = [33, 0.75, 27, 3]\n",
    "eye_color = np.array(['brown', 'blue', 'green', 'brown'])\n",
    "\n",
    "min_dictionary = {'students' : students, 'age': age, 'eye color': eye_color}\n",
    "\n",
    "min_dictionary"
   ]
  },
  {
   "cell_type": "code",
   "execution_count": 6,
   "metadata": {},
   "outputs": [
    {
     "data": {
      "text/html": [
       "<div>\n",
       "<style scoped>\n",
       "    .dataframe tbody tr th:only-of-type {\n",
       "        vertical-align: middle;\n",
       "    }\n",
       "\n",
       "    .dataframe tbody tr th {\n",
       "        vertical-align: top;\n",
       "    }\n",
       "\n",
       "    .dataframe thead th {\n",
       "        text-align: right;\n",
       "    }\n",
       "</style>\n",
       "<table border=\"1\" class=\"dataframe\">\n",
       "  <thead>\n",
       "    <tr style=\"text-align: right;\">\n",
       "      <th></th>\n",
       "      <th>students</th>\n",
       "      <th>age</th>\n",
       "      <th>eye color</th>\n",
       "    </tr>\n",
       "  </thead>\n",
       "  <tbody>\n",
       "    <tr>\n",
       "      <th>0</th>\n",
       "      <td>Ali</td>\n",
       "      <td>33.00</td>\n",
       "      <td>brown</td>\n",
       "    </tr>\n",
       "    <tr>\n",
       "      <th>1</th>\n",
       "      <td>Amir</td>\n",
       "      <td>0.75</td>\n",
       "      <td>blue</td>\n",
       "    </tr>\n",
       "    <tr>\n",
       "      <th>2</th>\n",
       "      <td>Rozann</td>\n",
       "      <td>27.00</td>\n",
       "      <td>green</td>\n",
       "    </tr>\n",
       "    <tr>\n",
       "      <th>3</th>\n",
       "      <td>Sawash</td>\n",
       "      <td>3.00</td>\n",
       "      <td>brown</td>\n",
       "    </tr>\n",
       "  </tbody>\n",
       "</table>\n",
       "</div>"
      ],
      "text/plain": [
       "  students    age eye color\n",
       "0      Ali  33.00     brown\n",
       "1     Amir   0.75      blue\n",
       "2   Rozann  27.00     green\n",
       "3   Sawash   3.00     brown"
      ]
     },
     "execution_count": 6,
     "metadata": {},
     "output_type": "execute_result"
    }
   ],
   "source": [
    "personal_df = pd.DataFrame(min_dictionary)\n",
    "\n",
    "personal_df"
   ]
  },
  {
   "cell_type": "code",
   "execution_count": 7,
   "metadata": {},
   "outputs": [
    {
     "name": "stdout",
     "output_type": "stream",
     "text": [
      "<class 'pandas.core.frame.DataFrame'>\n",
      "RangeIndex: 4 entries, 0 to 3\n",
      "Data columns (total 3 columns):\n",
      " #   Column     Non-Null Count  Dtype  \n",
      "---  ------     --------------  -----  \n",
      " 0   students   4 non-null      object \n",
      " 1   age        4 non-null      float64\n",
      " 2   eye color  4 non-null      object \n",
      "dtypes: float64(1), object(2)\n",
      "memory usage: 228.0+ bytes\n"
     ]
    }
   ],
   "source": [
    "personal_df.info()"
   ]
  },
  {
   "cell_type": "code",
   "execution_count": 20,
   "metadata": {},
   "outputs": [
    {
     "data": {
      "text/html": [
       "<div>\n",
       "<style scoped>\n",
       "    .dataframe tbody tr th:only-of-type {\n",
       "        vertical-align: middle;\n",
       "    }\n",
       "\n",
       "    .dataframe tbody tr th {\n",
       "        vertical-align: top;\n",
       "    }\n",
       "\n",
       "    .dataframe thead th {\n",
       "        text-align: right;\n",
       "    }\n",
       "</style>\n",
       "<table border=\"1\" class=\"dataframe\">\n",
       "  <thead>\n",
       "    <tr style=\"text-align: right;\">\n",
       "      <th></th>\n",
       "      <th>students</th>\n",
       "      <th>age</th>\n",
       "      <th>eye_color</th>\n",
       "    </tr>\n",
       "  </thead>\n",
       "  <tbody>\n",
       "    <tr>\n",
       "      <th>pappa</th>\n",
       "      <td>Ali</td>\n",
       "      <td>33.00</td>\n",
       "      <td>brown</td>\n",
       "    </tr>\n",
       "    <tr>\n",
       "      <th>son</th>\n",
       "      <td>Amir</td>\n",
       "      <td>0.75</td>\n",
       "      <td>blue</td>\n",
       "    </tr>\n",
       "    <tr>\n",
       "      <th>mamma</th>\n",
       "      <td>Rozann</td>\n",
       "      <td>27.00</td>\n",
       "      <td>green</td>\n",
       "    </tr>\n",
       "    <tr>\n",
       "      <th>hund</th>\n",
       "      <td>Sawash</td>\n",
       "      <td>3.00</td>\n",
       "      <td>brown</td>\n",
       "    </tr>\n",
       "  </tbody>\n",
       "</table>\n",
       "</div>"
      ],
      "text/plain": [
       "      students    age eye_color\n",
       "pappa      Ali  33.00     brown\n",
       "son       Amir   0.75      blue\n",
       "mamma   Rozann  27.00     green\n",
       "hund    Sawash   3.00     brown"
      ]
     },
     "execution_count": 20,
     "metadata": {},
     "output_type": "execute_result"
    }
   ],
   "source": [
    "#obs värdena i vår dictionary behöver INTE vara listor, du kan gott kombinera blanda annat listor, arrays & tuples\n",
    "\n",
    "students = ('Ali', 'Amir', 'Rozann', 'Sawash')\n",
    "age = [33, 0.75, 27, 3]\n",
    "eye_color = np.array(['brown', 'blue', 'green', 'brown'])\n",
    "\n",
    "min_dictionary = {'students' : students, 'age': age, 'eye_color': eye_color}\n",
    "\n",
    "another_df = pd.DataFrame(min_dictionary, index=['pappa', 'son', 'mamma', 'hund'])\n",
    "\n",
    "another_df"
   ]
  },
  {
   "cell_type": "code",
   "execution_count": 9,
   "metadata": {},
   "outputs": [
    {
     "data": {
      "text/html": [
       "<div>\n",
       "<style scoped>\n",
       "    .dataframe tbody tr th:only-of-type {\n",
       "        vertical-align: middle;\n",
       "    }\n",
       "\n",
       "    .dataframe tbody tr th {\n",
       "        vertical-align: top;\n",
       "    }\n",
       "\n",
       "    .dataframe thead th {\n",
       "        text-align: right;\n",
       "    }\n",
       "</style>\n",
       "<table border=\"1\" class=\"dataframe\">\n",
       "  <thead>\n",
       "    <tr style=\"text-align: right;\">\n",
       "      <th></th>\n",
       "      <th>students</th>\n",
       "      <th>age</th>\n",
       "      <th>eye color</th>\n",
       "    </tr>\n",
       "  </thead>\n",
       "  <tbody>\n",
       "    <tr>\n",
       "      <th>0</th>\n",
       "      <td>Ali</td>\n",
       "      <td>33.00</td>\n",
       "      <td>brown</td>\n",
       "    </tr>\n",
       "    <tr>\n",
       "      <th>1</th>\n",
       "      <td>Amir</td>\n",
       "      <td>0.75</td>\n",
       "      <td>blue</td>\n",
       "    </tr>\n",
       "    <tr>\n",
       "      <th>2</th>\n",
       "      <td>Rozann</td>\n",
       "      <td>27.00</td>\n",
       "      <td>green</td>\n",
       "    </tr>\n",
       "    <tr>\n",
       "      <th>3</th>\n",
       "      <td>Sawash</td>\n",
       "      <td>3.00</td>\n",
       "      <td>brown</td>\n",
       "    </tr>\n",
       "  </tbody>\n",
       "</table>\n",
       "</div>"
      ],
      "text/plain": [
       "  students    age eye color\n",
       "0      Ali  33.00     brown\n",
       "1     Amir   0.75      blue\n",
       "2   Rozann  27.00     green\n",
       "3   Sawash   3.00     brown"
      ]
     },
     "execution_count": 9,
     "metadata": {},
     "output_type": "execute_result"
    }
   ],
   "source": [
    "personal_df"
   ]
  },
  {
   "cell_type": "code",
   "execution_count": null,
   "metadata": {},
   "outputs": [],
   "source": [
    "personal_df.info()"
   ]
  },
  {
   "cell_type": "markdown",
   "metadata": {},
   "source": [
    "## Indexering"
   ]
  },
  {
   "cell_type": "code",
   "execution_count": 11,
   "metadata": {},
   "outputs": [
    {
     "data": {
      "text/html": [
       "<div>\n",
       "<style scoped>\n",
       "    .dataframe tbody tr th:only-of-type {\n",
       "        vertical-align: middle;\n",
       "    }\n",
       "\n",
       "    .dataframe tbody tr th {\n",
       "        vertical-align: top;\n",
       "    }\n",
       "\n",
       "    .dataframe thead th {\n",
       "        text-align: right;\n",
       "    }\n",
       "</style>\n",
       "<table border=\"1\" class=\"dataframe\">\n",
       "  <thead>\n",
       "    <tr style=\"text-align: right;\">\n",
       "      <th></th>\n",
       "      <th>students</th>\n",
       "      <th>age</th>\n",
       "      <th>eye color</th>\n",
       "    </tr>\n",
       "  </thead>\n",
       "  <tbody>\n",
       "    <tr>\n",
       "      <th>0</th>\n",
       "      <td>Ali</td>\n",
       "      <td>33.00</td>\n",
       "      <td>brown</td>\n",
       "    </tr>\n",
       "    <tr>\n",
       "      <th>1</th>\n",
       "      <td>Amir</td>\n",
       "      <td>0.75</td>\n",
       "      <td>blue</td>\n",
       "    </tr>\n",
       "    <tr>\n",
       "      <th>2</th>\n",
       "      <td>Rozann</td>\n",
       "      <td>27.00</td>\n",
       "      <td>green</td>\n",
       "    </tr>\n",
       "    <tr>\n",
       "      <th>3</th>\n",
       "      <td>Sawash</td>\n",
       "      <td>3.00</td>\n",
       "      <td>brown</td>\n",
       "    </tr>\n",
       "  </tbody>\n",
       "</table>\n",
       "</div>"
      ],
      "text/plain": [
       "  students    age eye color\n",
       "0      Ali  33.00     brown\n",
       "1     Amir   0.75      blue\n",
       "2   Rozann  27.00     green\n",
       "3   Sawash   3.00     brown"
      ]
     },
     "execution_count": 11,
     "metadata": {},
     "output_type": "execute_result"
    }
   ],
   "source": [
    "personal_df"
   ]
  },
  {
   "cell_type": "code",
   "execution_count": 12,
   "metadata": {},
   "outputs": [
    {
     "data": {
      "text/plain": [
       "0       Ali\n",
       "1      Amir\n",
       "2    Rozann\n",
       "3    Sawash\n",
       "Name: students, dtype: object"
      ]
     },
     "execution_count": 12,
     "metadata": {},
     "output_type": "execute_result"
    }
   ],
   "source": [
    "personal_df['students']"
   ]
  },
  {
   "cell_type": "markdown",
   "metadata": {},
   "source": [
    "För att indexera på fler kolumner behöver dessa anges i en lista"
   ]
  },
  {
   "cell_type": "code",
   "execution_count": 13,
   "metadata": {},
   "outputs": [
    {
     "data": {
      "text/html": [
       "<div>\n",
       "<style scoped>\n",
       "    .dataframe tbody tr th:only-of-type {\n",
       "        vertical-align: middle;\n",
       "    }\n",
       "\n",
       "    .dataframe tbody tr th {\n",
       "        vertical-align: top;\n",
       "    }\n",
       "\n",
       "    .dataframe thead th {\n",
       "        text-align: right;\n",
       "    }\n",
       "</style>\n",
       "<table border=\"1\" class=\"dataframe\">\n",
       "  <thead>\n",
       "    <tr style=\"text-align: right;\">\n",
       "      <th></th>\n",
       "      <th>students</th>\n",
       "      <th>age</th>\n",
       "    </tr>\n",
       "  </thead>\n",
       "  <tbody>\n",
       "    <tr>\n",
       "      <th>0</th>\n",
       "      <td>Ali</td>\n",
       "      <td>33.00</td>\n",
       "    </tr>\n",
       "    <tr>\n",
       "      <th>1</th>\n",
       "      <td>Amir</td>\n",
       "      <td>0.75</td>\n",
       "    </tr>\n",
       "    <tr>\n",
       "      <th>2</th>\n",
       "      <td>Rozann</td>\n",
       "      <td>27.00</td>\n",
       "    </tr>\n",
       "    <tr>\n",
       "      <th>3</th>\n",
       "      <td>Sawash</td>\n",
       "      <td>3.00</td>\n",
       "    </tr>\n",
       "  </tbody>\n",
       "</table>\n",
       "</div>"
      ],
      "text/plain": [
       "  students    age\n",
       "0      Ali  33.00\n",
       "1     Amir   0.75\n",
       "2   Rozann  27.00\n",
       "3   Sawash   3.00"
      ]
     },
     "execution_count": 13,
     "metadata": {},
     "output_type": "execute_result"
    }
   ],
   "source": [
    "personal_df[['students', 'age']]"
   ]
  },
  {
   "cell_type": "markdown",
   "metadata": {},
   "source": [
    "Man kan också komma åt sina kolumner genom att behandla de som attribut"
   ]
  },
  {
   "cell_type": "code",
   "execution_count": 14,
   "metadata": {},
   "outputs": [
    {
     "data": {
      "text/plain": [
       "0       Ali\n",
       "1      Amir\n",
       "2    Rozann\n",
       "3    Sawash\n",
       "Name: students, dtype: object"
      ]
     },
     "execution_count": 14,
     "metadata": {},
     "output_type": "execute_result"
    }
   ],
   "source": [
    "personal_df.students"
   ]
  },
  {
   "cell_type": "code",
   "execution_count": 29,
   "metadata": {},
   "outputs": [
    {
     "data": {
      "text/plain": [
       "'Ali'"
      ]
     },
     "execution_count": 29,
     "metadata": {},
     "output_type": "execute_result"
    }
   ],
   "source": [
    "personal_df['students'][0]"
   ]
  },
  {
   "cell_type": "code",
   "execution_count": 31,
   "metadata": {},
   "outputs": [
    {
     "data": {
      "text/plain": [
       "'Ali'"
      ]
     },
     "execution_count": 31,
     "metadata": {},
     "output_type": "execute_result"
    }
   ],
   "source": [
    "another_df['students']['pappa']"
   ]
  },
  {
   "cell_type": "markdown",
   "metadata": {},
   "source": [
    "## iloc & loc"
   ]
  },
  {
   "cell_type": "markdown",
   "metadata": {},
   "source": [
    "**iloc**: mer likt python idexering, som ni är vana vid\n",
    "\n",
    "**loc**: används för att indexera specifikt på de index som finns"
   ]
  },
  {
   "cell_type": "code",
   "execution_count": 40,
   "metadata": {},
   "outputs": [
    {
     "data": {
      "text/html": [
       "<div>\n",
       "<style scoped>\n",
       "    .dataframe tbody tr th:only-of-type {\n",
       "        vertical-align: middle;\n",
       "    }\n",
       "\n",
       "    .dataframe tbody tr th {\n",
       "        vertical-align: top;\n",
       "    }\n",
       "\n",
       "    .dataframe thead th {\n",
       "        text-align: right;\n",
       "    }\n",
       "</style>\n",
       "<table border=\"1\" class=\"dataframe\">\n",
       "  <thead>\n",
       "    <tr style=\"text-align: right;\">\n",
       "      <th></th>\n",
       "      <th>students</th>\n",
       "      <th>age</th>\n",
       "      <th>eye color</th>\n",
       "    </tr>\n",
       "  </thead>\n",
       "  <tbody>\n",
       "    <tr>\n",
       "      <th>0</th>\n",
       "      <td>Ali</td>\n",
       "      <td>33.00</td>\n",
       "      <td>brown</td>\n",
       "    </tr>\n",
       "    <tr>\n",
       "      <th>1</th>\n",
       "      <td>Amir</td>\n",
       "      <td>0.75</td>\n",
       "      <td>blue</td>\n",
       "    </tr>\n",
       "    <tr>\n",
       "      <th>2</th>\n",
       "      <td>Rozann</td>\n",
       "      <td>27.00</td>\n",
       "      <td>green</td>\n",
       "    </tr>\n",
       "    <tr>\n",
       "      <th>3</th>\n",
       "      <td>Sawash</td>\n",
       "      <td>3.00</td>\n",
       "      <td>brown</td>\n",
       "    </tr>\n",
       "  </tbody>\n",
       "</table>\n",
       "</div>"
      ],
      "text/plain": [
       "  students    age eye color\n",
       "0      Ali  33.00     brown\n",
       "1     Amir   0.75      blue\n",
       "2   Rozann  27.00     green\n",
       "3   Sawash   3.00     brown"
      ]
     },
     "execution_count": 40,
     "metadata": {},
     "output_type": "execute_result"
    }
   ],
   "source": [
    "personal_df"
   ]
  },
  {
   "cell_type": "code",
   "execution_count": 47,
   "metadata": {},
   "outputs": [
    {
     "data": {
      "text/plain": [
       "students       Ali\n",
       "age           33.0\n",
       "eye color    brown\n",
       "Name: 0, dtype: object"
      ]
     },
     "execution_count": 47,
     "metadata": {},
     "output_type": "execute_result"
    }
   ],
   "source": [
    "personal_df.iloc[0]"
   ]
  },
  {
   "cell_type": "code",
   "execution_count": 52,
   "metadata": {},
   "outputs": [
    {
     "data": {
      "text/html": [
       "<div>\n",
       "<style scoped>\n",
       "    .dataframe tbody tr th:only-of-type {\n",
       "        vertical-align: middle;\n",
       "    }\n",
       "\n",
       "    .dataframe tbody tr th {\n",
       "        vertical-align: top;\n",
       "    }\n",
       "\n",
       "    .dataframe thead th {\n",
       "        text-align: right;\n",
       "    }\n",
       "</style>\n",
       "<table border=\"1\" class=\"dataframe\">\n",
       "  <thead>\n",
       "    <tr style=\"text-align: right;\">\n",
       "      <th></th>\n",
       "      <th>students</th>\n",
       "      <th>age</th>\n",
       "      <th>eye color</th>\n",
       "    </tr>\n",
       "  </thead>\n",
       "  <tbody>\n",
       "    <tr>\n",
       "      <th>0</th>\n",
       "      <td>Ali</td>\n",
       "      <td>33.00</td>\n",
       "      <td>brown</td>\n",
       "    </tr>\n",
       "    <tr>\n",
       "      <th>1</th>\n",
       "      <td>Amir</td>\n",
       "      <td>0.75</td>\n",
       "      <td>blue</td>\n",
       "    </tr>\n",
       "  </tbody>\n",
       "</table>\n",
       "</div>"
      ],
      "text/plain": [
       "  students    age eye color\n",
       "0      Ali  33.00     brown\n",
       "1     Amir   0.75      blue"
      ]
     },
     "execution_count": 52,
     "metadata": {},
     "output_type": "execute_result"
    }
   ],
   "source": [
    "personal_df.iloc[0:2]"
   ]
  },
  {
   "cell_type": "code",
   "execution_count": 54,
   "metadata": {},
   "outputs": [
    {
     "data": {
      "text/html": [
       "<div>\n",
       "<style scoped>\n",
       "    .dataframe tbody tr th:only-of-type {\n",
       "        vertical-align: middle;\n",
       "    }\n",
       "\n",
       "    .dataframe tbody tr th {\n",
       "        vertical-align: top;\n",
       "    }\n",
       "\n",
       "    .dataframe thead th {\n",
       "        text-align: right;\n",
       "    }\n",
       "</style>\n",
       "<table border=\"1\" class=\"dataframe\">\n",
       "  <thead>\n",
       "    <tr style=\"text-align: right;\">\n",
       "      <th></th>\n",
       "      <th>students</th>\n",
       "      <th>age</th>\n",
       "      <th>eye color</th>\n",
       "    </tr>\n",
       "  </thead>\n",
       "  <tbody>\n",
       "    <tr>\n",
       "      <th>0</th>\n",
       "      <td>Ali</td>\n",
       "      <td>33.00</td>\n",
       "      <td>brown</td>\n",
       "    </tr>\n",
       "    <tr>\n",
       "      <th>1</th>\n",
       "      <td>Amir</td>\n",
       "      <td>0.75</td>\n",
       "      <td>blue</td>\n",
       "    </tr>\n",
       "  </tbody>\n",
       "</table>\n",
       "</div>"
      ],
      "text/plain": [
       "  students    age eye color\n",
       "0      Ali  33.00     brown\n",
       "1     Amir   0.75      blue"
      ]
     },
     "execution_count": 54,
     "metadata": {},
     "output_type": "execute_result"
    }
   ],
   "source": [
    "personal_df.iloc[0:2]"
   ]
  },
  {
   "cell_type": "code",
   "execution_count": 95,
   "metadata": {},
   "outputs": [
    {
     "data": {
      "text/html": [
       "<div>\n",
       "<style scoped>\n",
       "    .dataframe tbody tr th:only-of-type {\n",
       "        vertical-align: middle;\n",
       "    }\n",
       "\n",
       "    .dataframe tbody tr th {\n",
       "        vertical-align: top;\n",
       "    }\n",
       "\n",
       "    .dataframe thead th {\n",
       "        text-align: right;\n",
       "    }\n",
       "</style>\n",
       "<table border=\"1\" class=\"dataframe\">\n",
       "  <thead>\n",
       "    <tr style=\"text-align: right;\">\n",
       "      <th></th>\n",
       "      <th>students</th>\n",
       "      <th>age</th>\n",
       "      <th>eye color</th>\n",
       "    </tr>\n",
       "  </thead>\n",
       "  <tbody>\n",
       "    <tr>\n",
       "      <th>0</th>\n",
       "      <td>Ali</td>\n",
       "      <td>33.00</td>\n",
       "      <td>brown</td>\n",
       "    </tr>\n",
       "    <tr>\n",
       "      <th>1</th>\n",
       "      <td>Amir</td>\n",
       "      <td>0.75</td>\n",
       "      <td>blue</td>\n",
       "    </tr>\n",
       "    <tr>\n",
       "      <th>2</th>\n",
       "      <td>Rozann</td>\n",
       "      <td>27.00</td>\n",
       "      <td>green</td>\n",
       "    </tr>\n",
       "    <tr>\n",
       "      <th>3</th>\n",
       "      <td>Sawash</td>\n",
       "      <td>3.00</td>\n",
       "      <td>brown</td>\n",
       "    </tr>\n",
       "  </tbody>\n",
       "</table>\n",
       "</div>"
      ],
      "text/plain": [
       "  students    age eye color\n",
       "0      Ali  33.00     brown\n",
       "1     Amir   0.75      blue\n",
       "2   Rozann  27.00     green\n",
       "3   Sawash   3.00     brown"
      ]
     },
     "execution_count": 95,
     "metadata": {},
     "output_type": "execute_result"
    }
   ],
   "source": [
    "personal_df.iloc[:]"
   ]
  },
  {
   "cell_type": "code",
   "execution_count": 107,
   "metadata": {},
   "outputs": [
    {
     "data": {
      "text/plain": [
       "'green'"
      ]
     },
     "execution_count": 107,
     "metadata": {},
     "output_type": "execute_result"
    }
   ],
   "source": [
    "# first index is row, second index is column\n",
    "\n",
    "personal_df.iloc[2, 2]"
   ]
  },
  {
   "cell_type": "code",
   "execution_count": 108,
   "metadata": {},
   "outputs": [
    {
     "data": {
      "text/html": [
       "<div>\n",
       "<style scoped>\n",
       "    .dataframe tbody tr th:only-of-type {\n",
       "        vertical-align: middle;\n",
       "    }\n",
       "\n",
       "    .dataframe tbody tr th {\n",
       "        vertical-align: top;\n",
       "    }\n",
       "\n",
       "    .dataframe thead th {\n",
       "        text-align: right;\n",
       "    }\n",
       "</style>\n",
       "<table border=\"1\" class=\"dataframe\">\n",
       "  <thead>\n",
       "    <tr style=\"text-align: right;\">\n",
       "      <th></th>\n",
       "      <th>age</th>\n",
       "      <th>eye color</th>\n",
       "    </tr>\n",
       "  </thead>\n",
       "  <tbody>\n",
       "    <tr>\n",
       "      <th>0</th>\n",
       "      <td>33.00</td>\n",
       "      <td>brown</td>\n",
       "    </tr>\n",
       "    <tr>\n",
       "      <th>1</th>\n",
       "      <td>0.75</td>\n",
       "      <td>blue</td>\n",
       "    </tr>\n",
       "  </tbody>\n",
       "</table>\n",
       "</div>"
      ],
      "text/plain": [
       "     age eye color\n",
       "0  33.00     brown\n",
       "1   0.75      blue"
      ]
     },
     "execution_count": 108,
     "metadata": {},
     "output_type": "execute_result"
    }
   ],
   "source": [
    "personal_df.iloc[:2, 1:3]"
   ]
  },
  {
   "cell_type": "code",
   "execution_count": 111,
   "metadata": {},
   "outputs": [
    {
     "data": {
      "text/html": [
       "<div>\n",
       "<style scoped>\n",
       "    .dataframe tbody tr th:only-of-type {\n",
       "        vertical-align: middle;\n",
       "    }\n",
       "\n",
       "    .dataframe tbody tr th {\n",
       "        vertical-align: top;\n",
       "    }\n",
       "\n",
       "    .dataframe thead th {\n",
       "        text-align: right;\n",
       "    }\n",
       "</style>\n",
       "<table border=\"1\" class=\"dataframe\">\n",
       "  <thead>\n",
       "    <tr style=\"text-align: right;\">\n",
       "      <th></th>\n",
       "      <th>students</th>\n",
       "      <th>age</th>\n",
       "      <th>eye color</th>\n",
       "    </tr>\n",
       "  </thead>\n",
       "  <tbody>\n",
       "    <tr>\n",
       "      <th>0</th>\n",
       "      <td>Ali</td>\n",
       "      <td>33.00</td>\n",
       "      <td>brown</td>\n",
       "    </tr>\n",
       "    <tr>\n",
       "      <th>1</th>\n",
       "      <td>Amir</td>\n",
       "      <td>0.75</td>\n",
       "      <td>blue</td>\n",
       "    </tr>\n",
       "    <tr>\n",
       "      <th>2</th>\n",
       "      <td>Rozann</td>\n",
       "      <td>27.00</td>\n",
       "      <td>green</td>\n",
       "    </tr>\n",
       "    <tr>\n",
       "      <th>3</th>\n",
       "      <td>Sawash</td>\n",
       "      <td>3.00</td>\n",
       "      <td>brown</td>\n",
       "    </tr>\n",
       "  </tbody>\n",
       "</table>\n",
       "</div>"
      ],
      "text/plain": [
       "  students    age eye color\n",
       "0      Ali  33.00     brown\n",
       "1     Amir   0.75      blue\n",
       "2   Rozann  27.00     green\n",
       "3   Sawash   3.00     brown"
      ]
     },
     "execution_count": 111,
     "metadata": {},
     "output_type": "execute_result"
    }
   ],
   "source": [
    "personal_df"
   ]
  },
  {
   "cell_type": "code",
   "execution_count": 115,
   "metadata": {},
   "outputs": [
    {
     "data": {
      "text/html": [
       "<div>\n",
       "<style scoped>\n",
       "    .dataframe tbody tr th:only-of-type {\n",
       "        vertical-align: middle;\n",
       "    }\n",
       "\n",
       "    .dataframe tbody tr th {\n",
       "        vertical-align: top;\n",
       "    }\n",
       "\n",
       "    .dataframe thead th {\n",
       "        text-align: right;\n",
       "    }\n",
       "</style>\n",
       "<table border=\"1\" class=\"dataframe\">\n",
       "  <thead>\n",
       "    <tr style=\"text-align: right;\">\n",
       "      <th></th>\n",
       "      <th>students</th>\n",
       "      <th>age</th>\n",
       "    </tr>\n",
       "  </thead>\n",
       "  <tbody>\n",
       "    <tr>\n",
       "      <th>1</th>\n",
       "      <td>Amir</td>\n",
       "      <td>0.75</td>\n",
       "    </tr>\n",
       "    <tr>\n",
       "      <th>2</th>\n",
       "      <td>Rozann</td>\n",
       "      <td>27.00</td>\n",
       "    </tr>\n",
       "  </tbody>\n",
       "</table>\n",
       "</div>"
      ],
      "text/plain": [
       "  students    age\n",
       "1     Amir   0.75\n",
       "2   Rozann  27.00"
      ]
     },
     "execution_count": 115,
     "metadata": {},
     "output_type": "execute_result"
    }
   ],
   "source": [
    "personal_df.iloc[1:3, :2]"
   ]
  },
  {
   "cell_type": "code",
   "execution_count": 94,
   "metadata": {},
   "outputs": [
    {
     "data": {
      "text/html": [
       "<div>\n",
       "<style scoped>\n",
       "    .dataframe tbody tr th:only-of-type {\n",
       "        vertical-align: middle;\n",
       "    }\n",
       "\n",
       "    .dataframe tbody tr th {\n",
       "        vertical-align: top;\n",
       "    }\n",
       "\n",
       "    .dataframe thead th {\n",
       "        text-align: right;\n",
       "    }\n",
       "</style>\n",
       "<table border=\"1\" class=\"dataframe\">\n",
       "  <thead>\n",
       "    <tr style=\"text-align: right;\">\n",
       "      <th></th>\n",
       "      <th>students</th>\n",
       "      <th>age</th>\n",
       "      <th>eye_color</th>\n",
       "    </tr>\n",
       "  </thead>\n",
       "  <tbody>\n",
       "    <tr>\n",
       "      <th>pappa</th>\n",
       "      <td>Ali</td>\n",
       "      <td>33.00</td>\n",
       "      <td>brown</td>\n",
       "    </tr>\n",
       "    <tr>\n",
       "      <th>son</th>\n",
       "      <td>Amir</td>\n",
       "      <td>0.75</td>\n",
       "      <td>blue</td>\n",
       "    </tr>\n",
       "    <tr>\n",
       "      <th>mamma</th>\n",
       "      <td>Rozann</td>\n",
       "      <td>27.00</td>\n",
       "      <td>green</td>\n",
       "    </tr>\n",
       "    <tr>\n",
       "      <th>hund</th>\n",
       "      <td>Sawash</td>\n",
       "      <td>3.00</td>\n",
       "      <td>brown</td>\n",
       "    </tr>\n",
       "  </tbody>\n",
       "</table>\n",
       "</div>"
      ],
      "text/plain": [
       "      students    age eye_color\n",
       "pappa      Ali  33.00     brown\n",
       "son       Amir   0.75      blue\n",
       "mamma   Rozann  27.00     green\n",
       "hund    Sawash   3.00     brown"
      ]
     },
     "execution_count": 94,
     "metadata": {},
     "output_type": "execute_result"
    }
   ],
   "source": [
    "another_df"
   ]
  },
  {
   "cell_type": "code",
   "execution_count": 48,
   "metadata": {},
   "outputs": [
    {
     "data": {
      "text/plain": [
       "students       Ali\n",
       "age           33.0\n",
       "eye_color    brown\n",
       "Name: pappa, dtype: object"
      ]
     },
     "execution_count": 48,
     "metadata": {},
     "output_type": "execute_result"
    }
   ],
   "source": [
    "another_df.iloc[0]"
   ]
  },
  {
   "cell_type": "code",
   "execution_count": 50,
   "metadata": {},
   "outputs": [
    {
     "data": {
      "text/html": [
       "<div>\n",
       "<style scoped>\n",
       "    .dataframe tbody tr th:only-of-type {\n",
       "        vertical-align: middle;\n",
       "    }\n",
       "\n",
       "    .dataframe tbody tr th {\n",
       "        vertical-align: top;\n",
       "    }\n",
       "\n",
       "    .dataframe thead th {\n",
       "        text-align: right;\n",
       "    }\n",
       "</style>\n",
       "<table border=\"1\" class=\"dataframe\">\n",
       "  <thead>\n",
       "    <tr style=\"text-align: right;\">\n",
       "      <th></th>\n",
       "      <th>students</th>\n",
       "      <th>age</th>\n",
       "      <th>eye_color</th>\n",
       "    </tr>\n",
       "  </thead>\n",
       "  <tbody>\n",
       "    <tr>\n",
       "      <th>pappa</th>\n",
       "      <td>Ali</td>\n",
       "      <td>33.00</td>\n",
       "      <td>brown</td>\n",
       "    </tr>\n",
       "    <tr>\n",
       "      <th>son</th>\n",
       "      <td>Amir</td>\n",
       "      <td>0.75</td>\n",
       "      <td>blue</td>\n",
       "    </tr>\n",
       "  </tbody>\n",
       "</table>\n",
       "</div>"
      ],
      "text/plain": [
       "      students    age eye_color\n",
       "pappa      Ali  33.00     brown\n",
       "son       Amir   0.75      blue"
      ]
     },
     "execution_count": 50,
     "metadata": {},
     "output_type": "execute_result"
    }
   ],
   "source": [
    "another_df.iloc[0:2]"
   ]
  },
  {
   "cell_type": "markdown",
   "metadata": {},
   "source": [
    "**loc**"
   ]
  },
  {
   "cell_type": "code",
   "execution_count": 117,
   "metadata": {},
   "outputs": [
    {
     "data": {
      "text/html": [
       "<div>\n",
       "<style scoped>\n",
       "    .dataframe tbody tr th:only-of-type {\n",
       "        vertical-align: middle;\n",
       "    }\n",
       "\n",
       "    .dataframe tbody tr th {\n",
       "        vertical-align: top;\n",
       "    }\n",
       "\n",
       "    .dataframe thead th {\n",
       "        text-align: right;\n",
       "    }\n",
       "</style>\n",
       "<table border=\"1\" class=\"dataframe\">\n",
       "  <thead>\n",
       "    <tr style=\"text-align: right;\">\n",
       "      <th></th>\n",
       "      <th>students</th>\n",
       "      <th>age</th>\n",
       "      <th>eye_color</th>\n",
       "    </tr>\n",
       "  </thead>\n",
       "  <tbody>\n",
       "    <tr>\n",
       "      <th>pappa</th>\n",
       "      <td>Ali</td>\n",
       "      <td>33.00</td>\n",
       "      <td>brown</td>\n",
       "    </tr>\n",
       "    <tr>\n",
       "      <th>son</th>\n",
       "      <td>Amir</td>\n",
       "      <td>0.75</td>\n",
       "      <td>blue</td>\n",
       "    </tr>\n",
       "    <tr>\n",
       "      <th>mamma</th>\n",
       "      <td>Rozann</td>\n",
       "      <td>27.00</td>\n",
       "      <td>green</td>\n",
       "    </tr>\n",
       "    <tr>\n",
       "      <th>hund</th>\n",
       "      <td>Sawash</td>\n",
       "      <td>3.00</td>\n",
       "      <td>brown</td>\n",
       "    </tr>\n",
       "  </tbody>\n",
       "</table>\n",
       "</div>"
      ],
      "text/plain": [
       "      students    age eye_color\n",
       "pappa      Ali  33.00     brown\n",
       "son       Amir   0.75      blue\n",
       "mamma   Rozann  27.00     green\n",
       "hund    Sawash   3.00     brown"
      ]
     },
     "execution_count": 117,
     "metadata": {},
     "output_type": "execute_result"
    }
   ],
   "source": [
    "another_df"
   ]
  },
  {
   "cell_type": "code",
   "execution_count": 127,
   "metadata": {},
   "outputs": [
    {
     "data": {
      "text/plain": [
       "age          0.75\n",
       "eye_color    blue\n",
       "Name: son, dtype: object"
      ]
     },
     "execution_count": 127,
     "metadata": {},
     "output_type": "execute_result"
    }
   ],
   "source": [
    "another_df.loc['son', ['age', 'eye_color']]"
   ]
  },
  {
   "cell_type": "code",
   "execution_count": 153,
   "metadata": {},
   "outputs": [
    {
     "data": {
      "text/html": [
       "<div>\n",
       "<style scoped>\n",
       "    .dataframe tbody tr th:only-of-type {\n",
       "        vertical-align: middle;\n",
       "    }\n",
       "\n",
       "    .dataframe tbody tr th {\n",
       "        vertical-align: top;\n",
       "    }\n",
       "\n",
       "    .dataframe thead th {\n",
       "        text-align: right;\n",
       "    }\n",
       "</style>\n",
       "<table border=\"1\" class=\"dataframe\">\n",
       "  <thead>\n",
       "    <tr style=\"text-align: right;\">\n",
       "      <th></th>\n",
       "      <th>age</th>\n",
       "      <th>eye_color</th>\n",
       "    </tr>\n",
       "  </thead>\n",
       "  <tbody>\n",
       "    <tr>\n",
       "      <th>son</th>\n",
       "      <td>0.75</td>\n",
       "      <td>blue</td>\n",
       "    </tr>\n",
       "    <tr>\n",
       "      <th>hund</th>\n",
       "      <td>3.00</td>\n",
       "      <td>brown</td>\n",
       "    </tr>\n",
       "  </tbody>\n",
       "</table>\n",
       "</div>"
      ],
      "text/plain": [
       "       age eye_color\n",
       "son   0.75      blue\n",
       "hund  3.00     brown"
      ]
     },
     "execution_count": 153,
     "metadata": {},
     "output_type": "execute_result"
    }
   ],
   "source": [
    "another_df.loc[['son','hund'], ['age', 'eye_color']]"
   ]
  },
  {
   "cell_type": "code",
   "execution_count": 121,
   "metadata": {},
   "outputs": [
    {
     "data": {
      "text/html": [
       "<div>\n",
       "<style scoped>\n",
       "    .dataframe tbody tr th:only-of-type {\n",
       "        vertical-align: middle;\n",
       "    }\n",
       "\n",
       "    .dataframe tbody tr th {\n",
       "        vertical-align: top;\n",
       "    }\n",
       "\n",
       "    .dataframe thead th {\n",
       "        text-align: right;\n",
       "    }\n",
       "</style>\n",
       "<table border=\"1\" class=\"dataframe\">\n",
       "  <thead>\n",
       "    <tr style=\"text-align: right;\">\n",
       "      <th></th>\n",
       "      <th>students</th>\n",
       "      <th>age</th>\n",
       "      <th>eye color</th>\n",
       "    </tr>\n",
       "  </thead>\n",
       "  <tbody>\n",
       "    <tr>\n",
       "      <th>0</th>\n",
       "      <td>Ali</td>\n",
       "      <td>33.00</td>\n",
       "      <td>brown</td>\n",
       "    </tr>\n",
       "    <tr>\n",
       "      <th>1</th>\n",
       "      <td>Amir</td>\n",
       "      <td>0.75</td>\n",
       "      <td>blue</td>\n",
       "    </tr>\n",
       "    <tr>\n",
       "      <th>2</th>\n",
       "      <td>Rozann</td>\n",
       "      <td>27.00</td>\n",
       "      <td>green</td>\n",
       "    </tr>\n",
       "    <tr>\n",
       "      <th>3</th>\n",
       "      <td>Sawash</td>\n",
       "      <td>3.00</td>\n",
       "      <td>brown</td>\n",
       "    </tr>\n",
       "  </tbody>\n",
       "</table>\n",
       "</div>"
      ],
      "text/plain": [
       "  students    age eye color\n",
       "0      Ali  33.00     brown\n",
       "1     Amir   0.75      blue\n",
       "2   Rozann  27.00     green\n",
       "3   Sawash   3.00     brown"
      ]
     },
     "execution_count": 121,
     "metadata": {},
     "output_type": "execute_result"
    }
   ],
   "source": [
    "personal_df"
   ]
  },
  {
   "cell_type": "code",
   "execution_count": 149,
   "metadata": {},
   "outputs": [
    {
     "data": {
      "text/plain": [
       "0.75"
      ]
     },
     "execution_count": 149,
     "metadata": {},
     "output_type": "execute_result"
    }
   ],
   "source": [
    "personal_df.loc[1, 'age']"
   ]
  },
  {
   "cell_type": "code",
   "execution_count": 146,
   "metadata": {},
   "outputs": [
    {
     "data": {
      "text/html": [
       "<div>\n",
       "<style scoped>\n",
       "    .dataframe tbody tr th:only-of-type {\n",
       "        vertical-align: middle;\n",
       "    }\n",
       "\n",
       "    .dataframe tbody tr th {\n",
       "        vertical-align: top;\n",
       "    }\n",
       "\n",
       "    .dataframe thead th {\n",
       "        text-align: right;\n",
       "    }\n",
       "</style>\n",
       "<table border=\"1\" class=\"dataframe\">\n",
       "  <thead>\n",
       "    <tr style=\"text-align: right;\">\n",
       "      <th></th>\n",
       "      <th>age</th>\n",
       "      <th>eye_color</th>\n",
       "    </tr>\n",
       "  </thead>\n",
       "  <tbody>\n",
       "    <tr>\n",
       "      <th>pappa</th>\n",
       "      <td>33.00</td>\n",
       "      <td>brown</td>\n",
       "    </tr>\n",
       "    <tr>\n",
       "      <th>son</th>\n",
       "      <td>0.75</td>\n",
       "      <td>blue</td>\n",
       "    </tr>\n",
       "    <tr>\n",
       "      <th>mamma</th>\n",
       "      <td>27.00</td>\n",
       "      <td>green</td>\n",
       "    </tr>\n",
       "  </tbody>\n",
       "</table>\n",
       "</div>"
      ],
      "text/plain": [
       "         age eye_color\n",
       "pappa  33.00     brown\n",
       "son     0.75      blue\n",
       "mamma  27.00     green"
      ]
     },
     "execution_count": 146,
     "metadata": {},
     "output_type": "execute_result"
    }
   ],
   "source": [
    "another_df.loc['pappa':'mamma', 'age':'eye_color']"
   ]
  },
  {
   "cell_type": "markdown",
   "metadata": {},
   "source": [
    "## MASKING"
   ]
  },
  {
   "cell_type": "code",
   "execution_count": 162,
   "metadata": {},
   "outputs": [
    {
     "data": {
      "text/html": [
       "<div>\n",
       "<style scoped>\n",
       "    .dataframe tbody tr th:only-of-type {\n",
       "        vertical-align: middle;\n",
       "    }\n",
       "\n",
       "    .dataframe tbody tr th {\n",
       "        vertical-align: top;\n",
       "    }\n",
       "\n",
       "    .dataframe thead th {\n",
       "        text-align: right;\n",
       "    }\n",
       "</style>\n",
       "<table border=\"1\" class=\"dataframe\">\n",
       "  <thead>\n",
       "    <tr style=\"text-align: right;\">\n",
       "      <th></th>\n",
       "      <th>students</th>\n",
       "      <th>age</th>\n",
       "      <th>eye color</th>\n",
       "    </tr>\n",
       "  </thead>\n",
       "  <tbody>\n",
       "    <tr>\n",
       "      <th>0</th>\n",
       "      <td>Ali</td>\n",
       "      <td>33.00</td>\n",
       "      <td>brown</td>\n",
       "    </tr>\n",
       "    <tr>\n",
       "      <th>1</th>\n",
       "      <td>Amir</td>\n",
       "      <td>0.75</td>\n",
       "      <td>blue</td>\n",
       "    </tr>\n",
       "    <tr>\n",
       "      <th>2</th>\n",
       "      <td>Rozann</td>\n",
       "      <td>27.00</td>\n",
       "      <td>green</td>\n",
       "    </tr>\n",
       "    <tr>\n",
       "      <th>3</th>\n",
       "      <td>Sawash</td>\n",
       "      <td>3.00</td>\n",
       "      <td>brown</td>\n",
       "    </tr>\n",
       "  </tbody>\n",
       "</table>\n",
       "</div>"
      ],
      "text/plain": [
       "  students    age eye color\n",
       "0      Ali  33.00     brown\n",
       "1     Amir   0.75      blue\n",
       "2   Rozann  27.00     green\n",
       "3   Sawash   3.00     brown"
      ]
     },
     "execution_count": 162,
     "metadata": {},
     "output_type": "execute_result"
    }
   ],
   "source": [
    "personal_df"
   ]
  },
  {
   "cell_type": "code",
   "execution_count": 164,
   "metadata": {},
   "outputs": [
    {
     "data": {
      "text/html": [
       "<div>\n",
       "<style scoped>\n",
       "    .dataframe tbody tr th:only-of-type {\n",
       "        vertical-align: middle;\n",
       "    }\n",
       "\n",
       "    .dataframe tbody tr th {\n",
       "        vertical-align: top;\n",
       "    }\n",
       "\n",
       "    .dataframe thead th {\n",
       "        text-align: right;\n",
       "    }\n",
       "</style>\n",
       "<table border=\"1\" class=\"dataframe\">\n",
       "  <thead>\n",
       "    <tr style=\"text-align: right;\">\n",
       "      <th></th>\n",
       "      <th>students</th>\n",
       "      <th>age</th>\n",
       "      <th>eye color</th>\n",
       "    </tr>\n",
       "  </thead>\n",
       "  <tbody>\n",
       "    <tr>\n",
       "      <th>1</th>\n",
       "      <td>Amir</td>\n",
       "      <td>0.75</td>\n",
       "      <td>blue</td>\n",
       "    </tr>\n",
       "    <tr>\n",
       "      <th>3</th>\n",
       "      <td>Sawash</td>\n",
       "      <td>3.00</td>\n",
       "      <td>brown</td>\n",
       "    </tr>\n",
       "  </tbody>\n",
       "</table>\n",
       "</div>"
      ],
      "text/plain": [
       "  students   age eye color\n",
       "1     Amir  0.75      blue\n",
       "3   Sawash  3.00     brown"
      ]
     },
     "execution_count": 164,
     "metadata": {},
     "output_type": "execute_result"
    }
   ],
   "source": [
    "personal_df[ [False, True, False, True] ]"
   ]
  },
  {
   "cell_type": "code",
   "execution_count": 169,
   "metadata": {},
   "outputs": [
    {
     "data": {
      "text/html": [
       "<div>\n",
       "<style scoped>\n",
       "    .dataframe tbody tr th:only-of-type {\n",
       "        vertical-align: middle;\n",
       "    }\n",
       "\n",
       "    .dataframe tbody tr th {\n",
       "        vertical-align: top;\n",
       "    }\n",
       "\n",
       "    .dataframe thead th {\n",
       "        text-align: right;\n",
       "    }\n",
       "</style>\n",
       "<table border=\"1\" class=\"dataframe\">\n",
       "  <thead>\n",
       "    <tr style=\"text-align: right;\">\n",
       "      <th></th>\n",
       "      <th>students</th>\n",
       "      <th>age</th>\n",
       "      <th>eye color</th>\n",
       "    </tr>\n",
       "  </thead>\n",
       "  <tbody>\n",
       "    <tr>\n",
       "      <th>1</th>\n",
       "      <td>Amir</td>\n",
       "      <td>0.75</td>\n",
       "      <td>blue</td>\n",
       "    </tr>\n",
       "    <tr>\n",
       "      <th>2</th>\n",
       "      <td>Rozann</td>\n",
       "      <td>27.00</td>\n",
       "      <td>green</td>\n",
       "    </tr>\n",
       "    <tr>\n",
       "      <th>3</th>\n",
       "      <td>Sawash</td>\n",
       "      <td>3.00</td>\n",
       "      <td>brown</td>\n",
       "    </tr>\n",
       "  </tbody>\n",
       "</table>\n",
       "</div>"
      ],
      "text/plain": [
       "  students    age eye color\n",
       "1     Amir   0.75      blue\n",
       "2   Rozann  27.00     green\n",
       "3   Sawash   3.00     brown"
      ]
     },
     "execution_count": 169,
     "metadata": {},
     "output_type": "execute_result"
    }
   ],
   "source": [
    "personal_df[ [False, True, True, True] ]"
   ]
  },
  {
   "cell_type": "code",
   "execution_count": 170,
   "metadata": {},
   "outputs": [
    {
     "data": {
      "text/html": [
       "<div>\n",
       "<style scoped>\n",
       "    .dataframe tbody tr th:only-of-type {\n",
       "        vertical-align: middle;\n",
       "    }\n",
       "\n",
       "    .dataframe tbody tr th {\n",
       "        vertical-align: top;\n",
       "    }\n",
       "\n",
       "    .dataframe thead th {\n",
       "        text-align: right;\n",
       "    }\n",
       "</style>\n",
       "<table border=\"1\" class=\"dataframe\">\n",
       "  <thead>\n",
       "    <tr style=\"text-align: right;\">\n",
       "      <th></th>\n",
       "      <th>students</th>\n",
       "      <th>age</th>\n",
       "      <th>eye color</th>\n",
       "    </tr>\n",
       "  </thead>\n",
       "  <tbody>\n",
       "    <tr>\n",
       "      <th>0</th>\n",
       "      <td>Ali</td>\n",
       "      <td>33.00</td>\n",
       "      <td>brown</td>\n",
       "    </tr>\n",
       "    <tr>\n",
       "      <th>1</th>\n",
       "      <td>Amir</td>\n",
       "      <td>0.75</td>\n",
       "      <td>blue</td>\n",
       "    </tr>\n",
       "    <tr>\n",
       "      <th>2</th>\n",
       "      <td>Rozann</td>\n",
       "      <td>27.00</td>\n",
       "      <td>green</td>\n",
       "    </tr>\n",
       "    <tr>\n",
       "      <th>3</th>\n",
       "      <td>Sawash</td>\n",
       "      <td>3.00</td>\n",
       "      <td>brown</td>\n",
       "    </tr>\n",
       "  </tbody>\n",
       "</table>\n",
       "</div>"
      ],
      "text/plain": [
       "  students    age eye color\n",
       "0      Ali  33.00     brown\n",
       "1     Amir   0.75      blue\n",
       "2   Rozann  27.00     green\n",
       "3   Sawash   3.00     brown"
      ]
     },
     "execution_count": 170,
     "metadata": {},
     "output_type": "execute_result"
    }
   ],
   "source": [
    "personal_df"
   ]
  },
  {
   "cell_type": "code",
   "execution_count": null,
   "metadata": {},
   "outputs": [],
   "source": []
  },
  {
   "cell_type": "code",
   "execution_count": 174,
   "metadata": {},
   "outputs": [
    {
     "data": {
      "text/plain": [
       "0     True\n",
       "1    False\n",
       "2     True\n",
       "3    False\n",
       "Name: age, dtype: bool"
      ]
     },
     "execution_count": 174,
     "metadata": {},
     "output_type": "execute_result"
    }
   ],
   "source": [
    "personal_df['age'] > 10"
   ]
  },
  {
   "cell_type": "code",
   "execution_count": 176,
   "metadata": {},
   "outputs": [
    {
     "data": {
      "text/html": [
       "<div>\n",
       "<style scoped>\n",
       "    .dataframe tbody tr th:only-of-type {\n",
       "        vertical-align: middle;\n",
       "    }\n",
       "\n",
       "    .dataframe tbody tr th {\n",
       "        vertical-align: top;\n",
       "    }\n",
       "\n",
       "    .dataframe thead th {\n",
       "        text-align: right;\n",
       "    }\n",
       "</style>\n",
       "<table border=\"1\" class=\"dataframe\">\n",
       "  <thead>\n",
       "    <tr style=\"text-align: right;\">\n",
       "      <th></th>\n",
       "      <th>students</th>\n",
       "      <th>age</th>\n",
       "      <th>eye color</th>\n",
       "    </tr>\n",
       "  </thead>\n",
       "  <tbody>\n",
       "    <tr>\n",
       "      <th>0</th>\n",
       "      <td>Ali</td>\n",
       "      <td>33.0</td>\n",
       "      <td>brown</td>\n",
       "    </tr>\n",
       "    <tr>\n",
       "      <th>2</th>\n",
       "      <td>Rozann</td>\n",
       "      <td>27.0</td>\n",
       "      <td>green</td>\n",
       "    </tr>\n",
       "  </tbody>\n",
       "</table>\n",
       "</div>"
      ],
      "text/plain": [
       "  students   age eye color\n",
       "0      Ali  33.0     brown\n",
       "2   Rozann  27.0     green"
      ]
     },
     "execution_count": 176,
     "metadata": {},
     "output_type": "execute_result"
    }
   ],
   "source": [
    "personal_df[personal_df['age'] > 10]"
   ]
  },
  {
   "cell_type": "code",
   "execution_count": 179,
   "metadata": {},
   "outputs": [
    {
     "data": {
      "text/html": [
       "<div>\n",
       "<style scoped>\n",
       "    .dataframe tbody tr th:only-of-type {\n",
       "        vertical-align: middle;\n",
       "    }\n",
       "\n",
       "    .dataframe tbody tr th {\n",
       "        vertical-align: top;\n",
       "    }\n",
       "\n",
       "    .dataframe thead th {\n",
       "        text-align: right;\n",
       "    }\n",
       "</style>\n",
       "<table border=\"1\" class=\"dataframe\">\n",
       "  <thead>\n",
       "    <tr style=\"text-align: right;\">\n",
       "      <th></th>\n",
       "      <th>students</th>\n",
       "      <th>age</th>\n",
       "      <th>eye color</th>\n",
       "    </tr>\n",
       "  </thead>\n",
       "  <tbody>\n",
       "    <tr>\n",
       "      <th>0</th>\n",
       "      <td>Ali</td>\n",
       "      <td>33.0</td>\n",
       "      <td>brown</td>\n",
       "    </tr>\n",
       "    <tr>\n",
       "      <th>2</th>\n",
       "      <td>Rozann</td>\n",
       "      <td>27.0</td>\n",
       "      <td>green</td>\n",
       "    </tr>\n",
       "  </tbody>\n",
       "</table>\n",
       "</div>"
      ],
      "text/plain": [
       "  students   age eye color\n",
       "0      Ali  33.0     brown\n",
       "2   Rozann  27.0     green"
      ]
     },
     "execution_count": 179,
     "metadata": {},
     "output_type": "execute_result"
    }
   ],
   "source": [
    "age_filter = personal_df['age'] > 10\n",
    "\n",
    "personal_df[age_filter]"
   ]
  },
  {
   "cell_type": "code",
   "execution_count": 181,
   "metadata": {},
   "outputs": [
    {
     "data": {
      "text/html": [
       "<div>\n",
       "<style scoped>\n",
       "    .dataframe tbody tr th:only-of-type {\n",
       "        vertical-align: middle;\n",
       "    }\n",
       "\n",
       "    .dataframe tbody tr th {\n",
       "        vertical-align: top;\n",
       "    }\n",
       "\n",
       "    .dataframe thead th {\n",
       "        text-align: right;\n",
       "    }\n",
       "</style>\n",
       "<table border=\"1\" class=\"dataframe\">\n",
       "  <thead>\n",
       "    <tr style=\"text-align: right;\">\n",
       "      <th></th>\n",
       "      <th>students</th>\n",
       "      <th>age</th>\n",
       "      <th>eye color</th>\n",
       "    </tr>\n",
       "  </thead>\n",
       "  <tbody>\n",
       "    <tr>\n",
       "      <th>0</th>\n",
       "      <td>Ali</td>\n",
       "      <td>33.0</td>\n",
       "      <td>brown</td>\n",
       "    </tr>\n",
       "    <tr>\n",
       "      <th>2</th>\n",
       "      <td>Rozann</td>\n",
       "      <td>27.0</td>\n",
       "      <td>green</td>\n",
       "    </tr>\n",
       "  </tbody>\n",
       "</table>\n",
       "</div>"
      ],
      "text/plain": [
       "  students   age eye color\n",
       "0      Ali  33.0     brown\n",
       "2   Rozann  27.0     green"
      ]
     },
     "execution_count": 181,
     "metadata": {},
     "output_type": "execute_result"
    }
   ],
   "source": [
    "mature_df = personal_df[age_filter]\n",
    "\n",
    "mature_df"
   ]
  },
  {
   "cell_type": "code",
   "execution_count": 183,
   "metadata": {},
   "outputs": [
    {
     "data": {
      "text/html": [
       "<div>\n",
       "<style scoped>\n",
       "    .dataframe tbody tr th:only-of-type {\n",
       "        vertical-align: middle;\n",
       "    }\n",
       "\n",
       "    .dataframe tbody tr th {\n",
       "        vertical-align: top;\n",
       "    }\n",
       "\n",
       "    .dataframe thead th {\n",
       "        text-align: right;\n",
       "    }\n",
       "</style>\n",
       "<table border=\"1\" class=\"dataframe\">\n",
       "  <thead>\n",
       "    <tr style=\"text-align: right;\">\n",
       "      <th></th>\n",
       "      <th>students</th>\n",
       "      <th>age</th>\n",
       "      <th>eye color</th>\n",
       "    </tr>\n",
       "  </thead>\n",
       "  <tbody>\n",
       "    <tr>\n",
       "      <th>0</th>\n",
       "      <td>Ali</td>\n",
       "      <td>33.0</td>\n",
       "      <td>brown</td>\n",
       "    </tr>\n",
       "    <tr>\n",
       "      <th>3</th>\n",
       "      <td>Sawash</td>\n",
       "      <td>3.0</td>\n",
       "      <td>brown</td>\n",
       "    </tr>\n",
       "  </tbody>\n",
       "</table>\n",
       "</div>"
      ],
      "text/plain": [
       "  students   age eye color\n",
       "0      Ali  33.0     brown\n",
       "3   Sawash   3.0     brown"
      ]
     },
     "execution_count": 183,
     "metadata": {},
     "output_type": "execute_result"
    }
   ],
   "source": [
    "personal_df[ personal_df['eye color'] == 'brown' ]"
   ]
  },
  {
   "cell_type": "code",
   "execution_count": 190,
   "metadata": {},
   "outputs": [
    {
     "data": {
      "text/plain": [
       "0       Ali\n",
       "1      Amir\n",
       "2    Rozann\n",
       "3    Sawash\n",
       "Name: students, dtype: object"
      ]
     },
     "execution_count": 190,
     "metadata": {},
     "output_type": "execute_result"
    }
   ],
   "source": [
    "personal_df['students']"
   ]
  },
  {
   "cell_type": "code",
   "execution_count": 193,
   "metadata": {},
   "outputs": [],
   "source": [
    "name_length_filter = [True if len(name)>4 else False for name in personal_df['students']]"
   ]
  },
  {
   "cell_type": "code",
   "execution_count": 194,
   "metadata": {},
   "outputs": [
    {
     "data": {
      "text/html": [
       "<div>\n",
       "<style scoped>\n",
       "    .dataframe tbody tr th:only-of-type {\n",
       "        vertical-align: middle;\n",
       "    }\n",
       "\n",
       "    .dataframe tbody tr th {\n",
       "        vertical-align: top;\n",
       "    }\n",
       "\n",
       "    .dataframe thead th {\n",
       "        text-align: right;\n",
       "    }\n",
       "</style>\n",
       "<table border=\"1\" class=\"dataframe\">\n",
       "  <thead>\n",
       "    <tr style=\"text-align: right;\">\n",
       "      <th></th>\n",
       "      <th>students</th>\n",
       "      <th>age</th>\n",
       "      <th>eye color</th>\n",
       "    </tr>\n",
       "  </thead>\n",
       "  <tbody>\n",
       "    <tr>\n",
       "      <th>2</th>\n",
       "      <td>Rozann</td>\n",
       "      <td>27.0</td>\n",
       "      <td>green</td>\n",
       "    </tr>\n",
       "    <tr>\n",
       "      <th>3</th>\n",
       "      <td>Sawash</td>\n",
       "      <td>3.0</td>\n",
       "      <td>brown</td>\n",
       "    </tr>\n",
       "  </tbody>\n",
       "</table>\n",
       "</div>"
      ],
      "text/plain": [
       "  students   age eye color\n",
       "2   Rozann  27.0     green\n",
       "3   Sawash   3.0     brown"
      ]
     },
     "execution_count": 194,
     "metadata": {},
     "output_type": "execute_result"
    }
   ],
   "source": [
    "personal_df[name_length_filter]"
   ]
  },
  {
   "cell_type": "code",
   "execution_count": 196,
   "metadata": {},
   "outputs": [],
   "source": [
    "s_filter = [True if name[0] == 'S' else False for name in personal_df['students']]"
   ]
  },
  {
   "cell_type": "code",
   "execution_count": 197,
   "metadata": {},
   "outputs": [
    {
     "data": {
      "text/html": [
       "<div>\n",
       "<style scoped>\n",
       "    .dataframe tbody tr th:only-of-type {\n",
       "        vertical-align: middle;\n",
       "    }\n",
       "\n",
       "    .dataframe tbody tr th {\n",
       "        vertical-align: top;\n",
       "    }\n",
       "\n",
       "    .dataframe thead th {\n",
       "        text-align: right;\n",
       "    }\n",
       "</style>\n",
       "<table border=\"1\" class=\"dataframe\">\n",
       "  <thead>\n",
       "    <tr style=\"text-align: right;\">\n",
       "      <th></th>\n",
       "      <th>students</th>\n",
       "      <th>age</th>\n",
       "      <th>eye color</th>\n",
       "    </tr>\n",
       "  </thead>\n",
       "  <tbody>\n",
       "    <tr>\n",
       "      <th>3</th>\n",
       "      <td>Sawash</td>\n",
       "      <td>3.0</td>\n",
       "      <td>brown</td>\n",
       "    </tr>\n",
       "  </tbody>\n",
       "</table>\n",
       "</div>"
      ],
      "text/plain": [
       "  students  age eye color\n",
       "3   Sawash  3.0     brown"
      ]
     },
     "execution_count": 197,
     "metadata": {},
     "output_type": "execute_result"
    }
   ],
   "source": [
    "personal_df[s_filter]"
   ]
  },
  {
   "cell_type": "markdown",
   "metadata": {},
   "source": [
    "## Read excel"
   ]
  },
  {
   "cell_type": "code",
   "execution_count": 208,
   "metadata": {},
   "outputs": [
    {
     "data": {
      "text/html": [
       "<div>\n",
       "<style scoped>\n",
       "    .dataframe tbody tr th:only-of-type {\n",
       "        vertical-align: middle;\n",
       "    }\n",
       "\n",
       "    .dataframe tbody tr th {\n",
       "        vertical-align: top;\n",
       "    }\n",
       "\n",
       "    .dataframe thead th {\n",
       "        text-align: right;\n",
       "    }\n",
       "</style>\n",
       "<table border=\"1\" class=\"dataframe\">\n",
       "  <thead>\n",
       "    <tr style=\"text-align: right;\">\n",
       "      <th></th>\n",
       "      <th>FoodCategory</th>\n",
       "      <th>FoodItem</th>\n",
       "      <th>per100grams</th>\n",
       "      <th>Cals_per100grams</th>\n",
       "      <th>KJ_per100grams</th>\n",
       "    </tr>\n",
       "  </thead>\n",
       "  <tbody>\n",
       "    <tr>\n",
       "      <th>0</th>\n",
       "      <td>CannedFruit</td>\n",
       "      <td>Applesauce</td>\n",
       "      <td>100g</td>\n",
       "      <td>62 cal</td>\n",
       "      <td>260 kJ</td>\n",
       "    </tr>\n",
       "    <tr>\n",
       "      <th>1</th>\n",
       "      <td>CannedFruit</td>\n",
       "      <td>Canned Apricots</td>\n",
       "      <td>100g</td>\n",
       "      <td>48 cal</td>\n",
       "      <td>202 kJ</td>\n",
       "    </tr>\n",
       "    <tr>\n",
       "      <th>2</th>\n",
       "      <td>CannedFruit</td>\n",
       "      <td>Canned Blackberries</td>\n",
       "      <td>100g</td>\n",
       "      <td>92 cal</td>\n",
       "      <td>386 kJ</td>\n",
       "    </tr>\n",
       "    <tr>\n",
       "      <th>3</th>\n",
       "      <td>CannedFruit</td>\n",
       "      <td>Canned Blueberries</td>\n",
       "      <td>100g</td>\n",
       "      <td>88 cal</td>\n",
       "      <td>370 kJ</td>\n",
       "    </tr>\n",
       "    <tr>\n",
       "      <th>4</th>\n",
       "      <td>CannedFruit</td>\n",
       "      <td>Canned Cherries</td>\n",
       "      <td>100g</td>\n",
       "      <td>54 cal</td>\n",
       "      <td>227 kJ</td>\n",
       "    </tr>\n",
       "    <tr>\n",
       "      <th>...</th>\n",
       "      <td>...</td>\n",
       "      <td>...</td>\n",
       "      <td>...</td>\n",
       "      <td>...</td>\n",
       "      <td>...</td>\n",
       "    </tr>\n",
       "    <tr>\n",
       "      <th>2220</th>\n",
       "      <td>Spreads</td>\n",
       "      <td>Sunflower Butter</td>\n",
       "      <td>100g</td>\n",
       "      <td>617 cal</td>\n",
       "      <td>2591 kJ</td>\n",
       "    </tr>\n",
       "    <tr>\n",
       "      <th>2221</th>\n",
       "      <td>Spreads</td>\n",
       "      <td>Tapenade</td>\n",
       "      <td>100g</td>\n",
       "      <td>233 cal</td>\n",
       "      <td>979 kJ</td>\n",
       "    </tr>\n",
       "    <tr>\n",
       "      <th>2222</th>\n",
       "      <td>Spreads</td>\n",
       "      <td>Unsalted Butter</td>\n",
       "      <td>100g</td>\n",
       "      <td>717 cal</td>\n",
       "      <td>3011 kJ</td>\n",
       "    </tr>\n",
       "    <tr>\n",
       "      <th>2223</th>\n",
       "      <td>Spreads</td>\n",
       "      <td>Vegemite</td>\n",
       "      <td>100g</td>\n",
       "      <td>180 cal</td>\n",
       "      <td>756 kJ</td>\n",
       "    </tr>\n",
       "    <tr>\n",
       "      <th>2224</th>\n",
       "      <td>Spreads</td>\n",
       "      <td>Wild Honey</td>\n",
       "      <td>100g</td>\n",
       "      <td>286 cal</td>\n",
       "      <td>1201 kJ</td>\n",
       "    </tr>\n",
       "  </tbody>\n",
       "</table>\n",
       "<p>2225 rows × 5 columns</p>\n",
       "</div>"
      ],
      "text/plain": [
       "     FoodCategory             FoodItem per100grams Cals_per100grams  \\\n",
       "0     CannedFruit           Applesauce        100g           62 cal   \n",
       "1     CannedFruit      Canned Apricots        100g           48 cal   \n",
       "2     CannedFruit  Canned Blackberries        100g           92 cal   \n",
       "3     CannedFruit   Canned Blueberries        100g           88 cal   \n",
       "4     CannedFruit      Canned Cherries        100g           54 cal   \n",
       "...           ...                  ...         ...              ...   \n",
       "2220      Spreads     Sunflower Butter        100g          617 cal   \n",
       "2221      Spreads             Tapenade        100g          233 cal   \n",
       "2222      Spreads      Unsalted Butter        100g          717 cal   \n",
       "2223      Spreads             Vegemite        100g          180 cal   \n",
       "2224      Spreads           Wild Honey        100g          286 cal   \n",
       "\n",
       "     KJ_per100grams  \n",
       "0            260 kJ  \n",
       "1            202 kJ  \n",
       "2            386 kJ  \n",
       "3            370 kJ  \n",
       "4            227 kJ  \n",
       "...             ...  \n",
       "2220        2591 kJ  \n",
       "2221         979 kJ  \n",
       "2222        3011 kJ  \n",
       "2223         756 kJ  \n",
       "2224        1201 kJ  \n",
       "\n",
       "[2225 rows x 5 columns]"
      ]
     },
     "execution_count": 208,
     "metadata": {},
     "output_type": "execute_result"
    }
   ],
   "source": [
    "calories_df = pd.read_excel('../data/calories.xlsx')\n",
    "\n",
    "calories_df"
   ]
  },
  {
   "cell_type": "code",
   "execution_count": 218,
   "metadata": {},
   "outputs": [
    {
     "data": {
      "text/plain": [
       "array(['CannedFruit', 'Fruits', 'Tropical&ExoticFruits', 'PotatoProducts',\n",
       "       'Vegetables', 'FastFood', 'Pizza', 'Cheese', 'CreamCheese',\n",
       "       'Milk&DairyProducts', 'SlicedCheese', 'Yogurt', 'Beef&Veal',\n",
       "       'ColdCuts&LunchMeat', 'Meat', 'Offal&Giblets', 'Pork',\n",
       "       'Poultry&Fowl', 'Sausage', 'Venison&Game', 'Cakes&Pies',\n",
       "       'Candy&Sweets', 'IceCream', '(Fruit)Juices',\n",
       "       'AlcoholicDrinks&Beverages', 'Beer',\n",
       "       'Non-AlcoholicDrinks&Beverages', 'Soda&SoftDrinks', 'Wine',\n",
       "       'CerealProducts', 'Oatmeal,Muesli&Cereals', 'Pasta&Noodles',\n",
       "       'Dishes&Meals', 'Soups', 'Legumes', 'Nuts&Seeds', 'Oils&Fats',\n",
       "       'VegetableOils', 'BakingIngredients', 'Fish&Seafood',\n",
       "       'Herbs&Spices', 'Pastries,Breads&Rolls', 'Sauces&Dressings',\n",
       "       'Spreads'], dtype=object)"
      ]
     },
     "execution_count": 218,
     "metadata": {},
     "output_type": "execute_result"
    }
   ],
   "source": [
    "# see which the unique values are\n",
    "\n",
    "calories_df['FoodCategory'].unique()"
   ]
  },
  {
   "cell_type": "code",
   "execution_count": 214,
   "metadata": {},
   "outputs": [
    {
     "data": {
      "text/plain": [
       "44"
      ]
     },
     "execution_count": 214,
     "metadata": {},
     "output_type": "execute_result"
    }
   ],
   "source": [
    "# see how many unique values this column contains\n",
    "\n",
    "calories_df['FoodCategory'].nunique()"
   ]
  },
  {
   "cell_type": "code",
   "execution_count": 220,
   "metadata": {},
   "outputs": [
    {
     "data": {
      "text/plain": [
       "FoodCategory\n",
       "BakingIngredients                95\n",
       "Cakes&Pies                       91\n",
       "Herbs&Spices                     90\n",
       "Beer                             85\n",
       "Candy&Sweets                     81\n",
       "Pastries,Breads&Rolls            78\n",
       "Dishes&Meals                     78\n",
       "Oatmeal,Muesli&Cereals           76\n",
       "FastFood                         72\n",
       "Vegetables                       63\n",
       "Legumes                          62\n",
       "Fish&Seafood                     60\n",
       "Fruits                           54\n",
       "Sauces&Dressings                 54\n",
       "Cheese                           53\n",
       "Soups                            52\n",
       "Non-AlcoholicDrinks&Beverages    51\n",
       "AlcoholicDrinks&Beverages        48\n",
       "Sausage                          47\n",
       "(Fruit)Juices                    46\n",
       "Meat                             46\n",
       "IceCream                         45\n",
       "Soda&SoftDrinks                  45\n",
       "CerealProducts                   44\n",
       "Pizza                            43\n",
       "Pasta&Noodles                    40\n",
       "Yogurt                           40\n",
       "Nuts&Seeds                       39\n",
       "Spreads                          39\n",
       "Wine                             39\n",
       "Pork                             39\n",
       "Beef&Veal                        39\n",
       "PotatoProducts                   39\n",
       "Tropical&ExoticFruits            39\n",
       "Venison&Game                     36\n",
       "ColdCuts&LunchMeat               35\n",
       "SlicedCheese                     34\n",
       "Poultry&Fowl                     33\n",
       "Offal&Giblets                    33\n",
       "VegetableOils                    33\n",
       "Milk&DairyProducts               33\n",
       "Oils&Fats                        30\n",
       "CannedFruit                      29\n",
       "CreamCheese                      17\n",
       "Name: count, dtype: int64"
      ]
     },
     "execution_count": 220,
     "metadata": {},
     "output_type": "execute_result"
    }
   ],
   "source": [
    "calories_df['FoodCategory'].value_counts()"
   ]
  },
  {
   "cell_type": "code",
   "execution_count": 223,
   "metadata": {},
   "outputs": [
    {
     "data": {
      "text/plain": [
       "FoodCategory                        FastFood\n",
       "FoodItem            Arby’s Grand Turkey Club\n",
       "per100grams                             100g\n",
       "Cals_per100grams                     210 cal\n",
       "KJ_per100grams                        882 kJ\n",
       "Name: 224, dtype: object"
      ]
     },
     "execution_count": 223,
     "metadata": {},
     "output_type": "execute_result"
    }
   ],
   "source": [
    "calories_df.iloc[224]"
   ]
  },
  {
   "cell_type": "code",
   "execution_count": 221,
   "metadata": {},
   "outputs": [
    {
     "data": {
      "text/html": [
       "<div>\n",
       "<style scoped>\n",
       "    .dataframe tbody tr th:only-of-type {\n",
       "        vertical-align: middle;\n",
       "    }\n",
       "\n",
       "    .dataframe tbody tr th {\n",
       "        vertical-align: top;\n",
       "    }\n",
       "\n",
       "    .dataframe thead th {\n",
       "        text-align: right;\n",
       "    }\n",
       "</style>\n",
       "<table border=\"1\" class=\"dataframe\">\n",
       "  <thead>\n",
       "    <tr style=\"text-align: right;\">\n",
       "      <th></th>\n",
       "      <th>FoodCategory</th>\n",
       "      <th>FoodItem</th>\n",
       "      <th>per100grams</th>\n",
       "      <th>Cals_per100grams</th>\n",
       "      <th>KJ_per100grams</th>\n",
       "    </tr>\n",
       "  </thead>\n",
       "  <tbody>\n",
       "    <tr>\n",
       "      <th>224</th>\n",
       "      <td>FastFood</td>\n",
       "      <td>Arby’s Grand Turkey Club</td>\n",
       "      <td>100g</td>\n",
       "      <td>210 cal</td>\n",
       "      <td>882 kJ</td>\n",
       "    </tr>\n",
       "    <tr>\n",
       "      <th>225</th>\n",
       "      <td>FastFood</td>\n",
       "      <td>Arby’s Reuben</td>\n",
       "      <td>100g</td>\n",
       "      <td>208 cal</td>\n",
       "      <td>874 kJ</td>\n",
       "    </tr>\n",
       "    <tr>\n",
       "      <th>226</th>\n",
       "      <td>FastFood</td>\n",
       "      <td>Arby’s Roast Beef Classic</td>\n",
       "      <td>100g</td>\n",
       "      <td>234 cal</td>\n",
       "      <td>983 kJ</td>\n",
       "    </tr>\n",
       "    <tr>\n",
       "      <th>227</th>\n",
       "      <td>FastFood</td>\n",
       "      <td>Arby’s Roast Beef Max</td>\n",
       "      <td>100g</td>\n",
       "      <td>234 cal</td>\n",
       "      <td>983 kJ</td>\n",
       "    </tr>\n",
       "    <tr>\n",
       "      <th>228</th>\n",
       "      <td>FastFood</td>\n",
       "      <td>BBQ Rib</td>\n",
       "      <td>100g</td>\n",
       "      <td>212 cal</td>\n",
       "      <td>890 kJ</td>\n",
       "    </tr>\n",
       "    <tr>\n",
       "      <th>...</th>\n",
       "      <td>...</td>\n",
       "      <td>...</td>\n",
       "      <td>...</td>\n",
       "      <td>...</td>\n",
       "      <td>...</td>\n",
       "    </tr>\n",
       "    <tr>\n",
       "      <th>291</th>\n",
       "      <td>FastFood</td>\n",
       "      <td>Wendy’s Son of Baconator</td>\n",
       "      <td>100g</td>\n",
       "      <td>321 cal</td>\n",
       "      <td>1348 kJ</td>\n",
       "    </tr>\n",
       "    <tr>\n",
       "      <th>292</th>\n",
       "      <td>FastFood</td>\n",
       "      <td>Whopper</td>\n",
       "      <td>100g</td>\n",
       "      <td>231 cal</td>\n",
       "      <td>970 kJ</td>\n",
       "    </tr>\n",
       "    <tr>\n",
       "      <th>293</th>\n",
       "      <td>FastFood</td>\n",
       "      <td>Zinger</td>\n",
       "      <td>100g</td>\n",
       "      <td>256 cal</td>\n",
       "      <td>1075 kJ</td>\n",
       "    </tr>\n",
       "    <tr>\n",
       "      <th>294</th>\n",
       "      <td>FastFood</td>\n",
       "      <td>Zinger Burger</td>\n",
       "      <td>100g</td>\n",
       "      <td>256 cal</td>\n",
       "      <td>1075 kJ</td>\n",
       "    </tr>\n",
       "    <tr>\n",
       "      <th>295</th>\n",
       "      <td>FastFood</td>\n",
       "      <td>Poutine</td>\n",
       "      <td>100g</td>\n",
       "      <td>227 cal</td>\n",
       "      <td>953 kJ</td>\n",
       "    </tr>\n",
       "  </tbody>\n",
       "</table>\n",
       "<p>72 rows × 5 columns</p>\n",
       "</div>"
      ],
      "text/plain": [
       "    FoodCategory                   FoodItem per100grams Cals_per100grams  \\\n",
       "224     FastFood   Arby’s Grand Turkey Club        100g          210 cal   \n",
       "225     FastFood              Arby’s Reuben        100g          208 cal   \n",
       "226     FastFood  Arby’s Roast Beef Classic        100g          234 cal   \n",
       "227     FastFood      Arby’s Roast Beef Max        100g          234 cal   \n",
       "228     FastFood                    BBQ Rib        100g          212 cal   \n",
       "..           ...                        ...         ...              ...   \n",
       "291     FastFood   Wendy’s Son of Baconator        100g          321 cal   \n",
       "292     FastFood                    Whopper        100g          231 cal   \n",
       "293     FastFood                     Zinger        100g          256 cal   \n",
       "294     FastFood              Zinger Burger        100g          256 cal   \n",
       "295     FastFood                    Poutine        100g          227 cal   \n",
       "\n",
       "    KJ_per100grams  \n",
       "224         882 kJ  \n",
       "225         874 kJ  \n",
       "226         983 kJ  \n",
       "227         983 kJ  \n",
       "228         890 kJ  \n",
       "..             ...  \n",
       "291        1348 kJ  \n",
       "292         970 kJ  \n",
       "293        1075 kJ  \n",
       "294        1075 kJ  \n",
       "295         953 kJ  \n",
       "\n",
       "[72 rows x 5 columns]"
      ]
     },
     "execution_count": 221,
     "metadata": {},
     "output_type": "execute_result"
    }
   ],
   "source": [
    "calories_df[calories_df['FoodCategory']=='FastFood']"
   ]
  },
  {
   "cell_type": "markdown",
   "metadata": {},
   "source": [
    "# rename columns"
   ]
  },
  {
   "cell_type": "code",
   "execution_count": 240,
   "metadata": {},
   "outputs": [
    {
     "data": {
      "text/html": [
       "<div>\n",
       "<style scoped>\n",
       "    .dataframe tbody tr th:only-of-type {\n",
       "        vertical-align: middle;\n",
       "    }\n",
       "\n",
       "    .dataframe tbody tr th {\n",
       "        vertical-align: top;\n",
       "    }\n",
       "\n",
       "    .dataframe thead th {\n",
       "        text-align: right;\n",
       "    }\n",
       "</style>\n",
       "<table border=\"1\" class=\"dataframe\">\n",
       "  <thead>\n",
       "    <tr style=\"text-align: right;\">\n",
       "      <th></th>\n",
       "      <th>FoodCategory</th>\n",
       "      <th>FoodItem</th>\n",
       "      <th>per100grams</th>\n",
       "      <th>Cals_per100grams</th>\n",
       "      <th>KJ_per100grams</th>\n",
       "    </tr>\n",
       "  </thead>\n",
       "  <tbody>\n",
       "    <tr>\n",
       "      <th>0</th>\n",
       "      <td>CannedFruit</td>\n",
       "      <td>Applesauce</td>\n",
       "      <td>100g</td>\n",
       "      <td>62 cal</td>\n",
       "      <td>260 kJ</td>\n",
       "    </tr>\n",
       "    <tr>\n",
       "      <th>1</th>\n",
       "      <td>CannedFruit</td>\n",
       "      <td>Canned Apricots</td>\n",
       "      <td>100g</td>\n",
       "      <td>48 cal</td>\n",
       "      <td>202 kJ</td>\n",
       "    </tr>\n",
       "    <tr>\n",
       "      <th>2</th>\n",
       "      <td>CannedFruit</td>\n",
       "      <td>Canned Blackberries</td>\n",
       "      <td>100g</td>\n",
       "      <td>92 cal</td>\n",
       "      <td>386 kJ</td>\n",
       "    </tr>\n",
       "    <tr>\n",
       "      <th>3</th>\n",
       "      <td>CannedFruit</td>\n",
       "      <td>Canned Blueberries</td>\n",
       "      <td>100g</td>\n",
       "      <td>88 cal</td>\n",
       "      <td>370 kJ</td>\n",
       "    </tr>\n",
       "    <tr>\n",
       "      <th>4</th>\n",
       "      <td>CannedFruit</td>\n",
       "      <td>Canned Cherries</td>\n",
       "      <td>100g</td>\n",
       "      <td>54 cal</td>\n",
       "      <td>227 kJ</td>\n",
       "    </tr>\n",
       "    <tr>\n",
       "      <th>...</th>\n",
       "      <td>...</td>\n",
       "      <td>...</td>\n",
       "      <td>...</td>\n",
       "      <td>...</td>\n",
       "      <td>...</td>\n",
       "    </tr>\n",
       "    <tr>\n",
       "      <th>2220</th>\n",
       "      <td>Spreads</td>\n",
       "      <td>Sunflower Butter</td>\n",
       "      <td>100g</td>\n",
       "      <td>617 cal</td>\n",
       "      <td>2591 kJ</td>\n",
       "    </tr>\n",
       "    <tr>\n",
       "      <th>2221</th>\n",
       "      <td>Spreads</td>\n",
       "      <td>Tapenade</td>\n",
       "      <td>100g</td>\n",
       "      <td>233 cal</td>\n",
       "      <td>979 kJ</td>\n",
       "    </tr>\n",
       "    <tr>\n",
       "      <th>2222</th>\n",
       "      <td>Spreads</td>\n",
       "      <td>Unsalted Butter</td>\n",
       "      <td>100g</td>\n",
       "      <td>717 cal</td>\n",
       "      <td>3011 kJ</td>\n",
       "    </tr>\n",
       "    <tr>\n",
       "      <th>2223</th>\n",
       "      <td>Spreads</td>\n",
       "      <td>Vegemite</td>\n",
       "      <td>100g</td>\n",
       "      <td>180 cal</td>\n",
       "      <td>756 kJ</td>\n",
       "    </tr>\n",
       "    <tr>\n",
       "      <th>2224</th>\n",
       "      <td>Spreads</td>\n",
       "      <td>Wild Honey</td>\n",
       "      <td>100g</td>\n",
       "      <td>286 cal</td>\n",
       "      <td>1201 kJ</td>\n",
       "    </tr>\n",
       "  </tbody>\n",
       "</table>\n",
       "<p>2225 rows × 5 columns</p>\n",
       "</div>"
      ],
      "text/plain": [
       "     FoodCategory             FoodItem per100grams Cals_per100grams  \\\n",
       "0     CannedFruit           Applesauce        100g           62 cal   \n",
       "1     CannedFruit      Canned Apricots        100g           48 cal   \n",
       "2     CannedFruit  Canned Blackberries        100g           92 cal   \n",
       "3     CannedFruit   Canned Blueberries        100g           88 cal   \n",
       "4     CannedFruit      Canned Cherries        100g           54 cal   \n",
       "...           ...                  ...         ...              ...   \n",
       "2220      Spreads     Sunflower Butter        100g          617 cal   \n",
       "2221      Spreads             Tapenade        100g          233 cal   \n",
       "2222      Spreads      Unsalted Butter        100g          717 cal   \n",
       "2223      Spreads             Vegemite        100g          180 cal   \n",
       "2224      Spreads           Wild Honey        100g          286 cal   \n",
       "\n",
       "     KJ_per100grams  \n",
       "0            260 kJ  \n",
       "1            202 kJ  \n",
       "2            386 kJ  \n",
       "3            370 kJ  \n",
       "4            227 kJ  \n",
       "...             ...  \n",
       "2220        2591 kJ  \n",
       "2221         979 kJ  \n",
       "2222        3011 kJ  \n",
       "2223         756 kJ  \n",
       "2224        1201 kJ  \n",
       "\n",
       "[2225 rows x 5 columns]"
      ]
     },
     "execution_count": 240,
     "metadata": {},
     "output_type": "execute_result"
    }
   ],
   "source": [
    "calories_df"
   ]
  },
  {
   "cell_type": "code",
   "execution_count": 245,
   "metadata": {},
   "outputs": [],
   "source": [
    "calories_df = calories_df.rename( columns={'FoodItem':'Food'} )"
   ]
  },
  {
   "cell_type": "code",
   "execution_count": 256,
   "metadata": {},
   "outputs": [
    {
     "data": {
      "text/plain": [
       "34"
      ]
     },
     "execution_count": 256,
     "metadata": {},
     "output_type": "execute_result"
    }
   ],
   "source": [
    "string = '34'\n",
    "\n",
    "int(string)"
   ]
  },
  {
   "cell_type": "code",
   "execution_count": 264,
   "metadata": {},
   "outputs": [
    {
     "data": {
      "text/plain": [
       "0        62\n",
       "1        48\n",
       "2        92\n",
       "3        88\n",
       "4        54\n",
       "       ... \n",
       "2220    617\n",
       "2221    233\n",
       "2222    717\n",
       "2223    180\n",
       "2224    286\n",
       "Name: Cals_per100grams, Length: 2225, dtype: int32"
      ]
     },
     "execution_count": 264,
     "metadata": {},
     "output_type": "execute_result"
    }
   ],
   "source": [
    "calories_df['Cals_per100grams'].str[:-3].astype(int)"
   ]
  },
  {
   "cell_type": "code",
   "execution_count": 267,
   "metadata": {},
   "outputs": [],
   "source": [
    "calories_df['cals/100g in integers'] = calories_df['Cals_per100grams'].str[:-3].astype(int)"
   ]
  },
  {
   "cell_type": "code",
   "execution_count": 273,
   "metadata": {},
   "outputs": [
    {
     "data": {
      "text/html": [
       "<div>\n",
       "<style scoped>\n",
       "    .dataframe tbody tr th:only-of-type {\n",
       "        vertical-align: middle;\n",
       "    }\n",
       "\n",
       "    .dataframe tbody tr th {\n",
       "        vertical-align: top;\n",
       "    }\n",
       "\n",
       "    .dataframe thead th {\n",
       "        text-align: right;\n",
       "    }\n",
       "</style>\n",
       "<table border=\"1\" class=\"dataframe\">\n",
       "  <thead>\n",
       "    <tr style=\"text-align: right;\">\n",
       "      <th></th>\n",
       "      <th>FoodCategory</th>\n",
       "      <th>Food</th>\n",
       "      <th>per100grams</th>\n",
       "      <th>Cals_per100grams</th>\n",
       "      <th>KJ_per100grams</th>\n",
       "      <th>cals/100g in integers</th>\n",
       "    </tr>\n",
       "  </thead>\n",
       "  <tbody>\n",
       "    <tr>\n",
       "      <th>1621</th>\n",
       "      <td>Soups</td>\n",
       "      <td>Goulash</td>\n",
       "      <td>100g</td>\n",
       "      <td>1009 cal</td>\n",
       "      <td>4238 kJ</td>\n",
       "      <td>1009</td>\n",
       "    </tr>\n",
       "    <tr>\n",
       "      <th>1751</th>\n",
       "      <td>Oils&amp;Fats</td>\n",
       "      <td>Cod Liver Oil</td>\n",
       "      <td>100ml</td>\n",
       "      <td>1000 cal</td>\n",
       "      <td>4200 kJ</td>\n",
       "      <td>1000</td>\n",
       "    </tr>\n",
       "    <tr>\n",
       "      <th>1808</th>\n",
       "      <td>VegetableOils</td>\n",
       "      <td>Wheat Germ Oil</td>\n",
       "      <td>100ml</td>\n",
       "      <td>929 cal</td>\n",
       "      <td>3902 kJ</td>\n",
       "      <td>929</td>\n",
       "    </tr>\n",
       "    <tr>\n",
       "      <th>1800</th>\n",
       "      <td>VegetableOils</td>\n",
       "      <td>Salmon Oil</td>\n",
       "      <td>100ml</td>\n",
       "      <td>911 cal</td>\n",
       "      <td>3826 kJ</td>\n",
       "      <td>911</td>\n",
       "    </tr>\n",
       "    <tr>\n",
       "      <th>1789</th>\n",
       "      <td>VegetableOils</td>\n",
       "      <td>Menhaden Oil</td>\n",
       "      <td>100ml</td>\n",
       "      <td>911 cal</td>\n",
       "      <td>3826 kJ</td>\n",
       "      <td>911</td>\n",
       "    </tr>\n",
       "    <tr>\n",
       "      <th>...</th>\n",
       "      <td>...</td>\n",
       "      <td>...</td>\n",
       "      <td>...</td>\n",
       "      <td>...</td>\n",
       "      <td>...</td>\n",
       "      <td>...</td>\n",
       "    </tr>\n",
       "    <tr>\n",
       "      <th>1265</th>\n",
       "      <td>Non-AlcoholicDrinks&amp;Beverages</td>\n",
       "      <td>Tap Water</td>\n",
       "      <td>100ml</td>\n",
       "      <td>0 cal</td>\n",
       "      <td>0 kJ</td>\n",
       "      <td>0</td>\n",
       "    </tr>\n",
       "    <tr>\n",
       "      <th>1286</th>\n",
       "      <td>Soda&amp;SoftDrinks</td>\n",
       "      <td>Fanta Zero</td>\n",
       "      <td>100ml</td>\n",
       "      <td>0 cal</td>\n",
       "      <td>0 kJ</td>\n",
       "      <td>0</td>\n",
       "    </tr>\n",
       "    <tr>\n",
       "      <th>2010</th>\n",
       "      <td>Herbs&amp;Spices</td>\n",
       "      <td>Iodized Salt</td>\n",
       "      <td>100g</td>\n",
       "      <td>0 cal</td>\n",
       "      <td>0 kJ</td>\n",
       "      <td>0</td>\n",
       "    </tr>\n",
       "    <tr>\n",
       "      <th>1236</th>\n",
       "      <td>Non-AlcoholicDrinks&amp;Beverages</td>\n",
       "      <td>Evian</td>\n",
       "      <td>100ml</td>\n",
       "      <td>0 cal</td>\n",
       "      <td>0 kJ</td>\n",
       "      <td>0</td>\n",
       "    </tr>\n",
       "    <tr>\n",
       "      <th>1277</th>\n",
       "      <td>Soda&amp;SoftDrinks</td>\n",
       "      <td>Coke Zero</td>\n",
       "      <td>100ml</td>\n",
       "      <td>0 cal</td>\n",
       "      <td>0 kJ</td>\n",
       "      <td>0</td>\n",
       "    </tr>\n",
       "  </tbody>\n",
       "</table>\n",
       "<p>2225 rows × 6 columns</p>\n",
       "</div>"
      ],
      "text/plain": [
       "                       FoodCategory            Food per100grams  \\\n",
       "1621                          Soups         Goulash        100g   \n",
       "1751                      Oils&Fats   Cod Liver Oil       100ml   \n",
       "1808                  VegetableOils  Wheat Germ Oil       100ml   \n",
       "1800                  VegetableOils      Salmon Oil       100ml   \n",
       "1789                  VegetableOils    Menhaden Oil       100ml   \n",
       "...                             ...             ...         ...   \n",
       "1265  Non-AlcoholicDrinks&Beverages       Tap Water       100ml   \n",
       "1286                Soda&SoftDrinks      Fanta Zero       100ml   \n",
       "2010                   Herbs&Spices    Iodized Salt        100g   \n",
       "1236  Non-AlcoholicDrinks&Beverages           Evian       100ml   \n",
       "1277                Soda&SoftDrinks       Coke Zero       100ml   \n",
       "\n",
       "     Cals_per100grams KJ_per100grams  cals/100g in integers  \n",
       "1621         1009 cal        4238 kJ                   1009  \n",
       "1751         1000 cal        4200 kJ                   1000  \n",
       "1808          929 cal        3902 kJ                    929  \n",
       "1800          911 cal        3826 kJ                    911  \n",
       "1789          911 cal        3826 kJ                    911  \n",
       "...               ...            ...                    ...  \n",
       "1265            0 cal           0 kJ                      0  \n",
       "1286            0 cal           0 kJ                      0  \n",
       "2010            0 cal           0 kJ                      0  \n",
       "1236            0 cal           0 kJ                      0  \n",
       "1277            0 cal           0 kJ                      0  \n",
       "\n",
       "[2225 rows x 6 columns]"
      ]
     },
     "execution_count": 273,
     "metadata": {},
     "output_type": "execute_result"
    }
   ],
   "source": [
    "calories_df.sort_values(by='cals/100g in integers', ascending=False)"
   ]
  },
  {
   "cell_type": "code",
   "execution_count": 279,
   "metadata": {},
   "outputs": [
    {
     "data": {
      "text/html": [
       "<div>\n",
       "<style scoped>\n",
       "    .dataframe tbody tr th:only-of-type {\n",
       "        vertical-align: middle;\n",
       "    }\n",
       "\n",
       "    .dataframe tbody tr th {\n",
       "        vertical-align: top;\n",
       "    }\n",
       "\n",
       "    .dataframe thead th {\n",
       "        text-align: right;\n",
       "    }\n",
       "</style>\n",
       "<table border=\"1\" class=\"dataframe\">\n",
       "  <thead>\n",
       "    <tr style=\"text-align: right;\">\n",
       "      <th></th>\n",
       "      <th>FoodCategory</th>\n",
       "      <th>Food</th>\n",
       "      <th>per100grams</th>\n",
       "      <th>Cals_per100grams</th>\n",
       "      <th>KJ_per100grams</th>\n",
       "      <th>cals/100g in integers</th>\n",
       "    </tr>\n",
       "  </thead>\n",
       "  <tbody>\n",
       "    <tr>\n",
       "      <th>0</th>\n",
       "      <td>CannedFruit</td>\n",
       "      <td>Applesauce</td>\n",
       "      <td>100g</td>\n",
       "      <td>62 cal</td>\n",
       "      <td>260 kJ</td>\n",
       "      <td>62</td>\n",
       "    </tr>\n",
       "    <tr>\n",
       "      <th>1</th>\n",
       "      <td>CannedFruit</td>\n",
       "      <td>Canned Apricots</td>\n",
       "      <td>100g</td>\n",
       "      <td>48 cal</td>\n",
       "      <td>202 kJ</td>\n",
       "      <td>48</td>\n",
       "    </tr>\n",
       "    <tr>\n",
       "      <th>2</th>\n",
       "      <td>CannedFruit</td>\n",
       "      <td>Canned Blackberries</td>\n",
       "      <td>100g</td>\n",
       "      <td>92 cal</td>\n",
       "      <td>386 kJ</td>\n",
       "      <td>92</td>\n",
       "    </tr>\n",
       "    <tr>\n",
       "      <th>3</th>\n",
       "      <td>CannedFruit</td>\n",
       "      <td>Canned Blueberries</td>\n",
       "      <td>100g</td>\n",
       "      <td>88 cal</td>\n",
       "      <td>370 kJ</td>\n",
       "      <td>88</td>\n",
       "    </tr>\n",
       "    <tr>\n",
       "      <th>4</th>\n",
       "      <td>CannedFruit</td>\n",
       "      <td>Canned Cherries</td>\n",
       "      <td>100g</td>\n",
       "      <td>54 cal</td>\n",
       "      <td>227 kJ</td>\n",
       "      <td>54</td>\n",
       "    </tr>\n",
       "    <tr>\n",
       "      <th>5</th>\n",
       "      <td>CannedFruit</td>\n",
       "      <td>Canned Cranberries</td>\n",
       "      <td>100g</td>\n",
       "      <td>178 cal</td>\n",
       "      <td>748 kJ</td>\n",
       "      <td>178</td>\n",
       "    </tr>\n",
       "    <tr>\n",
       "      <th>6</th>\n",
       "      <td>CannedFruit</td>\n",
       "      <td>Canned Crushed Pineapple</td>\n",
       "      <td>100g</td>\n",
       "      <td>53 cal</td>\n",
       "      <td>223 kJ</td>\n",
       "      <td>53</td>\n",
       "    </tr>\n",
       "    <tr>\n",
       "      <th>7</th>\n",
       "      <td>CannedFruit</td>\n",
       "      <td>Canned Figs</td>\n",
       "      <td>100g</td>\n",
       "      <td>107 cal</td>\n",
       "      <td>449 kJ</td>\n",
       "      <td>107</td>\n",
       "    </tr>\n",
       "    <tr>\n",
       "      <th>8</th>\n",
       "      <td>CannedFruit</td>\n",
       "      <td>Canned Fruit Cocktail</td>\n",
       "      <td>100g</td>\n",
       "      <td>81 cal</td>\n",
       "      <td>340 kJ</td>\n",
       "      <td>81</td>\n",
       "    </tr>\n",
       "    <tr>\n",
       "      <th>9</th>\n",
       "      <td>CannedFruit</td>\n",
       "      <td>Canned Fruit Salad</td>\n",
       "      <td>100g</td>\n",
       "      <td>50 cal</td>\n",
       "      <td>210 kJ</td>\n",
       "      <td>50</td>\n",
       "    </tr>\n",
       "    <tr>\n",
       "      <th>10</th>\n",
       "      <td>CannedFruit</td>\n",
       "      <td>Canned Gooseberries</td>\n",
       "      <td>100g</td>\n",
       "      <td>73 cal</td>\n",
       "      <td>307 kJ</td>\n",
       "      <td>73</td>\n",
       "    </tr>\n",
       "    <tr>\n",
       "      <th>11</th>\n",
       "      <td>CannedFruit</td>\n",
       "      <td>Canned Grapefruit</td>\n",
       "      <td>100g</td>\n",
       "      <td>37 cal</td>\n",
       "      <td>155 kJ</td>\n",
       "      <td>37</td>\n",
       "    </tr>\n",
       "    <tr>\n",
       "      <th>12</th>\n",
       "      <td>CannedFruit</td>\n",
       "      <td>Canned Grapes</td>\n",
       "      <td>100g</td>\n",
       "      <td>76 cal</td>\n",
       "      <td>319 kJ</td>\n",
       "      <td>76</td>\n",
       "    </tr>\n",
       "    <tr>\n",
       "      <th>13</th>\n",
       "      <td>CannedFruit</td>\n",
       "      <td>Canned Mandarin Oranges</td>\n",
       "      <td>100g</td>\n",
       "      <td>71 cal</td>\n",
       "      <td>298 kJ</td>\n",
       "      <td>71</td>\n",
       "    </tr>\n",
       "    <tr>\n",
       "      <th>14</th>\n",
       "      <td>CannedFruit</td>\n",
       "      <td>Canned Mango</td>\n",
       "      <td>100g</td>\n",
       "      <td>65 cal</td>\n",
       "      <td>273 kJ</td>\n",
       "      <td>65</td>\n",
       "    </tr>\n",
       "    <tr>\n",
       "      <th>15</th>\n",
       "      <td>CannedFruit</td>\n",
       "      <td>Canned Mangosteen</td>\n",
       "      <td>100g</td>\n",
       "      <td>73 cal</td>\n",
       "      <td>307 kJ</td>\n",
       "      <td>73</td>\n",
       "    </tr>\n",
       "    <tr>\n",
       "      <th>16</th>\n",
       "      <td>CannedFruit</td>\n",
       "      <td>Canned Mixed Fruit</td>\n",
       "      <td>100g</td>\n",
       "      <td>71 cal</td>\n",
       "      <td>298 kJ</td>\n",
       "      <td>71</td>\n",
       "    </tr>\n",
       "    <tr>\n",
       "      <th>17</th>\n",
       "      <td>CannedFruit</td>\n",
       "      <td>Canned Morello Cherries</td>\n",
       "      <td>100g</td>\n",
       "      <td>81 cal</td>\n",
       "      <td>340 kJ</td>\n",
       "      <td>81</td>\n",
       "    </tr>\n",
       "    <tr>\n",
       "      <th>18</th>\n",
       "      <td>CannedFruit</td>\n",
       "      <td>Canned Oranges</td>\n",
       "      <td>100g</td>\n",
       "      <td>62 cal</td>\n",
       "      <td>260 kJ</td>\n",
       "      <td>62</td>\n",
       "    </tr>\n",
       "    <tr>\n",
       "      <th>19</th>\n",
       "      <td>CannedFruit</td>\n",
       "      <td>Canned Peaches</td>\n",
       "      <td>100g</td>\n",
       "      <td>54 cal</td>\n",
       "      <td>227 kJ</td>\n",
       "      <td>54</td>\n",
       "    </tr>\n",
       "  </tbody>\n",
       "</table>\n",
       "</div>"
      ],
      "text/plain": [
       "   FoodCategory                      Food per100grams Cals_per100grams  \\\n",
       "0   CannedFruit                Applesauce        100g           62 cal   \n",
       "1   CannedFruit           Canned Apricots        100g           48 cal   \n",
       "2   CannedFruit       Canned Blackberries        100g           92 cal   \n",
       "3   CannedFruit        Canned Blueberries        100g           88 cal   \n",
       "4   CannedFruit           Canned Cherries        100g           54 cal   \n",
       "5   CannedFruit        Canned Cranberries        100g          178 cal   \n",
       "6   CannedFruit  Canned Crushed Pineapple        100g           53 cal   \n",
       "7   CannedFruit               Canned Figs        100g          107 cal   \n",
       "8   CannedFruit     Canned Fruit Cocktail        100g           81 cal   \n",
       "9   CannedFruit        Canned Fruit Salad        100g           50 cal   \n",
       "10  CannedFruit       Canned Gooseberries        100g           73 cal   \n",
       "11  CannedFruit         Canned Grapefruit        100g           37 cal   \n",
       "12  CannedFruit             Canned Grapes        100g           76 cal   \n",
       "13  CannedFruit   Canned Mandarin Oranges        100g           71 cal   \n",
       "14  CannedFruit              Canned Mango        100g           65 cal   \n",
       "15  CannedFruit         Canned Mangosteen        100g           73 cal   \n",
       "16  CannedFruit        Canned Mixed Fruit        100g           71 cal   \n",
       "17  CannedFruit   Canned Morello Cherries        100g           81 cal   \n",
       "18  CannedFruit            Canned Oranges        100g           62 cal   \n",
       "19  CannedFruit            Canned Peaches        100g           54 cal   \n",
       "\n",
       "   KJ_per100grams  cals/100g in integers  \n",
       "0          260 kJ                     62  \n",
       "1          202 kJ                     48  \n",
       "2          386 kJ                     92  \n",
       "3          370 kJ                     88  \n",
       "4          227 kJ                     54  \n",
       "5          748 kJ                    178  \n",
       "6          223 kJ                     53  \n",
       "7          449 kJ                    107  \n",
       "8          340 kJ                     81  \n",
       "9          210 kJ                     50  \n",
       "10         307 kJ                     73  \n",
       "11         155 kJ                     37  \n",
       "12         319 kJ                     76  \n",
       "13         298 kJ                     71  \n",
       "14         273 kJ                     65  \n",
       "15         307 kJ                     73  \n",
       "16         298 kJ                     71  \n",
       "17         340 kJ                     81  \n",
       "18         260 kJ                     62  \n",
       "19         227 kJ                     54  "
      ]
     },
     "execution_count": 279,
     "metadata": {},
     "output_type": "execute_result"
    }
   ],
   "source": [
    "calories_df.head(20)"
   ]
  },
  {
   "cell_type": "code",
   "execution_count": 277,
   "metadata": {},
   "outputs": [
    {
     "data": {
      "text/html": [
       "<div>\n",
       "<style scoped>\n",
       "    .dataframe tbody tr th:only-of-type {\n",
       "        vertical-align: middle;\n",
       "    }\n",
       "\n",
       "    .dataframe tbody tr th {\n",
       "        vertical-align: top;\n",
       "    }\n",
       "\n",
       "    .dataframe thead th {\n",
       "        text-align: right;\n",
       "    }\n",
       "</style>\n",
       "<table border=\"1\" class=\"dataframe\">\n",
       "  <thead>\n",
       "    <tr style=\"text-align: right;\">\n",
       "      <th></th>\n",
       "      <th>FoodCategory</th>\n",
       "      <th>Food</th>\n",
       "      <th>per100grams</th>\n",
       "      <th>Cals_per100grams</th>\n",
       "      <th>KJ_per100grams</th>\n",
       "      <th>cals/100g in integers</th>\n",
       "    </tr>\n",
       "  </thead>\n",
       "  <tbody>\n",
       "    <tr>\n",
       "      <th>2205</th>\n",
       "      <td>Spreads</td>\n",
       "      <td>Marmite</td>\n",
       "      <td>100g</td>\n",
       "      <td>225 cal</td>\n",
       "      <td>945 kJ</td>\n",
       "      <td>225</td>\n",
       "    </tr>\n",
       "    <tr>\n",
       "      <th>2206</th>\n",
       "      <td>Spreads</td>\n",
       "      <td>Marshmallow Fluff</td>\n",
       "      <td>100g</td>\n",
       "      <td>666 cal</td>\n",
       "      <td>2797 kJ</td>\n",
       "      <td>666</td>\n",
       "    </tr>\n",
       "    <tr>\n",
       "      <th>2207</th>\n",
       "      <td>Spreads</td>\n",
       "      <td>Nutella</td>\n",
       "      <td>100g</td>\n",
       "      <td>544 cal</td>\n",
       "      <td>2285 kJ</td>\n",
       "      <td>544</td>\n",
       "    </tr>\n",
       "    <tr>\n",
       "      <th>2208</th>\n",
       "      <td>Spreads</td>\n",
       "      <td>Olive Spread</td>\n",
       "      <td>100g</td>\n",
       "      <td>550 cal</td>\n",
       "      <td>2310 kJ</td>\n",
       "      <td>550</td>\n",
       "    </tr>\n",
       "    <tr>\n",
       "      <th>2209</th>\n",
       "      <td>Spreads</td>\n",
       "      <td>Pâté (720), Pate</td>\n",
       "      <td>100g</td>\n",
       "      <td>319 cal</td>\n",
       "      <td>1340 kJ</td>\n",
       "      <td>319</td>\n",
       "    </tr>\n",
       "    <tr>\n",
       "      <th>2210</th>\n",
       "      <td>Spreads</td>\n",
       "      <td>Peanut Butter</td>\n",
       "      <td>100g</td>\n",
       "      <td>589 cal</td>\n",
       "      <td>2474 kJ</td>\n",
       "      <td>589</td>\n",
       "    </tr>\n",
       "    <tr>\n",
       "      <th>2211</th>\n",
       "      <td>Spreads</td>\n",
       "      <td>Peter Pan Peanut Butter</td>\n",
       "      <td>100g</td>\n",
       "      <td>609 cal</td>\n",
       "      <td>2558 kJ</td>\n",
       "      <td>609</td>\n",
       "    </tr>\n",
       "    <tr>\n",
       "      <th>2212</th>\n",
       "      <td>Spreads</td>\n",
       "      <td>Philadelphia Cream Cheese</td>\n",
       "      <td>100g</td>\n",
       "      <td>342 cal</td>\n",
       "      <td>1436 kJ</td>\n",
       "      <td>342</td>\n",
       "    </tr>\n",
       "    <tr>\n",
       "      <th>2213</th>\n",
       "      <td>Spreads</td>\n",
       "      <td>Plum Jam</td>\n",
       "      <td>100g</td>\n",
       "      <td>250 cal</td>\n",
       "      <td>1050 kJ</td>\n",
       "      <td>250</td>\n",
       "    </tr>\n",
       "    <tr>\n",
       "      <th>2214</th>\n",
       "      <td>Spreads</td>\n",
       "      <td>Salted Butter</td>\n",
       "      <td>100g</td>\n",
       "      <td>717 cal</td>\n",
       "      <td>3011 kJ</td>\n",
       "      <td>717</td>\n",
       "    </tr>\n",
       "    <tr>\n",
       "      <th>2215</th>\n",
       "      <td>Spreads</td>\n",
       "      <td>Skippy Peanut Butter</td>\n",
       "      <td>100g</td>\n",
       "      <td>594 cal</td>\n",
       "      <td>2495 kJ</td>\n",
       "      <td>594</td>\n",
       "    </tr>\n",
       "    <tr>\n",
       "      <th>2216</th>\n",
       "      <td>Spreads</td>\n",
       "      <td>Smuckers Strawberry Jam</td>\n",
       "      <td>100g</td>\n",
       "      <td>250 cal</td>\n",
       "      <td>1050 kJ</td>\n",
       "      <td>250</td>\n",
       "    </tr>\n",
       "    <tr>\n",
       "      <th>2217</th>\n",
       "      <td>Spreads</td>\n",
       "      <td>Strawberry Jam</td>\n",
       "      <td>100g</td>\n",
       "      <td>250 cal</td>\n",
       "      <td>1050 kJ</td>\n",
       "      <td>250</td>\n",
       "    </tr>\n",
       "    <tr>\n",
       "      <th>2218</th>\n",
       "      <td>Spreads</td>\n",
       "      <td>Strawberry Jelly</td>\n",
       "      <td>100g</td>\n",
       "      <td>250 cal</td>\n",
       "      <td>1050 kJ</td>\n",
       "      <td>250</td>\n",
       "    </tr>\n",
       "    <tr>\n",
       "      <th>2219</th>\n",
       "      <td>Spreads</td>\n",
       "      <td>Sunbutter</td>\n",
       "      <td>100g</td>\n",
       "      <td>617 cal</td>\n",
       "      <td>2591 kJ</td>\n",
       "      <td>617</td>\n",
       "    </tr>\n",
       "    <tr>\n",
       "      <th>2220</th>\n",
       "      <td>Spreads</td>\n",
       "      <td>Sunflower Butter</td>\n",
       "      <td>100g</td>\n",
       "      <td>617 cal</td>\n",
       "      <td>2591 kJ</td>\n",
       "      <td>617</td>\n",
       "    </tr>\n",
       "    <tr>\n",
       "      <th>2221</th>\n",
       "      <td>Spreads</td>\n",
       "      <td>Tapenade</td>\n",
       "      <td>100g</td>\n",
       "      <td>233 cal</td>\n",
       "      <td>979 kJ</td>\n",
       "      <td>233</td>\n",
       "    </tr>\n",
       "    <tr>\n",
       "      <th>2222</th>\n",
       "      <td>Spreads</td>\n",
       "      <td>Unsalted Butter</td>\n",
       "      <td>100g</td>\n",
       "      <td>717 cal</td>\n",
       "      <td>3011 kJ</td>\n",
       "      <td>717</td>\n",
       "    </tr>\n",
       "    <tr>\n",
       "      <th>2223</th>\n",
       "      <td>Spreads</td>\n",
       "      <td>Vegemite</td>\n",
       "      <td>100g</td>\n",
       "      <td>180 cal</td>\n",
       "      <td>756 kJ</td>\n",
       "      <td>180</td>\n",
       "    </tr>\n",
       "    <tr>\n",
       "      <th>2224</th>\n",
       "      <td>Spreads</td>\n",
       "      <td>Wild Honey</td>\n",
       "      <td>100g</td>\n",
       "      <td>286 cal</td>\n",
       "      <td>1201 kJ</td>\n",
       "      <td>286</td>\n",
       "    </tr>\n",
       "  </tbody>\n",
       "</table>\n",
       "</div>"
      ],
      "text/plain": [
       "     FoodCategory                       Food per100grams Cals_per100grams  \\\n",
       "2205      Spreads                    Marmite        100g          225 cal   \n",
       "2206      Spreads          Marshmallow Fluff        100g          666 cal   \n",
       "2207      Spreads                    Nutella        100g          544 cal   \n",
       "2208      Spreads               Olive Spread        100g          550 cal   \n",
       "2209      Spreads           Pâté (720), Pate        100g          319 cal   \n",
       "2210      Spreads              Peanut Butter        100g          589 cal   \n",
       "2211      Spreads    Peter Pan Peanut Butter        100g          609 cal   \n",
       "2212      Spreads  Philadelphia Cream Cheese        100g          342 cal   \n",
       "2213      Spreads                   Plum Jam        100g          250 cal   \n",
       "2214      Spreads              Salted Butter        100g          717 cal   \n",
       "2215      Spreads       Skippy Peanut Butter        100g          594 cal   \n",
       "2216      Spreads    Smuckers Strawberry Jam        100g          250 cal   \n",
       "2217      Spreads             Strawberry Jam        100g          250 cal   \n",
       "2218      Spreads           Strawberry Jelly        100g          250 cal   \n",
       "2219      Spreads                  Sunbutter        100g          617 cal   \n",
       "2220      Spreads           Sunflower Butter        100g          617 cal   \n",
       "2221      Spreads                   Tapenade        100g          233 cal   \n",
       "2222      Spreads            Unsalted Butter        100g          717 cal   \n",
       "2223      Spreads                   Vegemite        100g          180 cal   \n",
       "2224      Spreads                 Wild Honey        100g          286 cal   \n",
       "\n",
       "     KJ_per100grams  cals/100g in integers  \n",
       "2205         945 kJ                    225  \n",
       "2206        2797 kJ                    666  \n",
       "2207        2285 kJ                    544  \n",
       "2208        2310 kJ                    550  \n",
       "2209        1340 kJ                    319  \n",
       "2210        2474 kJ                    589  \n",
       "2211        2558 kJ                    609  \n",
       "2212        1436 kJ                    342  \n",
       "2213        1050 kJ                    250  \n",
       "2214        3011 kJ                    717  \n",
       "2215        2495 kJ                    594  \n",
       "2216        1050 kJ                    250  \n",
       "2217        1050 kJ                    250  \n",
       "2218        1050 kJ                    250  \n",
       "2219        2591 kJ                    617  \n",
       "2220        2591 kJ                    617  \n",
       "2221         979 kJ                    233  \n",
       "2222        3011 kJ                    717  \n",
       "2223         756 kJ                    180  \n",
       "2224        1201 kJ                    286  "
      ]
     },
     "execution_count": 277,
     "metadata": {},
     "output_type": "execute_result"
    }
   ],
   "source": [
    "calories_df.tail(20)"
   ]
  },
  {
   "cell_type": "code",
   "execution_count": null,
   "metadata": {},
   "outputs": [],
   "source": []
  }
 ],
 "metadata": {
  "kernelspec": {
   "display_name": "databehandling",
   "language": "python",
   "name": "python3"
  },
  "language_info": {
   "codemirror_mode": {
    "name": "ipython",
    "version": 3
   },
   "file_extension": ".py",
   "mimetype": "text/x-python",
   "name": "python",
   "nbconvert_exporter": "python",
   "pygments_lexer": "ipython3",
   "version": "3.11.5"
  }
 },
 "nbformat": 4,
 "nbformat_minor": 2
}
